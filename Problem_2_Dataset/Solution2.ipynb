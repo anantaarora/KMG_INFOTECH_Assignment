{
 "cells": [
  {
   "cell_type": "markdown",
   "metadata": {
    "colab_type": "text",
    "id": "bkIgZDnQ1SMi"
   },
   "source": [
    "#### The Challenge Your task is to find out meaningful information from the dataset. \n",
    "- The dataset can help you find out like: \n",
    "- Which hashtags are used mostly quarterly? \n",
    "- What words are most often used in the tweets monthly or quarterly? \n",
    "- Find Tweets (if any) which share personal information like (email id, mobile number)? \n",
    "- Plot a time-series of number of tweets monthly?\n",
    "- Which period shows the highest growth in tweets.\n",
    "- Find the most popular bi-grams or tri-grams used in the tweets? \n",
    "- You can figure out more such insights about dataset. "
   ]
  },
  {
   "cell_type": "code",
   "execution_count": 201,
   "metadata": {
    "colab": {},
    "colab_type": "code",
    "id": "empze2PS1SMj"
   },
   "outputs": [],
   "source": [
    "import re\n",
    "import nltk\n",
    "import numpy as np\n",
    "import pandas as pd\n",
    "from nltk.tokenize import word_tokenize\n",
    "from nltk.corpus import stopwords\n",
    "import matplotlib.pyplot as plt\n",
    "import seaborn as sns"
   ]
  },
  {
   "cell_type": "code",
   "execution_count": 202,
   "metadata": {
    "colab": {},
    "colab_type": "code",
    "id": "kIukZyv33qEl"
   },
   "outputs": [],
   "source": [
    "from google.colab import drive"
   ]
  },
  {
   "cell_type": "code",
   "execution_count": 203,
   "metadata": {
    "colab": {
     "base_uri": "https://localhost:8080/",
     "height": 33
    },
    "colab_type": "code",
    "id": "nFKUfy9X3t9l",
    "outputId": "63f1932a-a0d1-4d1a-e875-204932f82eb8"
   },
   "outputs": [
    {
     "name": "stdout",
     "output_type": "stream",
     "text": [
      "Drive already mounted at /content/drive; to attempt to forcibly remount, call drive.mount(\"/content/drive\", force_remount=True).\n"
     ]
    }
   ],
   "source": [
    "drive.mount(\"/content/drive\")"
   ]
  },
  {
   "cell_type": "code",
   "execution_count": 204,
   "metadata": {
    "colab": {},
    "colab_type": "code",
    "id": "2KdypwpdPTjl"
   },
   "outputs": [],
   "source": [
    "path  =(\"/content/drive/My Drive/Dataset/\")"
   ]
  },
  {
   "cell_type": "code",
   "execution_count": 205,
   "metadata": {
    "colab": {
     "base_uri": "https://localhost:8080/",
     "height": 73,
     "resources": {
      "http://localhost:8080/nbextensions/google.colab/files.js": {
       "data": "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",
       "headers": [
        [
         "content-type",
         "application/javascript"
        ]
       ],
       "ok": true,
       "status": 200,
       "status_text": ""
      }
     }
    },
    "colab_type": "code",
    "id": "9gVS4NLN1T-C",
    "outputId": "458c8763-670b-48fa-e6d4-3169d7102120"
   },
   "outputs": [
    {
     "data": {
      "text/html": [
       "\n",
       "     <input type=\"file\" id=\"files-e48dfe2c-9745-4394-afd6-75c5151a31d0\" name=\"files[]\" multiple disabled\n",
       "        style=\"border:none\" />\n",
       "     <output id=\"result-e48dfe2c-9745-4394-afd6-75c5151a31d0\">\n",
       "      Upload widget is only available when the cell has been executed in the\n",
       "      current browser session. Please rerun this cell to enable.\n",
       "      </output>\n",
       "      <script src=\"/nbextensions/google.colab/files.js\"></script> "
      ],
      "text/plain": [
       "<IPython.core.display.HTML object>"
      ]
     },
     "metadata": {
      "tags": []
     },
     "output_type": "display_data"
    },
    {
     "name": "stdout",
     "output_type": "stream",
     "text": [
      "Saving tweets_dataset.csv to tweets_dataset (2).csv\n"
     ]
    }
   ],
   "source": [
    "from google.colab import files\n",
    "uploaded = files.upload()"
   ]
  },
  {
   "cell_type": "code",
   "execution_count": 206,
   "metadata": {
    "colab": {},
    "colab_type": "code",
    "id": "JA5h3r4i1SMo"
   },
   "outputs": [],
   "source": [
    "data = pd.read_csv(r\"tweets_dataset.csv\")"
   ]
  },
  {
   "cell_type": "code",
   "execution_count": 207,
   "metadata": {
    "colab": {
     "base_uri": "https://localhost:8080/",
     "height": 467
    },
    "colab_type": "code",
    "id": "38qc257V1SMr",
    "outputId": "31a226cc-6ce6-4b98-8e47-42e60aff29e1"
   },
   "outputs": [
    {
     "data": {
      "text/html": [
       "<div>\n",
       "<style scoped>\n",
       "    .dataframe tbody tr th:only-of-type {\n",
       "        vertical-align: middle;\n",
       "    }\n",
       "\n",
       "    .dataframe tbody tr th {\n",
       "        vertical-align: top;\n",
       "    }\n",
       "\n",
       "    .dataframe thead th {\n",
       "        text-align: right;\n",
       "    }\n",
       "</style>\n",
       "<table border=\"1\" class=\"dataframe\">\n",
       "  <thead>\n",
       "    <tr style=\"text-align: right;\">\n",
       "      <th></th>\n",
       "      <th>id</th>\n",
       "      <th>conversation_id</th>\n",
       "      <th>created_at</th>\n",
       "      <th>date</th>\n",
       "      <th>time</th>\n",
       "      <th>timezone</th>\n",
       "      <th>user_id</th>\n",
       "      <th>username</th>\n",
       "      <th>name</th>\n",
       "      <th>place</th>\n",
       "      <th>tweet</th>\n",
       "      <th>mentions</th>\n",
       "      <th>urls</th>\n",
       "      <th>photos</th>\n",
       "      <th>replies_count</th>\n",
       "      <th>retweets_count</th>\n",
       "      <th>likes_count</th>\n",
       "      <th>hashtags</th>\n",
       "      <th>cashtags</th>\n",
       "      <th>link</th>\n",
       "      <th>retweet</th>\n",
       "      <th>quote_url</th>\n",
       "      <th>video</th>\n",
       "      <th>near</th>\n",
       "      <th>geo</th>\n",
       "      <th>source</th>\n",
       "      <th>user_rt_id</th>\n",
       "      <th>user_rt</th>\n",
       "      <th>retweet_id</th>\n",
       "      <th>reply_to</th>\n",
       "      <th>retweet_date</th>\n",
       "    </tr>\n",
       "  </thead>\n",
       "  <tbody>\n",
       "    <tr>\n",
       "      <th>0</th>\n",
       "      <td>1186038116517212160</td>\n",
       "      <td>1186038116517212160</td>\n",
       "      <td>1571608497000</td>\n",
       "      <td>2019-10-21</td>\n",
       "      <td>03:24:57</td>\n",
       "      <td>India Standard Time</td>\n",
       "      <td>1120190790406262785</td>\n",
       "      <td>tortoisehq</td>\n",
       "      <td>Tortoise</td>\n",
       "      <td>NaN</td>\n",
       "      <td>Shared micromobility is a global phenomenon. C...</td>\n",
       "      <td>['bounceshare']</td>\n",
       "      <td>['https://twitter.com/vivekanandahr/status/118...</td>\n",
       "      <td>[]</td>\n",
       "      <td>0</td>\n",
       "      <td>0</td>\n",
       "      <td>3</td>\n",
       "      <td>[]</td>\n",
       "      <td>[]</td>\n",
       "      <td>https://twitter.com/TortoiseHQ/status/11860381...</td>\n",
       "      <td>False</td>\n",
       "      <td>https://twitter.com/vivekanandahr/status/11857...</td>\n",
       "      <td>0</td>\n",
       "      <td>NaN</td>\n",
       "      <td>NaN</td>\n",
       "      <td>NaN</td>\n",
       "      <td>NaN</td>\n",
       "      <td>NaN</td>\n",
       "      <td>NaN</td>\n",
       "      <td>[{'user_id': '1120190790406262785', 'username'...</td>\n",
       "      <td>NaN</td>\n",
       "    </tr>\n",
       "    <tr>\n",
       "      <th>1</th>\n",
       "      <td>1186002436344823809</td>\n",
       "      <td>1185908839184420870</td>\n",
       "      <td>1571599990000</td>\n",
       "      <td>2019-10-21</td>\n",
       "      <td>01:03:10</td>\n",
       "      <td>India Standard Time</td>\n",
       "      <td>2998467036</td>\n",
       "      <td>pbuhpbuh</td>\n",
       "      <td>Secularians</td>\n",
       "      <td>NaN</td>\n",
       "      <td>It's like a standing joke</td>\n",
       "      <td>['bengaluru2050', 'vogo_rentals', 'drivezyin',...</td>\n",
       "      <td>[]</td>\n",
       "      <td>[]</td>\n",
       "      <td>0</td>\n",
       "      <td>0</td>\n",
       "      <td>0</td>\n",
       "      <td>[]</td>\n",
       "      <td>[]</td>\n",
       "      <td>https://twitter.com/pbuhpbuh/status/1186002436...</td>\n",
       "      <td>False</td>\n",
       "      <td>NaN</td>\n",
       "      <td>0</td>\n",
       "      <td>NaN</td>\n",
       "      <td>NaN</td>\n",
       "      <td>NaN</td>\n",
       "      <td>NaN</td>\n",
       "      <td>NaN</td>\n",
       "      <td>NaN</td>\n",
       "      <td>[{'user_id': '2998467036', 'username': 'pbuhpb...</td>\n",
       "      <td>NaN</td>\n",
       "    </tr>\n",
       "    <tr>\n",
       "      <th>2</th>\n",
       "      <td>1185995725932384256</td>\n",
       "      <td>1185995725932384256</td>\n",
       "      <td>1571598390000</td>\n",
       "      <td>2019-10-21</td>\n",
       "      <td>00:36:30</td>\n",
       "      <td>India Standard Time</td>\n",
       "      <td>776338794018578432</td>\n",
       "      <td>mikebarman46</td>\n",
       "      <td>𝐇𝐫𝐢𝐝𝐨𝐲 𝐁𝐚𝐫𝐦𝐚𝐧</td>\n",
       "      <td>NaN</td>\n",
       "      <td>First time in Bangalore Alip drive a @bouncesh...</td>\n",
       "      <td>['bounceshare']</td>\n",
       "      <td>['https://www.instagram.com/p/B32d8UllG_X/?igs...</td>\n",
       "      <td>[]</td>\n",
       "      <td>0</td>\n",
       "      <td>0</td>\n",
       "      <td>0</td>\n",
       "      <td>[]</td>\n",
       "      <td>[]</td>\n",
       "      <td>https://twitter.com/mikebarman46/status/118599...</td>\n",
       "      <td>False</td>\n",
       "      <td>NaN</td>\n",
       "      <td>0</td>\n",
       "      <td>NaN</td>\n",
       "      <td>NaN</td>\n",
       "      <td>NaN</td>\n",
       "      <td>NaN</td>\n",
       "      <td>NaN</td>\n",
       "      <td>NaN</td>\n",
       "      <td>[{'user_id': '776338794018578432', 'username':...</td>\n",
       "      <td>NaN</td>\n",
       "    </tr>\n",
       "    <tr>\n",
       "      <th>3</th>\n",
       "      <td>1185987970655899648</td>\n",
       "      <td>1185764670323322882</td>\n",
       "      <td>1571596541000</td>\n",
       "      <td>2019-10-21</td>\n",
       "      <td>00:05:41</td>\n",
       "      <td>India Standard Time</td>\n",
       "      <td>932331998</td>\n",
       "      <td>nilesh_sonagra</td>\n",
       "      <td>Nilesh Sonagra</td>\n",
       "      <td>NaN</td>\n",
       "      <td>With helmet you also.consider to put some tiss...</td>\n",
       "      <td>['vivekanandahr', 'bounceshare']</td>\n",
       "      <td>[]</td>\n",
       "      <td>[]</td>\n",
       "      <td>0</td>\n",
       "      <td>0</td>\n",
       "      <td>1</td>\n",
       "      <td>[]</td>\n",
       "      <td>[]</td>\n",
       "      <td>https://twitter.com/nilesh_sonagra/status/1185...</td>\n",
       "      <td>False</td>\n",
       "      <td>NaN</td>\n",
       "      <td>0</td>\n",
       "      <td>NaN</td>\n",
       "      <td>NaN</td>\n",
       "      <td>NaN</td>\n",
       "      <td>NaN</td>\n",
       "      <td>NaN</td>\n",
       "      <td>NaN</td>\n",
       "      <td>[{'user_id': '932331998', 'username': 'nilesh_...</td>\n",
       "      <td>NaN</td>\n",
       "    </tr>\n",
       "    <tr>\n",
       "      <th>4</th>\n",
       "      <td>1185965893819367424</td>\n",
       "      <td>1185802096425091072</td>\n",
       "      <td>1571591277000</td>\n",
       "      <td>2019-10-20</td>\n",
       "      <td>22:37:57</td>\n",
       "      <td>India Standard Time</td>\n",
       "      <td>175297154</td>\n",
       "      <td>sandeepmtandon</td>\n",
       "      <td>Sandeep Tandon</td>\n",
       "      <td>NaN</td>\n",
       "      <td>Wow great job.</td>\n",
       "      <td>['tejeshwi_sharma', 'shaileshlakhani', 'sequoi...</td>\n",
       "      <td>[]</td>\n",
       "      <td>[]</td>\n",
       "      <td>0</td>\n",
       "      <td>0</td>\n",
       "      <td>1</td>\n",
       "      <td>[]</td>\n",
       "      <td>[]</td>\n",
       "      <td>https://twitter.com/sandeepmtandon/status/1185...</td>\n",
       "      <td>False</td>\n",
       "      <td>NaN</td>\n",
       "      <td>0</td>\n",
       "      <td>NaN</td>\n",
       "      <td>NaN</td>\n",
       "      <td>NaN</td>\n",
       "      <td>NaN</td>\n",
       "      <td>NaN</td>\n",
       "      <td>NaN</td>\n",
       "      <td>[{'user_id': '175297154', 'username': 'sandeep...</td>\n",
       "      <td>NaN</td>\n",
       "    </tr>\n",
       "  </tbody>\n",
       "</table>\n",
       "</div>"
      ],
      "text/plain": [
       "                    id  ...  retweet_date\n",
       "0  1186038116517212160  ...           NaN\n",
       "1  1186002436344823809  ...           NaN\n",
       "2  1185995725932384256  ...           NaN\n",
       "3  1185987970655899648  ...           NaN\n",
       "4  1185965893819367424  ...           NaN\n",
       "\n",
       "[5 rows x 31 columns]"
      ]
     },
     "execution_count": 207,
     "metadata": {
      "tags": []
     },
     "output_type": "execute_result"
    }
   ],
   "source": [
    "data.head()"
   ]
  },
  {
   "cell_type": "markdown",
   "metadata": {
    "colab_type": "text",
    "id": "DvaQGaYwrPSM"
   },
   "source": [
    "### Data Preprocessing"
   ]
  },
  {
   "cell_type": "code",
   "execution_count": 208,
   "metadata": {
    "colab": {
     "base_uri": "https://localhost:8080/",
     "height": 217
    },
    "colab_type": "code",
    "id": "rsswNqrj1SMv",
    "outputId": "c6f7e42a-613c-4606-ceb2-ae010f21d6f4"
   },
   "outputs": [
    {
     "data": {
      "text/plain": [
       "2019-05-15    374\n",
       "2019-05-16    271\n",
       "2019-04-25    263\n",
       "2019-06-05    176\n",
       "2019-10-09    158\n",
       "             ... \n",
       "2019-02-10      1\n",
       "2019-03-17      1\n",
       "2019-04-14      1\n",
       "2019-04-18      1\n",
       "2019-02-03      1\n",
       "Name: date, Length: 293, dtype: int64"
      ]
     },
     "execution_count": 208,
     "metadata": {
      "tags": []
     },
     "output_type": "execute_result"
    }
   ],
   "source": [
    "data.date.value_counts()"
   ]
  },
  {
   "cell_type": "code",
   "execution_count": 209,
   "metadata": {
    "colab": {
     "base_uri": "https://localhost:8080/",
     "height": 134
    },
    "colab_type": "code",
    "id": "wzIFnWlJ1SMy",
    "outputId": "7b63b2b6-bf6f-475a-b452-efc3040defd6"
   },
   "outputs": [
    {
     "data": {
      "text/plain": [
       "Index(['id', 'conversation_id', 'created_at', 'date', 'time', 'timezone',\n",
       "       'user_id', 'username', 'name', 'place', 'tweet', 'mentions', 'urls',\n",
       "       'photos', 'replies_count', 'retweets_count', 'likes_count', 'hashtags',\n",
       "       'cashtags', 'link', 'retweet', 'quote_url', 'video', 'near', 'geo',\n",
       "       'source', 'user_rt_id', 'user_rt', 'retweet_id', 'reply_to',\n",
       "       'retweet_date'],\n",
       "      dtype='object')"
      ]
     },
     "execution_count": 209,
     "metadata": {
      "tags": []
     },
     "output_type": "execute_result"
    }
   ],
   "source": [
    "data.columns"
   ]
  },
  {
   "cell_type": "code",
   "execution_count": 210,
   "metadata": {
    "colab": {},
    "colab_type": "code",
    "id": "qU7IalH21SM1"
   },
   "outputs": [],
   "source": [
    "sentences = data['tweet']"
   ]
  },
  {
   "cell_type": "code",
   "execution_count": 211,
   "metadata": {
    "colab": {
     "base_uri": "https://localhost:8080/",
     "height": 35
    },
    "colab_type": "code",
    "id": "oHq6qN1E1SM3",
    "outputId": "b2f8c461-dec8-49ff-d2d0-1a1ee739a1c9"
   },
   "outputs": [
    {
     "data": {
      "application/vnd.google.colaboratory.intrinsic+json": {
       "type": "string"
      },
      "text/plain": [
       "'Shared micromobility is a global phenomenon. Congrats @bounceshare!  https://twitter.com/vivekanandahr/status/1185764670323322882\\xa0…'"
      ]
     },
     "execution_count": 211,
     "metadata": {
      "tags": []
     },
     "output_type": "execute_result"
    }
   ],
   "source": [
    "sentences[0]"
   ]
  },
  {
   "cell_type": "markdown",
   "metadata": {
    "colab_type": "text",
    "id": "tGX5QavyrX0F"
   },
   "source": [
    "#### Lets check the distribution of tweets"
   ]
  },
  {
   "cell_type": "code",
   "execution_count": 212,
   "metadata": {
    "colab": {
     "base_uri": "https://localhost:8080/",
     "height": 283
    },
    "colab_type": "code",
    "id": "6-I3j1U_1SM7",
    "outputId": "b4d3c4c2-4d96-44f2-ea76-71143b501fdb"
   },
   "outputs": [
    {
     "data": {
      "text/plain": [
       "<matplotlib.axes._subplots.AxesSubplot at 0x7fc7f454c908>"
      ]
     },
     "execution_count": 212,
     "metadata": {
      "tags": []
     },
     "output_type": "execute_result"
    },
    {
     "data": {
      "image/png": "[encoded data removed]",
      "text/plain": [
       "<Figure size 432x288 with 1 Axes>"
      ]
     },
     "metadata": {
      "needs_background": "light",
      "tags": []
     },
     "output_type": "display_data"
    }
   ],
   "source": [
    "data['tweet'].str.len().plot.hist()"
   ]
  },
  {
   "cell_type": "markdown",
   "metadata": {
    "colab_type": "text",
    "id": "5jn36iDz1SM9"
   },
   "source": [
    "#### Let's first generate a frequency table of all the words present in all the tweets combined."
   ]
  },
  {
   "cell_type": "code",
   "execution_count": 213,
   "metadata": {
    "colab": {
     "base_uri": "https://localhost:8080/",
     "height": 217
    },
    "colab_type": "code",
    "id": "jqKtV1bG1SM9",
    "outputId": "f23b36d7-d68d-4458-ac2e-3cdb58f63028"
   },
   "outputs": [
    {
     "data": {
      "text/plain": [
       "the                           9408\n",
       "to                            8761\n",
       "and                           5461\n",
       "for                           4804\n",
       "We                            4559\n",
       "                              ... \n",
       "tixkets,                         1\n",
       "Raiju,                           1\n",
       "respite                          1\n",
       "ಚೇತರಿಸಿ                          1\n",
       "pic.twitter.com/2SQjy5XOdM       1\n",
       "Length: 28488, dtype: int64"
      ]
     },
     "execution_count": 213,
     "metadata": {
      "tags": []
     },
     "output_type": "execute_result"
    }
   ],
   "source": [
    "def gen_freq(text):\n",
    "    \n",
    "    word_list = []\n",
    "\n",
    "    #Loop over all the tweets and extract words into word_list\n",
    "    for tw_words in text.split():\n",
    "        word_list.extend(tw_words)\n",
    "\n",
    "    word_freq = pd.Series(word_list).value_counts()\n",
    "\n",
    "    word_freq[:20]\n",
    "    \n",
    "    return word_freq\n",
    "\n",
    "gen_freq(data.tweet.str)"
   ]
  },
  {
   "cell_type": "markdown",
   "metadata": {
    "colab_type": "text",
    "id": "JpuputVf1SNA"
   },
   "source": [
    "- We can observe that words like \"the\", \"to\", \"and\" have high frequencies.\n",
    "- Lets store the frequently occuring words in a list "
   ]
  },
  {
   "cell_type": "code",
   "execution_count": 214,
   "metadata": {
    "colab": {},
    "colab_type": "code",
    "id": "ottCw3iA1SNA"
   },
   "outputs": [],
   "source": [
    "\n",
    "all_words = []\n",
    "import collections\n",
    "for line in list(data['tweet']):\n",
    "    words = line.split()\n",
    "    for word in words:\n",
    "        all_words.append(word.lower())\n",
    "    \n",
    "    \n",
    "etr = collections.Counter(all_words)"
   ]
  },
  {
   "cell_type": "code",
   "execution_count": 215,
   "metadata": {
    "colab": {
     "base_uri": "https://localhost:8080/",
     "height": 100
    },
    "colab_type": "code",
    "id": "cp73Sj-U2Sjn",
    "outputId": "2d44b63d-5fb4-4141-c0b3-a221780249d4"
   },
   "outputs": [
    {
     "name": "stdout",
     "output_type": "stream",
     "text": [
      "[nltk_data] Downloading package stopwords to /root/nltk_data...\n",
      "[nltk_data]   Package stopwords is already up-to-date!\n",
      "[nltk_data] Downloading package punkt to /root/nltk_data...\n",
      "[nltk_data]   Package punkt is already up-to-date!\n"
     ]
    },
    {
     "data": {
      "text/plain": [
       "True"
      ]
     },
     "execution_count": 215,
     "metadata": {
      "tags": []
     },
     "output_type": "execute_result"
    }
   ],
   "source": [
    "import nltk\n",
    "nltk.download('stopwords')\n",
    "nltk.download('punkt')"
   ]
  },
  {
   "cell_type": "markdown",
   "metadata": {
    "colab_type": "text",
    "id": "dPc3OvIzsgoB"
   },
   "source": [
    "#### Tokenizing tweets "
   ]
  },
  {
   "cell_type": "code",
   "execution_count": 216,
   "metadata": {
    "colab": {
     "base_uri": "https://localhost:8080/",
     "height": 117
    },
    "colab_type": "code",
    "id": "mxCc6BXo1SND",
    "outputId": "43c9638b-e026-48b2-afba-dc33b43b9403"
   },
   "outputs": [
    {
     "data": {
      "text/plain": [
       "0    [Shared, micromobility, is, a, global, phenome...\n",
       "1                    [It, 's, like, a, standing, joke]\n",
       "2    [First, time, in, Bangalore, Alip, drive, a, @...\n",
       "3    [With, helmet, you, also.consider, to, put, so...\n",
       "4                                 [Wow, great, job, .]\n",
       "Name: tweets, dtype: object"
      ]
     },
     "execution_count": 216,
     "metadata": {
      "tags": []
     },
     "output_type": "execute_result"
    }
   ],
   "source": [
    "\n",
    "from string import punctuation\n",
    "\n",
    "stop_words = list(set(stopwords.words('english')))\n",
    "\n",
    "\n",
    "def process(tweet):\n",
    "    #tokenize\n",
    "    tokenized = word_tokenize(tweet)\n",
    "    return tokenized\n",
    "\n",
    "data['tweets'] = data['tweet'].apply(process)\n",
    "\n",
    "data['tweets'].head()"
   ]
  },
  {
   "cell_type": "markdown",
   "metadata": {
    "colab_type": "text",
    "id": "OM1rxH3Qs-Nk"
   },
   "source": [
    "### Analysing the  most common words "
   ]
  },
  {
   "cell_type": "code",
   "execution_count": 217,
   "metadata": {
    "colab": {
     "base_uri": "https://localhost:8080/",
     "height": 184
    },
    "colab_type": "code",
    "id": "j2ZsX8b11SNG",
    "outputId": "4cdd1e5d-bdd3-4734-86e4-83bc328498e2"
   },
   "outputs": [
    {
     "data": {
      "text/plain": [
       "[('.', 16740),\n",
       " ('@', 12827),\n",
       " ('the', 9414),\n",
       " ('to', 8783),\n",
       " (',', 8035),\n",
       " ('and', 5467),\n",
       " ('you', 5119),\n",
       " ('for', 4835),\n",
       " ('#', 4742),\n",
       " ('We', 4685)]"
      ]
     },
     "execution_count": 217,
     "metadata": {
      "tags": []
     },
     "output_type": "execute_result"
    }
   ],
   "source": [
    "from collections import Counter\n",
    "new_words = Counter()\n",
    "for idx in data.index:\n",
    "    new_words.update(data.loc[idx, \"tweets\"])\n",
    "\n",
    "new_words.most_common(10)"
   ]
  },
  {
   "cell_type": "code",
   "execution_count": 218,
   "metadata": {
    "colab": {
     "base_uri": "https://localhost:8080/",
     "height": 196
    },
    "colab_type": "code",
    "id": "xUkcM5QR1SNI",
    "outputId": "62f9b44a-f178-44e8-afc5-65b804d2ce8b"
   },
   "outputs": [
    {
     "data": {
      "text/html": [
       "<div>\n",
       "<style scoped>\n",
       "    .dataframe tbody tr th:only-of-type {\n",
       "        vertical-align: middle;\n",
       "    }\n",
       "\n",
       "    .dataframe tbody tr th {\n",
       "        vertical-align: top;\n",
       "    }\n",
       "\n",
       "    .dataframe thead th {\n",
       "        text-align: right;\n",
       "    }\n",
       "</style>\n",
       "<table border=\"1\" class=\"dataframe\">\n",
       "  <thead>\n",
       "    <tr style=\"text-align: right;\">\n",
       "      <th></th>\n",
       "      <th>words</th>\n",
       "      <th>count</th>\n",
       "    </tr>\n",
       "  </thead>\n",
       "  <tbody>\n",
       "    <tr>\n",
       "      <th>0</th>\n",
       "      <td>.</td>\n",
       "      <td>16740</td>\n",
       "    </tr>\n",
       "    <tr>\n",
       "      <th>1</th>\n",
       "      <td>@</td>\n",
       "      <td>12827</td>\n",
       "    </tr>\n",
       "    <tr>\n",
       "      <th>2</th>\n",
       "      <td>the</td>\n",
       "      <td>9414</td>\n",
       "    </tr>\n",
       "    <tr>\n",
       "      <th>3</th>\n",
       "      <td>to</td>\n",
       "      <td>8783</td>\n",
       "    </tr>\n",
       "    <tr>\n",
       "      <th>4</th>\n",
       "      <td>,</td>\n",
       "      <td>8035</td>\n",
       "    </tr>\n",
       "  </tbody>\n",
       "</table>\n",
       "</div>"
      ],
      "text/plain": [
       "  words  count\n",
       "0     .  16740\n",
       "1     @  12827\n",
       "2   the   9414\n",
       "3    to   8783\n",
       "4     ,   8035"
      ]
     },
     "execution_count": 218,
     "metadata": {
      "tags": []
     },
     "output_type": "execute_result"
    }
   ],
   "source": [
    "# Creating a dataframe for most common words\n",
    "most_common = pd.DataFrame(new_words.most_common(15),\n",
    "                             columns=['words', 'count'])\n",
    "most_common.head()"
   ]
  },
  {
   "cell_type": "markdown",
   "metadata": {
    "colab_type": "text",
    "id": "JI2F8JlbtR_-"
   },
   "source": [
    "#### Lets plot the most common words"
   ]
  },
  {
   "cell_type": "code",
   "execution_count": 219,
   "metadata": {
    "colab": {
     "base_uri": "https://localhost:8080/",
     "height": 499
    },
    "colab_type": "code",
    "id": "Rn7jyGNO1SNK",
    "outputId": "2e7f8937-5988-466b-beca-3f104aca40be"
   },
   "outputs": [
    {
     "data": {
      "image/png": "[encoded data removed]",
      "text/plain": [
       "<Figure size 576x576 with 1 Axes>"
      ]
     },
     "metadata": {
      "needs_background": "light",
      "tags": []
     },
     "output_type": "display_data"
    }
   ],
   "source": [
    "fig, ax = plt.subplots(figsize=(8, 8))\n",
    "\n",
    "# Plot horizontal bar graph\n",
    "most_common.sort_values(by='count').plot.barh(x='words',\n",
    "                      y='count',\n",
    "                      ax=ax,\n",
    "                      color=\"purple\")\n",
    "\n",
    "ax.set_title(\"Common Words Found in Tweets (Without Stop or Collection Words)\")\n",
    "\n",
    "plt.show()"
   ]
  },
  {
   "cell_type": "markdown",
   "metadata": {
    "colab_type": "text",
    "id": "XpYaAEdAtgMs"
   },
   "source": [
    "### Data Cleaning\n"
   ]
  },
  {
   "cell_type": "markdown",
   "metadata": {
    "colab_type": "text",
    "id": "vIYul0sJ1SNN"
   },
   "source": [
    "#### Top words after data cleaning"
   ]
  },
  {
   "cell_type": "code",
   "execution_count": 220,
   "metadata": {
    "colab": {
     "base_uri": "https://localhost:8080/",
     "height": 117
    },
    "colab_type": "code",
    "id": "Ml7uA11W1SNN",
    "outputId": "d16c02fd-ff4e-4c37-8905-b1fc59cf5c8c"
   },
   "outputs": [
    {
     "data": {
      "text/plain": [
       "0    [shared, micromobility, global, phenomenon, co...\n",
       "1                               [like, standing, joke]\n",
       "2    [first, time, bangalore, alip, drive, really, ...\n",
       "3    [helmet, also, consider, put, tissue, paper, w...\n",
       "4                                    [wow, great, job]\n",
       "Name: clean, dtype: object"
      ]
     },
     "execution_count": 220,
     "metadata": {
      "tags": []
     },
     "output_type": "execute_result"
    }
   ],
   "source": [
    "\n",
    "from string import punctuation\n",
    "\n",
    "stop_words = list(set(stopwords.words('english')))\n",
    "\n",
    "\n",
    "def processTweet(tweet):\n",
    "    # Remove HTML special entities (e.g. &amp;)\n",
    "    tweet = re.sub(r'\\&\\w*;', '', tweet)\n",
    "    #Convert @username to AT_USER\n",
    "    tweet = re.sub('@[^\\s]+','',tweet)\n",
    "    # Remove tickers\n",
    "    tweet = re.sub(r'\\$\\w*', '', tweet)\n",
    "    # To lowercase\n",
    "    tweet = tweet.lower()\n",
    "    # Remove hyperlinks\n",
    "    tweet = re.sub(r'https?:\\/\\/.*\\/\\w*', '', tweet)\n",
    "    # Remove hashtags\n",
    "    tweet = re.sub(r'#\\w*', '', tweet)\n",
    "    # Remove Punctuation and split 's, 't, 've with a space for filter\n",
    "    tweet = re.sub(r'[' + punctuation.replace('@', '') + ']+', ' ', tweet)\n",
    "    # Remove words with 2 or fewer letters\n",
    "    tweet = re.sub(r'\\b\\w{1,2}\\b', '', tweet)\n",
    "    # Remove whitespace (including new line characters)\n",
    "    tweet = re.sub(r'\\s\\s+', ' ', tweet)\n",
    "    tweet = re.sub('[^ a-zA-Z0-9]', '', tweet)\n",
    "    tweet = re.sub('[0-9]', '', tweet)\n",
    "    # Remove single space remaining at the front of the tweet.\n",
    "    #tokenize\n",
    "    tokenized = word_tokenize(tweet)\n",
    "    \n",
    "    #remove stop words:tokenise the words that are not present in stop words\n",
    "    stopped = [w for w in tokenized if not w in stop_words]\n",
    "    \n",
    "\n",
    "    return stopped\n",
    "# ______________________________________________________________\n",
    "# clean dataframe's text column\n",
    "data['clean'] = data['tweet'].apply(processTweet)\n",
    "# preview some cleaned tweets\n",
    "data['clean'].head()"
   ]
  },
  {
   "cell_type": "markdown",
   "metadata": {
    "colab_type": "text",
    "id": "GXrDkalH1SNQ"
   },
   "source": [
    "### Most common words without stopwords"
   ]
  },
  {
   "cell_type": "code",
   "execution_count": 221,
   "metadata": {
    "colab": {
     "base_uri": "https://localhost:8080/",
     "height": 184
    },
    "colab_type": "code",
    "id": "46aSZOmX1SNQ",
    "outputId": "ab95e53a-768a-4bda-ed9b-ef6dfa42bd06"
   },
   "outputs": [
    {
     "data": {
      "text/plain": [
       "[('bounce', 2250),\n",
       " ('hey', 2152),\n",
       " ('get', 1961),\n",
       " ('thanks', 1918),\n",
       " ('pic', 1862),\n",
       " ('twitter', 1833),\n",
       " ('com', 1814),\n",
       " ('please', 1677),\n",
       " ('bike', 1273),\n",
       " ('team', 1144)]"
      ]
     },
     "execution_count": 221,
     "metadata": {
      "tags": []
     },
     "output_type": "execute_result"
    }
   ],
   "source": [
    "from collections import Counter\n",
    "words = Counter()\n",
    "for idx in data.index:\n",
    "    words.update(data.loc[idx, \"clean\"])\n",
    "\n",
    "words.most_common(10)\n"
   ]
  },
  {
   "cell_type": "code",
   "execution_count": 222,
   "metadata": {
    "colab": {
     "base_uri": "https://localhost:8080/",
     "height": 196
    },
    "colab_type": "code",
    "id": "VW0lwE8v1SNT",
    "outputId": "1e510233-156f-4cc2-d749-b2688e0677fc"
   },
   "outputs": [
    {
     "data": {
      "text/html": [
       "<div>\n",
       "<style scoped>\n",
       "    .dataframe tbody tr th:only-of-type {\n",
       "        vertical-align: middle;\n",
       "    }\n",
       "\n",
       "    .dataframe tbody tr th {\n",
       "        vertical-align: top;\n",
       "    }\n",
       "\n",
       "    .dataframe thead th {\n",
       "        text-align: right;\n",
       "    }\n",
       "</style>\n",
       "<table border=\"1\" class=\"dataframe\">\n",
       "  <thead>\n",
       "    <tr style=\"text-align: right;\">\n",
       "      <th></th>\n",
       "      <th>words</th>\n",
       "      <th>count</th>\n",
       "    </tr>\n",
       "  </thead>\n",
       "  <tbody>\n",
       "    <tr>\n",
       "      <th>0</th>\n",
       "      <td>bounce</td>\n",
       "      <td>2250</td>\n",
       "    </tr>\n",
       "    <tr>\n",
       "      <th>1</th>\n",
       "      <td>hey</td>\n",
       "      <td>2152</td>\n",
       "    </tr>\n",
       "    <tr>\n",
       "      <th>2</th>\n",
       "      <td>get</td>\n",
       "      <td>1961</td>\n",
       "    </tr>\n",
       "    <tr>\n",
       "      <th>3</th>\n",
       "      <td>thanks</td>\n",
       "      <td>1918</td>\n",
       "    </tr>\n",
       "    <tr>\n",
       "      <th>4</th>\n",
       "      <td>pic</td>\n",
       "      <td>1862</td>\n",
       "    </tr>\n",
       "  </tbody>\n",
       "</table>\n",
       "</div>"
      ],
      "text/plain": [
       "    words  count\n",
       "0  bounce   2250\n",
       "1     hey   2152\n",
       "2     get   1961\n",
       "3  thanks   1918\n",
       "4     pic   1862"
      ]
     },
     "execution_count": 222,
     "metadata": {
      "tags": []
     },
     "output_type": "execute_result"
    }
   ],
   "source": [
    "most_common = pd.DataFrame(words.most_common(15),\n",
    "                             columns=['words', 'count'])\n",
    "most_common.head()"
   ]
  },
  {
   "cell_type": "markdown",
   "metadata": {
    "colab_type": "text",
    "id": "ibEDYDK2uA4Z"
   },
   "source": [
    "- The word bounce has the highest frequency after removing the stopwords"
   ]
  },
  {
   "cell_type": "code",
   "execution_count": 223,
   "metadata": {
    "colab": {
     "base_uri": "https://localhost:8080/",
     "height": 499
    },
    "colab_type": "code",
    "id": "KuZLgQS01SNV",
    "outputId": "a7ba042f-6d47-4cb3-e6d0-86fbd2ba6272"
   },
   "outputs": [
    {
     "data": {
      "image/png": "[encoded data removed]",
      "text/plain": [
       "<Figure size 576x576 with 1 Axes>"
      ]
     },
     "metadata": {
      "needs_background": "light",
      "tags": []
     },
     "output_type": "display_data"
    }
   ],
   "source": [
    "\n",
    "fig, ax = plt.subplots(figsize=(8, 8))\n",
    "\n",
    "# Plot horizontal bar graph\n",
    "most_common.sort_values(by='count').plot.barh(x='words',\n",
    "                      y='count',\n",
    "                      ax=ax,\n",
    "                      color=\"purple\")\n",
    "\n",
    "ax.set_title(\"Common Words Found in Tweets (Without Stop or Collection Words)\")\n",
    "\n",
    "plt.show()"
   ]
  },
  {
   "cell_type": "markdown",
   "metadata": {
    "colab_type": "text",
    "id": "CQSFhF00vS-7"
   },
   "source": [
    "- Lets create another column clean_tweet"
   ]
  },
  {
   "cell_type": "code",
   "execution_count": 224,
   "metadata": {
    "colab": {
     "base_uri": "https://localhost:8080/",
     "height": 117
    },
    "colab_type": "code",
    "id": "jAU2KMBW1SNX",
    "outputId": "2863b864-70b9-419f-b866-aed9671b8b26"
   },
   "outputs": [
    {
     "data": {
      "text/plain": [
       "0     shared micromobility global phenomenon congrats \n",
       "1                                   like standing joke\n",
       "2    first time bangalore alip drive and really enj...\n",
       "3    with helmet you also consider put some tissue ...\n",
       "4                                       wow great job \n",
       "Name: clean_tweet, dtype: object"
      ]
     },
     "execution_count": 224,
     "metadata": {
      "tags": []
     },
     "output_type": "execute_result"
    }
   ],
   "source": [
    "def processTweet(tweet):\n",
    "    # Remove HTML special entities (e.g. &amp;)\n",
    "    tweet = re.sub(r'\\&\\w*;', '', tweet)\n",
    "    #Convert @username to AT_USER\n",
    "    tweet = re.sub('@[^\\s]+','',tweet)\n",
    "    # Remove tickers\n",
    "    tweet = re.sub(r'\\$\\w*', '', tweet)\n",
    "    # To lowercase\n",
    "    tweet = tweet.lower()\n",
    "    # Remove hyperlinks\n",
    "    tweet = re.sub(r'https?:\\/\\/.*\\/\\w*', '', tweet)\n",
    "    # Remove hashtags\n",
    "    tweet = re.sub(r'#\\w*', '', tweet)\n",
    "    # Remove Punctuation and split 's, 't, 've with a space for filter\n",
    "    tweet = re.sub(r'[' + punctuation.replace('@', '') + ']+', ' ', tweet)\n",
    "    # Remove words with 2 or fewer letters\n",
    "    tweet = re.sub(r'\\b\\w{1,2}\\b', '', tweet)\n",
    "    # Remove whitespace (including new line characters)\n",
    "    tweet = re.sub(r'\\s\\s+', ' ', tweet)\n",
    "    tweet = re.sub('[^ a-zA-Z0-9]', '', tweet)\n",
    "    tweet = re.sub('[0-9]', '', tweet)\n",
    "  \n",
    "    \n",
    "\n",
    "    return tweet\n",
    "# ______________________________________________________________\n",
    "# clean dataframe's text column\n",
    "data['clean_tweet'] = data['tweet'].apply(processTweet)\n",
    "# preview some cleaned tweets\n",
    "data['clean_tweet'].head()"
   ]
  },
  {
   "cell_type": "code",
   "execution_count": 225,
   "metadata": {
    "colab": {},
    "colab_type": "code",
    "id": "nbrBkGRg1SNa"
   },
   "outputs": [],
   "source": [
    "stop = stopwords.words('english')\n",
    "data['clean_tweet'] = data['clean_tweet'].apply(lambda x: ' '.join([word for word in x.split() if word not in (stop)]))"
   ]
  },
  {
   "cell_type": "markdown",
   "metadata": {
    "colab_type": "text",
    "id": "4i19zTcJvaNY"
   },
   "source": [
    "- Lets consider a dataframe that only consists of clean_tweet and date"
   ]
  },
  {
   "cell_type": "code",
   "execution_count": 226,
   "metadata": {
    "colab": {
     "base_uri": "https://localhost:8080/",
     "height": 404
    },
    "colab_type": "code",
    "id": "n4F6CjQi1SNc",
    "outputId": "3a08ffc8-743c-4b0a-f715-b6f1e4109d91"
   },
   "outputs": [
    {
     "data": {
      "text/html": [
       "<div>\n",
       "<style scoped>\n",
       "    .dataframe tbody tr th:only-of-type {\n",
       "        vertical-align: middle;\n",
       "    }\n",
       "\n",
       "    .dataframe tbody tr th {\n",
       "        vertical-align: top;\n",
       "    }\n",
       "\n",
       "    .dataframe thead th {\n",
       "        text-align: right;\n",
       "    }\n",
       "</style>\n",
       "<table border=\"1\" class=\"dataframe\">\n",
       "  <thead>\n",
       "    <tr style=\"text-align: right;\">\n",
       "      <th></th>\n",
       "      <th>date</th>\n",
       "      <th>clean_tweet</th>\n",
       "    </tr>\n",
       "  </thead>\n",
       "  <tbody>\n",
       "    <tr>\n",
       "      <th>0</th>\n",
       "      <td>2019-10-21</td>\n",
       "      <td>shared micromobility global phenomenon congrats</td>\n",
       "    </tr>\n",
       "    <tr>\n",
       "      <th>1</th>\n",
       "      <td>2019-10-21</td>\n",
       "      <td>like standing joke</td>\n",
       "    </tr>\n",
       "    <tr>\n",
       "      <th>2</th>\n",
       "      <td>2019-10-21</td>\n",
       "      <td>first time bangalore alip drive really enjoyin...</td>\n",
       "    </tr>\n",
       "    <tr>\n",
       "      <th>3</th>\n",
       "      <td>2019-10-21</td>\n",
       "      <td>helmet also consider put tissue paper wipes he...</td>\n",
       "    </tr>\n",
       "    <tr>\n",
       "      <th>4</th>\n",
       "      <td>2019-10-20</td>\n",
       "      <td>wow great job</td>\n",
       "    </tr>\n",
       "    <tr>\n",
       "      <th>...</th>\n",
       "      <td>...</td>\n",
       "      <td>...</td>\n",
       "    </tr>\n",
       "    <tr>\n",
       "      <th>12015</th>\n",
       "      <td>2019-01-01</td>\n",
       "      <td>already done</td>\n",
       "    </tr>\n",
       "    <tr>\n",
       "      <th>12016</th>\n",
       "      <td>2019-01-01</td>\n",
       "      <td>harish thank contacting please contact number ...</td>\n",
       "    </tr>\n",
       "    <tr>\n",
       "      <th>12017</th>\n",
       "      <td>2019-01-01</td>\n",
       "      <td>call please issues kyc person spoke said would...</td>\n",
       "    </tr>\n",
       "    <tr>\n",
       "      <th>12018</th>\n",
       "      <td>2019-01-01</td>\n",
       "      <td>dear harish apologies delay actually refund co...</td>\n",
       "    </tr>\n",
       "    <tr>\n",
       "      <th>12019</th>\n",
       "      <td>2019-01-01</td>\n",
       "      <td>yet receive refund</td>\n",
       "    </tr>\n",
       "  </tbody>\n",
       "</table>\n",
       "<p>12020 rows × 2 columns</p>\n",
       "</div>"
      ],
      "text/plain": [
       "             date                                        clean_tweet\n",
       "0      2019-10-21    shared micromobility global phenomenon congrats\n",
       "1      2019-10-21                                 like standing joke\n",
       "2      2019-10-21  first time bangalore alip drive really enjoyin...\n",
       "3      2019-10-21  helmet also consider put tissue paper wipes he...\n",
       "4      2019-10-20                                      wow great job\n",
       "...           ...                                                ...\n",
       "12015  2019-01-01                                       already done\n",
       "12016  2019-01-01  harish thank contacting please contact number ...\n",
       "12017  2019-01-01  call please issues kyc person spoke said would...\n",
       "12018  2019-01-01  dear harish apologies delay actually refund co...\n",
       "12019  2019-01-01                                 yet receive refund\n",
       "\n",
       "[12020 rows x 2 columns]"
      ]
     },
     "execution_count": 226,
     "metadata": {
      "tags": []
     },
     "output_type": "execute_result"
    }
   ],
   "source": [
    "df = data[['date','clean_tweet']]\n",
    "df"
   ]
  },
  {
   "cell_type": "markdown",
   "metadata": {
    "colab_type": "text",
    "id": "10rnxfNA1SNe"
   },
   "source": [
    "#### What words are most often used in the tweets monthly or quarterly? "
   ]
  },
  {
   "cell_type": "code",
   "execution_count": 227,
   "metadata": {
    "colab": {
     "base_uri": "https://localhost:8080/",
     "height": 318
    },
    "colab_type": "code",
    "id": "vrF1GeZQ1SNe",
    "outputId": "7ad71483-334c-4621-f6c7-53d64a6aab48"
   },
   "outputs": [
    {
     "name": "stderr",
     "output_type": "stream",
     "text": [
      "/usr/local/lib/python3.6/dist-packages/ipykernel_launcher.py:1: SettingWithCopyWarning: \n",
      "A value is trying to be set on a copy of a slice from a DataFrame.\n",
      "Try using .loc[row_indexer,col_indexer] = value instead\n",
      "\n",
      "See the caveats in the documentation: https://pandas.pydata.org/pandas-docs/stable/user_guide/indexing.html#returning-a-view-versus-a-copy\n",
      "  \"\"\"Entry point for launching an IPython kernel.\n"
     ]
    },
    {
     "data": {
      "text/plain": [
       "date\n",
       "July         absolutely easier said done thoughworst experi...\n",
       "January      another bad experience today booked keyless bi...\n",
       "September    bounce pledges join ev initiative viawould lik...\n",
       "February     get reward money value petrol pour rs fueled r...\n",
       "June         hey mohanish thanks confidence maintaining bik...\n",
       "April        hey shradha thanks lot post compliment please ...\n",
       "August       malleswaramdriving around bangalore many place...\n",
       "March        need sympathetic reply tweet saying sorry inco...\n",
       "October      shared micromobility global phenomenon congrat...\n",
       "May          thank much hemendra taking time leave beautifu...\n",
       "Name: clean_tweet, dtype: object"
      ]
     },
     "execution_count": 227,
     "metadata": {
      "tags": []
     },
     "output_type": "execute_result"
    }
   ],
   "source": [
    "df['date'] = pd.to_datetime(df['date'])\n",
    "dg = df.groupby(df['date'].dt.strftime('%B'))['clean_tweet'].sum().sort_values()\n",
    "dg"
   ]
  },
  {
   "cell_type": "code",
   "execution_count": 228,
   "metadata": {
    "colab": {
     "base_uri": "https://localhost:8080/",
     "height": 117
    },
    "colab_type": "code",
    "id": "23lKZ0dTxOaV",
    "outputId": "75e5dd44-1061-4d82-d2b7-eb4ad55b96c1"
   },
   "outputs": [
    {
     "name": "stderr",
     "output_type": "stream",
     "text": [
      "/usr/local/lib/python3.6/dist-packages/ipykernel_launcher.py:1: SettingWithCopyWarning: \n",
      "A value is trying to be set on a copy of a slice from a DataFrame.\n",
      "Try using .loc[row_indexer,col_indexer] = value instead\n",
      "\n",
      "See the caveats in the documentation: https://pandas.pydata.org/pandas-docs/stable/user_guide/indexing.html#returning-a-view-versus-a-copy\n",
      "  \"\"\"Entry point for launching an IPython kernel.\n"
     ]
    }
   ],
   "source": [
    "df['month'] = pd.DatetimeIndex(df['date']).month"
   ]
  },
  {
   "cell_type": "code",
   "execution_count": 229,
   "metadata": {
    "colab": {
     "base_uri": "https://localhost:8080/",
     "height": 254
    },
    "colab_type": "code",
    "id": "80JXN8aow9qJ",
    "outputId": "58ad0090-af6e-4843-f5a8-4a7bd06fa0bc"
   },
   "outputs": [
    {
     "data": {
      "text/plain": [
       "date        clean_tweet                                                                                                                                                            \n",
       "2019-01-01  already done                                                                                                                                                               1\n",
       "            call please issues kyc person spoke said would refund bounce wallet okay                                                                                                   1\n",
       "            dear harish apologies delay actually refund could proceed due kyc error seen paytm gateway please check kyc done paytm account assuring support                            1\n",
       "            dear harish apologies delay per telephonic discussion one refund checked done next one process one executives call update                                                  1\n",
       "            dear harish check email mobile number could find refund related info one executives call assist new query assuring assistance                                              1\n",
       "                                                                                                                                                                                      ..\n",
       "2019-10-20  wow great job                                                                                                                                                              1\n",
       "2019-10-21  first time bangalore alip drive really enjoying chikkabanavara banglore igshid orpauscoy                                                                                   1\n",
       "            helmet also consider put tissue paper wipes helmet hygiene get maintained disinfectant herbal spray ride every one wearing feel comfortable monsoon humidity faul smell    1\n",
       "            like standing joke                                                                                                                                                         1\n",
       "            shared micromobility global phenomenon congrats                                                                                                                            1\n",
       "Name: date, Length: 11134, dtype: int64"
      ]
     },
     "execution_count": 229,
     "metadata": {
      "tags": []
     },
     "output_type": "execute_result"
    }
   ],
   "source": [
    "df.groupby([\"date\", \"clean_tweet\"])[\"date\"].count()"
   ]
  },
  {
   "cell_type": "code",
   "execution_count": 230,
   "metadata": {
    "colab": {
     "base_uri": "https://localhost:8080/",
     "height": 254
    },
    "colab_type": "code",
    "id": "iNwZlF4gxRgB",
    "outputId": "f133ee71-8cb8-4d55-f4cb-3451eadde8d7"
   },
   "outputs": [
    {
     "data": {
      "text/plain": [
       "month  clean_tweet                                                                                                                                                                            \n",
       "1                                                                                                                                                                                                 6\n",
       "       abhilash close end business today apologize delay scaling ensure enough champions serve please thanks                                                                                      1\n",
       "       absolutely                                                                                                                                                                                 1\n",
       "       agent called twice explained credited paytm wallet told credited within hrs still credited paytm wallet mob                                                                                1\n",
       "       alok apologize confusion caused correct valid customer support deep dive get checked also one leaders call help refund thanks lot support stand                                            1\n",
       "                                                                                                                                                                                                 ..\n",
       "10     yesterday tweeted today bounce coming perfect indeed                                                                                                                                       1\n",
       "       yogi thanks bringing notice taking strict action helmet theft would request share clear picture registration plate along helmet location time picture teams retrieve                       1\n",
       "       yourstoryco bike rentals rev speeds hiring job openings use expertise reduce travel woes public joining bike rental bounceshare vivekanandahr rental startup bounce jobs roundup hiring    1\n",
       "       yourstoryco part new wave commuting multiple job openings bounceshare vivekanandahr openings career jobs customer experience                                                               1\n",
       "       yup use bounce never let                                                                                                                                                                   1\n",
       "Name: month, Length: 10630, dtype: int64"
      ]
     },
     "execution_count": 230,
     "metadata": {
      "tags": []
     },
     "output_type": "execute_result"
    }
   ],
   "source": [
    "dc = df.groupby([\"month\", \"clean_tweet\"])[\"month\"].size()\n",
    "\n",
    "dc"
   ]
  },
  {
   "cell_type": "markdown",
   "metadata": {
    "colab_type": "text",
    "id": "6ednvhXTvozW"
   },
   "source": [
    "- We can observe that we have grouped the words according to the months.\n"
   ]
  },
  {
   "cell_type": "code",
   "execution_count": 231,
   "metadata": {
    "colab": {
     "base_uri": "https://localhost:8080/",
     "height": 404
    },
    "colab_type": "code",
    "id": "8UFidhGM1SNj",
    "outputId": "91c409ea-008e-43d1-ef5b-3c1015d6417f"
   },
   "outputs": [
    {
     "data": {
      "text/html": [
       "<div>\n",
       "<style scoped>\n",
       "    .dataframe tbody tr th:only-of-type {\n",
       "        vertical-align: middle;\n",
       "    }\n",
       "\n",
       "    .dataframe tbody tr th {\n",
       "        vertical-align: top;\n",
       "    }\n",
       "\n",
       "    .dataframe thead th {\n",
       "        text-align: right;\n",
       "    }\n",
       "</style>\n",
       "<table border=\"1\" class=\"dataframe\">\n",
       "  <thead>\n",
       "    <tr style=\"text-align: right;\">\n",
       "      <th></th>\n",
       "      <th>date</th>\n",
       "      <th>clean_tweet</th>\n",
       "      <th>month</th>\n",
       "    </tr>\n",
       "  </thead>\n",
       "  <tbody>\n",
       "    <tr>\n",
       "      <th>0</th>\n",
       "      <td>2019-10-21</td>\n",
       "      <td>shared micromobility global phenomenon congrats</td>\n",
       "      <td>10</td>\n",
       "    </tr>\n",
       "    <tr>\n",
       "      <th>1</th>\n",
       "      <td>2019-10-21</td>\n",
       "      <td>like standing joke</td>\n",
       "      <td>10</td>\n",
       "    </tr>\n",
       "    <tr>\n",
       "      <th>2</th>\n",
       "      <td>2019-10-21</td>\n",
       "      <td>first time bangalore alip drive really enjoyin...</td>\n",
       "      <td>10</td>\n",
       "    </tr>\n",
       "    <tr>\n",
       "      <th>3</th>\n",
       "      <td>2019-10-21</td>\n",
       "      <td>helmet also consider put tissue paper wipes he...</td>\n",
       "      <td>10</td>\n",
       "    </tr>\n",
       "    <tr>\n",
       "      <th>4</th>\n",
       "      <td>2019-10-20</td>\n",
       "      <td>wow great job</td>\n",
       "      <td>10</td>\n",
       "    </tr>\n",
       "    <tr>\n",
       "      <th>...</th>\n",
       "      <td>...</td>\n",
       "      <td>...</td>\n",
       "      <td>...</td>\n",
       "    </tr>\n",
       "    <tr>\n",
       "      <th>12015</th>\n",
       "      <td>2019-01-01</td>\n",
       "      <td>already done</td>\n",
       "      <td>1</td>\n",
       "    </tr>\n",
       "    <tr>\n",
       "      <th>12016</th>\n",
       "      <td>2019-01-01</td>\n",
       "      <td>harish thank contacting please contact number ...</td>\n",
       "      <td>1</td>\n",
       "    </tr>\n",
       "    <tr>\n",
       "      <th>12017</th>\n",
       "      <td>2019-01-01</td>\n",
       "      <td>call please issues kyc person spoke said would...</td>\n",
       "      <td>1</td>\n",
       "    </tr>\n",
       "    <tr>\n",
       "      <th>12018</th>\n",
       "      <td>2019-01-01</td>\n",
       "      <td>dear harish apologies delay actually refund co...</td>\n",
       "      <td>1</td>\n",
       "    </tr>\n",
       "    <tr>\n",
       "      <th>12019</th>\n",
       "      <td>2019-01-01</td>\n",
       "      <td>yet receive refund</td>\n",
       "      <td>1</td>\n",
       "    </tr>\n",
       "  </tbody>\n",
       "</table>\n",
       "<p>12020 rows × 3 columns</p>\n",
       "</div>"
      ],
      "text/plain": [
       "            date                                        clean_tweet  month\n",
       "0     2019-10-21    shared micromobility global phenomenon congrats     10\n",
       "1     2019-10-21                                 like standing joke     10\n",
       "2     2019-10-21  first time bangalore alip drive really enjoyin...     10\n",
       "3     2019-10-21  helmet also consider put tissue paper wipes he...     10\n",
       "4     2019-10-20                                      wow great job     10\n",
       "...          ...                                                ...    ...\n",
       "12015 2019-01-01                                       already done      1\n",
       "12016 2019-01-01  harish thank contacting please contact number ...      1\n",
       "12017 2019-01-01  call please issues kyc person spoke said would...      1\n",
       "12018 2019-01-01  dear harish apologies delay actually refund co...      1\n",
       "12019 2019-01-01                                 yet receive refund      1\n",
       "\n",
       "[12020 rows x 3 columns]"
      ]
     },
     "execution_count": 231,
     "metadata": {
      "tags": []
     },
     "output_type": "execute_result"
    }
   ],
   "source": [
    "df"
   ]
  },
  {
   "cell_type": "markdown",
   "metadata": {
    "colab_type": "text",
    "id": "hmzzNfn21SNl"
   },
   "source": [
    "### Most used Adjectives"
   ]
  },
  {
   "cell_type": "code",
   "execution_count": 232,
   "metadata": {
    "colab": {
     "base_uri": "https://localhost:8080/",
     "height": 100
    },
    "colab_type": "code",
    "id": "cE1XByeh6K6h",
    "outputId": "acb32378-cc8d-4f14-9aa3-4110a6cd188b"
   },
   "outputs": [
    {
     "name": "stdout",
     "output_type": "stream",
     "text": [
      "[nltk_data] Downloading package averaged_perceptron_tagger to\n",
      "[nltk_data]     /root/nltk_data...\n",
      "[nltk_data]   Package averaged_perceptron_tagger is already up-to-\n",
      "[nltk_data]       date!\n"
     ]
    },
    {
     "data": {
      "text/plain": [
       "True"
      ]
     },
     "execution_count": 232,
     "metadata": {
      "tags": []
     },
     "output_type": "execute_result"
    }
   ],
   "source": [
    "import nltk\n",
    "nltk.download('averaged_perceptron_tagger')"
   ]
  },
  {
   "cell_type": "code",
   "execution_count": 233,
   "metadata": {
    "colab": {},
    "colab_type": "code",
    "id": "nS3gKA_O1SNl"
   },
   "outputs": [],
   "source": [
    "all_words_adj = []\n",
    "all_words = []\n",
    "\n",
    "\n",
    "stop_words = list(set(stopwords.words('english')))\n",
    "\n",
    "# Adjectives are good for classifying a review like great, good or bad\n",
    "#j is advjective, v is verb and r is adverb\n",
    "#allowed_word_types = [\"J\",\"R\",\"V\"]\n",
    "\n",
    "allowed_word_types = [\"J\"]\n",
    "\n",
    "for i in sentences:\n",
    "    \n",
    "    cleaned = re.sub(r'[^(a-zA-Z)\\s]','',i)\n",
    "    \n",
    "    #tokenize\n",
    "    tokenized = word_tokenize(cleaned)\n",
    "    \n",
    "    \n",
    "    stopped = [w for w in tokenized if not w in stop_words]\n",
    "    \n",
    "   \n",
    "    pos = nltk.pos_tag(stopped)\n",
    "    \n",
    "    # make a list of all adjectives identified by the allowed word types list above\n",
    "    \n",
    "    for w in pos:\n",
    "        if w[1][0] in allowed_word_types:\n",
    "            all_words_adj.append(w[0].lower())\n",
    "            \n",
    "   \n",
    "    \n",
    "    "
   ]
  },
  {
   "cell_type": "code",
   "execution_count": 234,
   "metadata": {
    "colab": {
     "base_uri": "https://localhost:8080/",
     "height": 1000
    },
    "colab_type": "code",
    "id": "96TcgdHE1SNn",
    "outputId": "38e850cc-d68e-44cd-9b35-1559e88bcd8e"
   },
   "outputs": [
    {
     "data": {
      "text/plain": [
       "FreqDist({'global': 7,\n",
       "          'first': 69,\n",
       "          'helmet': 140,\n",
       "          'hygiene': 2,\n",
       "          'comfortable': 4,\n",
       "          'great': 224,\n",
       "          'sincere': 73,\n",
       "          'checked': 96,\n",
       "          'payroll': 1,\n",
       "          'entire': 16,\n",
       "          'bounceshare': 173,\n",
       "          'nitingadkari': 3,\n",
       "          'notice': 44,\n",
       "          'snap': 30,\n",
       "          'individual': 96,\n",
       "          'earliest': 186,\n",
       "          'much': 202,\n",
       "          'contact': 30,\n",
       "          'touch': 70,\n",
       "          'big': 51,\n",
       "          'respective': 44,\n",
       "          'necessary': 245,\n",
       "          'bike': 86,\n",
       "          'concerned': 154,\n",
       "          'upparpetetrfps': 1,\n",
       "          'dangerous': 13,\n",
       "          'main': 71,\n",
       "          'k': 7,\n",
       "          'daily': 58,\n",
       "          'public': 185,\n",
       "          'sure': 165,\n",
       "          'strict': 67,\n",
       "          'basic': 19,\n",
       "          'call': 448,\n",
       "          'many': 260,\n",
       "          'possible': 89,\n",
       "          'impressive': 1,\n",
       "          'new': 148,\n",
       "          'telephonic': 102,\n",
       "          'thread': 2,\n",
       "          'more': 12,\n",
       "          'ride': 37,\n",
       "          'reimagine': 1,\n",
       "          'nice': 42,\n",
       "          'app': 65,\n",
       "          'user': 80,\n",
       "          'critical': 7,\n",
       "          'feedback': 15,\n",
       "          'shaileshlakhani': 3,\n",
       "          'entite': 1,\n",
       "          'next': 85,\n",
       "          'happy': 182,\n",
       "          'willing': 27,\n",
       "          'open': 78,\n",
       "          'future': 184,\n",
       "          'team': 54,\n",
       "          'exact': 112,\n",
       "          'helpful': 55,\n",
       "          'picked': 56,\n",
       "          'list': 1,\n",
       "          'allignment': 1,\n",
       "          'rear': 15,\n",
       "          'common': 36,\n",
       "          'sorry': 470,\n",
       "          'ideas': 1,\n",
       "          'unable': 94,\n",
       "          'start': 20,\n",
       "          'able': 105,\n",
       "          'issue': 6,\n",
       "          'original': 7,\n",
       "          'cool': 18,\n",
       "          'impactful': 2,\n",
       "          'past': 22,\n",
       "          'good': 200,\n",
       "          'last': 188,\n",
       "          'long': 43,\n",
       "          'alternate': 32,\n",
       "          'farekm': 1,\n",
       "          'available': 97,\n",
       "          'near': 6,\n",
       "          'mandatory': 10,\n",
       "          'best': 123,\n",
       "          'free': 42,\n",
       "          'website': 3,\n",
       "          'grateful': 91,\n",
       "          'top': 97,\n",
       "          'wonderful': 72,\n",
       "          'key': 8,\n",
       "          'tarunsmehta': 1,\n",
       "          'single': 21,\n",
       "          'logic': 3,\n",
       "          'right': 100,\n",
       "          'multiple': 41,\n",
       "          'bribes': 1,\n",
       "          'rest': 1,\n",
       "          'acceptable': 4,\n",
       "          'flat': 10,\n",
       "          'such': 21,\n",
       "          'mainstream': 1,\n",
       "          'least': 28,\n",
       "          'thrown': 4,\n",
       "          'accountable': 6,\n",
       "          'bad': 70,\n",
       "          'spell': 1,\n",
       "          'signal': 11,\n",
       "          'useful': 12,\n",
       "          'intent': 1,\n",
       "          'tougher': 1,\n",
       "          'expect': 2,\n",
       "          'didnt': 19,\n",
       "          'inside': 8,\n",
       "          'fine': 51,\n",
       "          'refund': 32,\n",
       "          'real': 21,\n",
       "          'responsible': 40,\n",
       "          'pathetic': 41,\n",
       "          'selfie': 2,\n",
       "          'upload': 33,\n",
       "          'discovery': 1,\n",
       "          'investigating': 3,\n",
       "          'messagesi': 1,\n",
       "          'companywhy': 1,\n",
       "          'cant': 39,\n",
       "          'dont': 74,\n",
       "          'higher': 12,\n",
       "          'steal': 17,\n",
       "          'shame': 3,\n",
       "          'sad': 24,\n",
       "          'purple': 1,\n",
       "          'inform': 6,\n",
       "          'request': 13,\n",
       "          'mobile': 336,\n",
       "          'smile': 39,\n",
       "          'meteoric': 1,\n",
       "          'palpable': 1,\n",
       "          'express': 14,\n",
       "          'v': 2,\n",
       "          'stil': 1,\n",
       "          'frm': 2,\n",
       "          'n': 39,\n",
       "          'uninstalled': 1,\n",
       "          'ur': 107,\n",
       "          'personal': 102,\n",
       "          'inspite': 1,\n",
       "          'impeccable': 1,\n",
       "          'easy': 51,\n",
       "          'hard': 37,\n",
       "          'extra': 29,\n",
       "          'wrong': 77,\n",
       "          'false': 9,\n",
       "          'th': 17,\n",
       "          'please': 120,\n",
       "          'true': 20,\n",
       "          'most': 20,\n",
       "          'lot': 13,\n",
       "          'interesting': 4,\n",
       "          'solve': 5,\n",
       "          'valid': 17,\n",
       "          'fathom': 1,\n",
       "          'behavior': 3,\n",
       "          'previous': 220,\n",
       "          'left': 5,\n",
       "          'unacceptable': 2,\n",
       "          'finish': 3,\n",
       "          'find': 21,\n",
       "          'tried': 6,\n",
       "          'permanent': 4,\n",
       "          'afraid': 4,\n",
       "          'unusable': 3,\n",
       "          'safe': 102,\n",
       "          'tech': 18,\n",
       "          'minor': 7,\n",
       "          'final': 3,\n",
       "          'know': 54,\n",
       "          'matter': 14,\n",
       "          'scooty': 9,\n",
       "          'atrocious': 1,\n",
       "          'ton': 1,\n",
       "          'par': 1,\n",
       "          'sincerest': 39,\n",
       "          'understand': 66,\n",
       "          'hefty': 12,\n",
       "          'poor': 15,\n",
       "          'assist': 22,\n",
       "          'valuable': 40,\n",
       "          'doesnt': 14,\n",
       "          'regular': 24,\n",
       "          'useri': 1,\n",
       "          'irritated': 1,\n",
       "          'itelectronic': 1,\n",
       "          'connected': 1,\n",
       "          'nae': 1,\n",
       "          'usaka': 1,\n",
       "          'abused': 1,\n",
       "          'less': 18,\n",
       "          'alternative': 6,\n",
       "          'suburban': 6,\n",
       "          'used': 6,\n",
       "          'sustainable': 11,\n",
       "          'low': 21,\n",
       "          'lower': 3,\n",
       "          'otp': 2,\n",
       "          'give': 33,\n",
       "          'initiative': 11,\n",
       "          'inhuman': 1,\n",
       "          'cab': 2,\n",
       "          'due': 71,\n",
       "          'precautionary': 1,\n",
       "          'full': 23,\n",
       "          'largest': 3,\n",
       "          'opposite': 27,\n",
       "          'vivekanandahr': 19,\n",
       "          'neardeath': 1,\n",
       "          'nontech': 1,\n",
       "          'logos': 1,\n",
       "          'profitable': 3,\n",
       "          'build': 7,\n",
       "          'indian': 29,\n",
       "          'polycentric': 1,\n",
       "          'uptowndowntown': 1,\n",
       "          'retrieved': 3,\n",
       "          'rides': 2,\n",
       "          'bigger': 5,\n",
       "          'convenient': 66,\n",
       "          'tops': 1,\n",
       "          'crazy': 12,\n",
       "          'dumb': 4,\n",
       "          'ypur': 1,\n",
       "          'apartment': 2,\n",
       "          'larger': 5,\n",
       "          'effortyou': 1,\n",
       "          'proud': 9,\n",
       "          'lastmile': 8,\n",
       "          'wish': 42,\n",
       "          'scale': 9,\n",
       "          'amazing': 15,\n",
       "          'moral': 5,\n",
       "          'lawful': 1,\n",
       "          'middle': 47,\n",
       "          'analyseblacklist': 1,\n",
       "          'behaviour': 4,\n",
       "          'yellow': 18,\n",
       "          'question': 2,\n",
       "          'remote': 5,\n",
       "          'proficient': 1,\n",
       "          'digital': 4,\n",
       "          'reject': 1,\n",
       "          'agree': 9,\n",
       "          'fastest': 8,\n",
       "          'trajectory': 1,\n",
       "          'update': 43,\n",
       "          'travelsnear': 1,\n",
       "          'mile': 29,\n",
       "          'slove': 2,\n",
       "          'kr': 1,\n",
       "          'sort': 6,\n",
       "          'needful': 16,\n",
       "          'nearby': 9,\n",
       "          'scooter': 26,\n",
       "          'busy': 31,\n",
       "          'avoid': 14,\n",
       "          'atekadt': 1,\n",
       "          'u': 162,\n",
       "          'path': 1,\n",
       "          'positive': 14,\n",
       "          'confident': 39,\n",
       "          'popularby': 1,\n",
       "          'anybike': 1,\n",
       "          'electronic': 5,\n",
       "          'park': 97,\n",
       "          'legal': 103,\n",
       "          'techpark': 2,\n",
       "          'method': 1,\n",
       "          'earlier': 7,\n",
       "          'ganeshk': 1,\n",
       "          'negative': 5,\n",
       "          'urban': 20,\n",
       "          'commute': 18,\n",
       "          'revert': 2,\n",
       "          'bounce': 21,\n",
       "          'which': 5,\n",
       "          'plan': 3,\n",
       "          'clear': 57,\n",
       "          'mtr': 2,\n",
       "          'penalize': 2,\n",
       "          'busiest': 1,\n",
       "          'serious': 39,\n",
       "          'jakkur': 1,\n",
       "          'rickshaws': 1,\n",
       "          'difficult': 14,\n",
       "          'cabs': 4,\n",
       "          'major': 21,\n",
       "          'reliable': 10,\n",
       "          'live': 14,\n",
       "          'usual': 10,\n",
       "          'outside': 12,\n",
       "          'nearest': 9,\n",
       "          'outstanding': 56,\n",
       "          'better': 109,\n",
       "          'rialways': 1,\n",
       "          'provide': 10,\n",
       "          'search': 1,\n",
       "          'fellow': 30,\n",
       "          'affordable': 20,\n",
       "          'unscientific': 1,\n",
       "          'unplanned': 2,\n",
       "          'distant': 1,\n",
       "          'rental': 99,\n",
       "          'short': 15,\n",
       "          'economical': 9,\n",
       "          'fare': 1,\n",
       "          'similar': 9,\n",
       "          'hailacab': 1,\n",
       "          'safest': 1,\n",
       "          'commercial': 2,\n",
       "          'private': 42,\n",
       "          'practical': 2,\n",
       "          'different': 50,\n",
       "          'fix': 9,\n",
       "          'cabbier': 1,\n",
       "          'mr': 1,\n",
       "          'die': 1,\n",
       "          'slow': 6,\n",
       "          'old': 19,\n",
       "          'empty': 21,\n",
       "          'operative': 1,\n",
       "          'frustrating': 11,\n",
       "          'everytime': 3,\n",
       "          'purpose': 6,\n",
       "          'close': 7,\n",
       "          'teamwe': 3,\n",
       "          'triple': 5,\n",
       "          'parking': 5,\n",
       "          'terrible': 1,\n",
       "          'appreciate': 41,\n",
       "          'citizen': 10,\n",
       "          'non': 9,\n",
       "          'simple': 26,\n",
       "          'bangaloretraffic': 1,\n",
       "          'train': 2,\n",
       "          'rapidobikeapp': 2,\n",
       "          'defame': 1,\n",
       "          'irresponsible': 35,\n",
       "          'blame': 3,\n",
       "          'become': 8,\n",
       "          'nuisance': 4,\n",
       "          'large': 6,\n",
       "          'rectified': 2,\n",
       "          'immediate': 11,\n",
       "          'quick': 90,\n",
       "          'interested': 19,\n",
       "          'ibala': 1,\n",
       "          'third': 4,\n",
       "          'license': 6,\n",
       "          'theft': 56,\n",
       "          'fourth': 3,\n",
       "          'receipt': 1,\n",
       "          'want': 15,\n",
       "          'come': 15,\n",
       "          'cut': 2,\n",
       "          'ready': 20,\n",
       "          'illegal': 23,\n",
       "          'overall': 5,\n",
       "          'rs': 7,\n",
       "          'total': 15,\n",
       "          'everyday': 21,\n",
       "          'enough': 13,\n",
       "          'electric': 54,\n",
       "          'forward': 5,\n",
       "          'type': 8,\n",
       "          'errant': 2,\n",
       "          'govt': 1,\n",
       "          'draconian': 1,\n",
       "          'stringent': 6,\n",
       "          'innovative': 11,\n",
       "          'wont': 12,\n",
       "          'visible': 8,\n",
       "          'female': 1,\n",
       "          'got': 1,\n",
       "          'ban': 4,\n",
       "          'blrcitytraffic': 57,\n",
       "          'significant': 5,\n",
       "          'forth': 1,\n",
       "          'proper': 36,\n",
       "          'highest': 3,\n",
       "          'painful': 5,\n",
       "          'spoilt': 1,\n",
       "          'beautiful': 50,\n",
       "          'companys': 1,\n",
       "          'commutable': 1,\n",
       "          'occupied': 1,\n",
       "          'r': 1,\n",
       "          'elaborate': 5,\n",
       "          'address': 10,\n",
       "          'process': 27,\n",
       "          'description': 1,\n",
       "          'end': 20,\n",
       "          'stop': 17,\n",
       "          'promote': 1,\n",
       "          'httpappit': 1,\n",
       "          'priority': 11,\n",
       "          'risky': 5,\n",
       "          'horrible': 9,\n",
       "          'motivate': 1,\n",
       "          'unfortunate': 7,\n",
       "          'todayi': 1,\n",
       "          'riden': 1,\n",
       "          'kept': 1,\n",
       "          'investigated': 9,\n",
       "          'happen': 10,\n",
       "          'attached': 1,\n",
       "          'chikkabanvara': 1,\n",
       "          'sai': 2,\n",
       "          'baba': 2,\n",
       "          'purse': 2,\n",
       "          'vogo': 9,\n",
       "          'pls': 7,\n",
       "          'photos': 1,\n",
       "          'unlock': 4,\n",
       "          'select': 3,\n",
       "          'discount': 1,\n",
       "          'referral': 17,\n",
       "          'karma': 1,\n",
       "          'animesh': 1,\n",
       "          'precious': 6,\n",
       "          'responsibil': 1,\n",
       "          'unused': 1,\n",
       "          'whole': 18,\n",
       "          'ragavendra': 1,\n",
       "          'swamy': 1,\n",
       "          'hourly': 6,\n",
       "          'white': 8,\n",
       "          'hasslefree': 15,\n",
       "          'watchdog': 1,\n",
       "          'prevent': 2,\n",
       "          'imo': 1,\n",
       "          'vs': 1,\n",
       "          'various': 6,\n",
       "          'handle': 4,\n",
       "          'drmsbc': 1,\n",
       "          'irrespective': 3,\n",
       "          'relative': 2,\n",
       "          'smart': 12,\n",
       "          'connect': 27,\n",
       "          'advantedgevc': 1,\n",
       "          'pricng': 1,\n",
       "          'dynamic': 1,\n",
       "          'realised': 1,\n",
       "          'nasty': 3,\n",
       "          'selfish': 4,\n",
       "          'trunk': 6,\n",
       "          'unjust': 1,\n",
       "          'unusual': 2,\n",
       "          'updated': 2,\n",
       "          'automate': 1,\n",
       "          'massive': 7,\n",
       "          'cover': 1,\n",
       "          'anandc': 1,\n",
       "          'few': 6,\n",
       "          'myntra': 1,\n",
       "          'nonsense': 3,\n",
       "          'tactical': 1,\n",
       "          'latter': 3,\n",
       "          'applicable': 11,\n",
       "          'email': 16,\n",
       "          'other': 2,\n",
       "          'colour': 2,\n",
       "          'is': 2,\n",
       "          'perfect': 22,\n",
       "          'ok': 11,\n",
       "          'monthly': 5,\n",
       "          'graphite': 2,\n",
       "          'laned': 1,\n",
       "          'front': 24,\n",
       "          'mechanical': 3,\n",
       "          'electrical': 1,\n",
       "          'trustworthy': 1,\n",
       "          'vehichle': 1,\n",
       "          'inner': 9,\n",
       "          'return': 2,\n",
       "          'almst': 1,\n",
       "          'signalyesterday': 1,\n",
       "          'fuel': 15,\n",
       "          'little': 17,\n",
       "          'hal': 1,\n",
       "          'beside': 1,\n",
       "          'blessedkamal': 30,\n",
       "          'sheetal': 1,\n",
       "          'selfieholic': 2,\n",
       "          'sanghvinikita': 4,\n",
       "          'nahi': 7,\n",
       "          'parked': 19,\n",
       "          'pedestrian': 3,\n",
       "          'whys': 1,\n",
       "          'track': 3,\n",
       "          'netive': 1,\n",
       "          'invited': 1,\n",
       "          'contest': 3,\n",
       "          'welcome': 13,\n",
       "          'da': 2,\n",
       "          'wealthy': 1,\n",
       "          'upbringing': 3,\n",
       "          'uneducated': 1,\n",
       "          'satish': 1,\n",
       "          'make': 7,\n",
       "          'indu': 2,\n",
       "          'wittyvishal': 3,\n",
       "          'sanchitabhartiy': 4,\n",
       "          'penalized': 2,\n",
       "          'defence': 2,\n",
       "          'aadersh': 2,\n",
       "          'rakhi': 2,\n",
       "          'canteen': 2,\n",
       "          'sia': 2,\n",
       "          'nsverma': 2,\n",
       "          'sequoia': 1,\n",
       "          'sufficient': 5,\n",
       "          'pop': 1,\n",
       "          'sandeep': 2,\n",
       "          'sandgopal': 4,\n",
       "          'pictwittercomwnhegmft': 1,\n",
       "          'mysterymaish': 2,\n",
       "          'imqamarunnisa': 1,\n",
       "          'ranchikuldeep': 10,\n",
       "          'shivanikjain': 1,\n",
       "          'dipakjad': 2,\n",
       "          'favourite': 1,\n",
       "          'favorite': 4,\n",
       "          'american': 1,\n",
       "          'getgeekandglam': 1,\n",
       "          'easier': 7,\n",
       "          'suriyaisthebest': 12,\n",
       "          'baigan': 1,\n",
       "          'itsmerooh': 2,\n",
       "          'sengodan': 4,\n",
       "          'ta': 2,\n",
       "          'misssmita': 6,\n",
       "          'tarunkrekha': 2,\n",
       "          'pallavinukala': 1,\n",
       "          'madhu': 1,\n",
       "          'super': 19,\n",
       "          'shubhammaral': 1,\n",
       "          'jaree': 1,\n",
       "          'famous': 2,\n",
       "          'exciting': 2,\n",
       "          'worth': 26,\n",
       "          'particular': 9,\n",
       "          'aggressive': 3,\n",
       "          'wat': 1,\n",
       "          'joke': 1,\n",
       "          'tow': 4,\n",
       "          'celebrate': 1,\n",
       "          'evil': 1,\n",
       "          'basement': 1,\n",
       "          'worst': 35,\n",
       "          'kuch': 9,\n",
       "          'meant': 3,\n",
       "          'footpath': 17,\n",
       "          'civic': 8,\n",
       "          'execs': 1,\n",
       "          'accept': 4,\n",
       "          'emotional': 1,\n",
       "          'youll': 3,\n",
       "          'identify': 2,\n",
       "          'secular': 2,\n",
       "          'dropped': 1,\n",
       "          'second': 22,\n",
       "          'pick': 25,\n",
       "          'delightful': 2,\n",
       "          'std': 1,\n",
       "          'specific': 4,\n",
       "          'culpable': 1,\n",
       "          'pull': 5,\n",
       "          'bring': 21,\n",
       "          'spite': 2,\n",
       "          'thief': 5,\n",
       "          'st': 7,\n",
       "          'pickup': 2,\n",
       "          'smarter': 1,\n",
       "          'inspired': 1,\n",
       "          'deep': 68,\n",
       "          'stole': 6,\n",
       "          'ths': 1,\n",
       "          'rash': 1,\n",
       "          'alng': 1,\n",
       "          'international': 4,\n",
       "          'vehiclei': 1,\n",
       "          'attractive': 2,\n",
       "          'cautious': 1,\n",
       "          'huge': 21,\n",
       "          'odd': 6,\n",
       "          'baat': 1,\n",
       "          'impressed': 4,\n",
       "          'saves': 1,\n",
       "          'late': 13,\n",
       "          'strive': 2,\n",
       "          'sound': 2,\n",
       "          'glad': 16,\n",
       "          'receive': 55,\n",
       "          'prompt': 4,\n",
       "          'escalate': 2,\n",
       "          'fareit': 1,\n",
       "          'mental': 1,\n",
       "          'nd': 9,\n",
       "          'tired': 1,\n",
       "          'screenshot': 40,\n",
       "          'invalid': 4,\n",
       "          'approximate': 1,\n",
       "          'cal': 1,\n",
       "          'ayudhapooja': 1,\n",
       "          'drastic': 2,\n",
       "          'tremendous': 3,\n",
       "          'eligible': 5,\n",
       "          'bouncehelmet': 1,\n",
       "          'extend': 5,\n",
       "          'thrice': 1,\n",
       "          'stupid': 8,\n",
       "          'criminal': 2,\n",
       "          'info': 3,\n",
       "          'timing': 1,\n",
       "          'message': 4,\n",
       "          'festival': 1,\n",
       "          'several': 16,\n",
       "          'tonight': 1,\n",
       "          'safeish': 1,\n",
       "          'overnight': 2,\n",
       "          'file': 8,\n",
       "          'compliant': 2,\n",
       "          'unbearable': 2,\n",
       "          'see': 12,\n",
       "          'appropriate': 9,\n",
       "          'ola': 2,\n",
       "          'nominal': 2,\n",
       "          'recommend': 2,\n",
       "          'shot': 13,\n",
       "          'est': 1,\n",
       "          'wickedride': 1,\n",
       "          'holistic': 2,\n",
       "          'commitment': 4,\n",
       "          'screen': 7,\n",
       "          'luckygal': 1,\n",
       "          'unmatchable': 1,\n",
       "          'satisfied': 1,\n",
       "          'availability': 1,\n",
       "          'hate': 71,\n",
       "          'timesofindia': 1,\n",
       "          'ppl': 13,\n",
       "          'popular': 2,\n",
       "          'fortify': 1,\n",
       "          'contrary': 1,\n",
       "          'manish': 5,\n",
       "          'unethical': 4,\n",
       "          'jigini': 1,\n",
       "          'sddec': 2,\n",
       "          'appreciable': 4,\n",
       "          'pretty': 3,\n",
       "          'preetimohanjha': 1,\n",
       "          'coming': 3,\n",
       "          'technical': 34,\n",
       "          'anuj': 1,\n",
       "          'technicalmiss': 1,\n",
       "          'umesh': 2,\n",
       "          'sainaresh': 1,\n",
       "          'saurabhjaiswar': 1,\n",
       "          'okey': 1,\n",
       "          'bachne': 1,\n",
       "          'hi': 3,\n",
       "          'karne': 1,\n",
       "          'chori': 1,\n",
       "          'ghum': 1,\n",
       "          'bohot': 1,\n",
       "          'lga': 1,\n",
       "          'win': 4,\n",
       "          'wear': 5,\n",
       "          'guys': 15,\n",
       "          'worn': 1,\n",
       "          'systematic': 1,\n",
       "          'dear': 12,\n",
       "          'priya': 1,\n",
       "          'vandanasehgal': 6,\n",
       "          'iamsanjaymaru': 1,\n",
       "          'bengaluru': 4,\n",
       "          'sachincontest': 2,\n",
       "          'kjkavish': 1,\n",
       "          'healthy': 2,\n",
       "          'aakashbeast': 2,\n",
       "          'nikp': 1,\n",
       "          'accident': 2,\n",
       "          'gift': 1,\n",
       "          'birthday': 2,\n",
       "          'anniversary': 2,\n",
       "          'unnecessary': 3,\n",
       "          'driven': 2,\n",
       "          'todays': 1,\n",
       "          'refuel': 2,\n",
       "          'gimic': 1,\n",
       "          'minimal': 2,\n",
       "          'feature': 3,\n",
       "          'correct': 8,\n",
       "          'scope': 1,\n",
       "          'metro': 8,\n",
       "          'corporate': 4,\n",
       "          'friend': 3,\n",
       "          'dicky': 1,\n",
       "          'awesome': 23,\n",
       "          'utilize': 1,\n",
       "          'agilla': 1,\n",
       "          'locate': 2,\n",
       "          'subbiya': 1,\n",
       "          'sry': 1,\n",
       "          'scared': 1,\n",
       "          'hassle': 2,\n",
       "          'complaint': 1,\n",
       "          'empathy': 1,\n",
       "          'important': 27,\n",
       "          'pictwittercomzkeymusy': 1,\n",
       "          'rainy': 1,\n",
       "          'desh': 1,\n",
       "          'pillion': 1,\n",
       "          'was': 2,\n",
       "          'sick': 2,\n",
       "          'madbeda': 1,\n",
       "          'couldnt': 12,\n",
       "          'current': 8,\n",
       "          'social': 20,\n",
       "          'norming': 1,\n",
       "          'corrupt': 1,\n",
       "          'suv': 1,\n",
       "          'guess': 5,\n",
       "          'unpleasant': 17,\n",
       "          'unhappy': 16,\n",
       "          'blocked': 1,\n",
       "          'separate': 3,\n",
       "          'solid': 4,\n",
       "          'take': 9,\n",
       "          'rubbersimilar': 1,\n",
       "          'shameful': 4,\n",
       "          'commentsblrcitytraffic': 1,\n",
       "          'launch': 5,\n",
       "          'human': 4,\n",
       "          'frequent': 7,\n",
       "          'follow': 17,\n",
       "          'immature': 1,\n",
       "          'leveraging': 1,\n",
       "          'jayanth': 1,\n",
       "          'bellandur': 2,\n",
       "          'video': 5,\n",
       "          'miss': 17,\n",
       "          'disappointed': 24,\n",
       "          'economic': 3,\n",
       "          'etnowlive': 1,\n",
       "          'missing': 1,\n",
       "          'small': 22,\n",
       "          'lockunlock': 1,\n",
       "          'suggest': 2,\n",
       "          'kithaganur': 1,\n",
       "          'unqiue': 1,\n",
       "          'guy': 3,\n",
       "          'stolen': 1,\n",
       "          'saturday': 1,\n",
       "          'bookingid': 1,\n",
       "          'excellent': 8,\n",
       "          'uber': 5,\n",
       "          'looted': 1,\n",
       "          'guindy': 1,\n",
       "          'httpswwwquoracomwhycantastartuplikebounceruninindiaanswerabishekmuthian': 1,\n",
       "          'lethal': 1,\n",
       "          'refundable': 2,\n",
       "          'reinforcement': 2,\n",
       "          'helmets': 1,\n",
       "          'deutschetelekom': 4,\n",
       "          'renewable': 4,\n",
       "          'projected': 4,\n",
       "          'ambitious': 3,\n",
       "          'royalputtu': 1,\n",
       "          'preferential': 3,\n",
       "          'awareness': 1,\n",
       "          'deepolice': 1,\n",
       "          'polite': 1,\n",
       "          'uncivilized': 2,\n",
       "          'indisciplined': 1,\n",
       "          'respect': 7,\n",
       "          'get': 1,\n",
       "          'nammabengaluru': 2,\n",
       "          'compartment': 1,\n",
       "          'blatant': 4,\n",
       "          'ethical': 1,\n",
       "          'disable': 1,\n",
       "          'think': 2,\n",
       "          'isolated': 1,\n",
       "          'ignored': 1,\n",
       "          'aware': 14,\n",
       "          'equal': 4,\n",
       "          'palya': 1,\n",
       "          'present': 9,\n",
       "          'confidential': 1,\n",
       "          'high': 26,\n",
       "          'latest': 14,\n",
       "          'smartest': 3,\n",
       "          'native': 3,\n",
       "          'selfdrivescooterrental': 1,\n",
       "          'recent': 15,\n",
       "          'unfair': 2,\n",
       "          'incident': 3,\n",
       "          'sister': 1,\n",
       "          'loved': 1,\n",
       "          'obvious': 2,\n",
       "          'special': 18,\n",
       "          'whitefieldtrfps': 6,\n",
       "          'stuck': 4,\n",
       "          'walked': 2,\n",
       "          'complete': 30,\n",
       "          'weird': 3,\n",
       "          'decent': 5,\n",
       "          'potential': 7,\n",
       "          'red': 4,\n",
       "          'mafia': 1,\n",
       "          'harsh': 5,\n",
       "          'utilising': 1,\n",
       "          'haywire': 1,\n",
       "          'httpstwittercombkasavanahallistatuss': 1,\n",
       "          'robs': 2,\n",
       "          'unhelpful': 1,\n",
       "          'location': 6,\n",
       "          'geddanahalli': 1,\n",
       "          'crane': 1,\n",
       "          'relevant': 3,\n",
       "          'use': 14,\n",
       "          'portal': 2,\n",
       "          'narendramodi': 2,\n",
       "          'subject': 4,\n",
       "          'severe': 1,\n",
       "          'upstndng': 1,\n",
       "          'sensesocial': 1,\n",
       "          'arrogancecallous': 1,\n",
       "          'innumerable': 2,\n",
       "          'babybathtub': 1,\n",
       "          'mischief': 1,\n",
       "          'bothered': 2,\n",
       "          'mre': 1,\n",
       "          'wid': 1,\n",
       "          'prime': 1,\n",
       "          'asap': 7,\n",
       "          'mean': 2,\n",
       "          'professional': 2,\n",
       "          'grave': 2,\n",
       "          'wanted': 1,\n",
       "          'sophisticated': 1,\n",
       "          'pm': 12,\n",
       "          'hebbal': 2,\n",
       "          'black': 4,\n",
       "          'forgotten': 1,\n",
       "          'nodi': 1,\n",
       "          'adashte': 1,\n",
       "          'retrieve': 2,\n",
       "          'revelatory': 1,\n",
       "          'zag': 1,\n",
       "          'everywhereblrcitytraffic': 1,\n",
       "          'strong': 10,\n",
       "          'kudos': 1,\n",
       "          'incredible': 7,\n",
       "          'advertise': 2,\n",
       "          'let': 2,\n",
       "          'industrial': 2,\n",
       "          'powerful': 1,\n",
       "          'focus': 1,\n",
       "          'biggest': 8,\n",
       "          'impossible': 8,\n",
       "          'meanwhile': 1,\n",
       "          'mugs': 1,\n",
       "          'spare': 6,\n",
       "          'randomly': 2,\n",
       "          'cold': 1,\n",
       "          'yulu': 3,\n",
       "          'unforeseen': 1,\n",
       "          'idiotic': 3,\n",
       "          'alive': 2,\n",
       "          'uppl': 1,\n",
       "          'shashibk': 1,\n",
       "          'heavy': 16,\n",
       "          'scootys': 1,\n",
       "          'krpuram': 1,\n",
       "          'tackle': 2,\n",
       "          'diffrent': 1,\n",
       "          'applicationyou': 1,\n",
       "          'loose': 4,\n",
       "          'commendable': 2,\n",
       "          'acpsouthtrf': 1,\n",
       "          'create': 5,\n",
       "          'fossil': 1,\n",
       "          'newest': 1,\n",
       "          'ev': 2,\n",
       "          'genentech': 1,\n",
       "          'novonordisk': 1,\n",
       "          'bouncesharerajesh': 1,\n",
       "          'mirror': 1,\n",
       "          'fundamental': 15,\n",
       "          'resolve': 2,\n",
       "          'generic': 1,\n",
       "          'narrow': 6,\n",
       "          'unsafe': 3,\n",
       "          'broken': 9,\n",
       "          'went': 1,\n",
       "          'mobbed': 1,\n",
       "          'youve': 1,\n",
       "          'stand': 1,\n",
       "          'throw': 1,\n",
       "          'hear': 33,\n",
       "          'vibe': 1,\n",
       "          'tysm': 1,\n",
       "          'grt': 3,\n",
       "          'elastic': 1,\n",
       "          'unbelievable': 2,\n",
       "          'learnt': 1,\n",
       "          'excess': 4,\n",
       "          'gaargeous': 1,\n",
       "          'athra': 1,\n",
       "          'lame': 2,\n",
       "          'lodge': 1,\n",
       "          'grand': 1,\n",
       "          'nagenahalli': 1,\n",
       "          'random': 10,\n",
       "          'rented': 5,\n",
       "          'rampant': 1,\n",
       "          'entice': 1,\n",
       "          'illtreat': 1,\n",
       "          'feel': 1,\n",
       "          'unknown': 2,\n",
       "          'break': 3,\n",
       "          'inaccessible': 2,\n",
       "          'green': 6,\n",
       "          'internal': 1,\n",
       "          'genuine': 5,\n",
       "          'dry': 1,\n",
       "          'sir': 1,\n",
       "          'footpaths': 6,\n",
       "          'etc': 4,\n",
       "          'certain': 15,\n",
       "          'irritation': 1,\n",
       "          'autorickshaws': 1,\n",
       "          'ample': 2,\n",
       "          'fr': 1,\n",
       "          'uneven': 1,\n",
       "          'collect': 29,\n",
       "          'users': 6,\n",
       "          'fault': 1,\n",
       "          'fair': 1,\n",
       "          'noticewe': 5,\n",
       "          'rent': 4,\n",
       "          'median': 1,\n",
       "          'half': 7,\n",
       "          'nearer': 1,\n",
       "          'loyal': 5,\n",
       "          'salute': 1,\n",
       "          'dad': 1,\n",
       "          'ease': 3,\n",
       "          'luncheonwithpooja': 1,\n",
       "          'hardware': 1,\n",
       "          'evrytme': 1,\n",
       "          'couple': 11,\n",
       "          'active': 14,\n",
       "          'constant': 11,\n",
       "          'hrs': 8,\n",
       "          'ticket': 6,\n",
       "          'whats': 1,\n",
       "          'wrost': 1,\n",
       "          'workshop': 1,\n",
       "          'durable': 1,\n",
       "          'passionate': 1,\n",
       "          'devfest': 4,\n",
       "          'mad': 1,\n",
       "          'cheap': 9,\n",
       "          'underpassbusy': 1,\n",
       "          'ridesday': 4,\n",
       "          'acq': 1,\n",
       "          'robbery': 1,\n",
       "          'gut': 1,\n",
       "          'general': 9,\n",
       "          'screw': 3,\n",
       "          'gang': 1,\n",
       "          'unsatisfied': 1,\n",
       "          'effected': 1,\n",
       "          'netkallapa': 1,\n",
       "          'whopping': 1,\n",
       "          'approx': 2,\n",
       "          'swift': 1,\n",
       "          'insure': 1,\n",
       "          'ridiculous': 6,\n",
       "          'sudden': 4,\n",
       "          'stopped': 1,\n",
       "          'caused': 7,\n",
       "          'superb': 2,\n",
       "          'help': 4,\n",
       "          'hello': 1,\n",
       "          'double': 1,\n",
       "          'apologize': 3,\n",
       "          'rd': 3,\n",
       "          'tyre': 2,\n",
       "          'repair': 1,\n",
       "          'injured': 1,\n",
       "          ...})"
      ]
     },
     "execution_count": 234,
     "metadata": {
      "tags": []
     },
     "output_type": "execute_result"
    }
   ],
   "source": [
    "# creating a frequency distribution of each adjectives\n",
    "all_words_adj = nltk.FreqDist(all_words_adj)\n",
    "all_words_adj"
   ]
  },
  {
   "cell_type": "code",
   "execution_count": 235,
   "metadata": {
    "colab": {
     "base_uri": "https://localhost:8080/",
     "height": 334
    },
    "colab_type": "code",
    "id": "Js3XfgGQ1SNq",
    "outputId": "26597c3f-b221-483d-bf1b-31db1b33a4b9"
   },
   "outputs": [
    {
     "data": {
      "image/png": "[encoded data removed]",
      "text/plain": [
       "<Figure size 432x288 with 1 Axes>"
      ]
     },
     "metadata": {
      "needs_background": "light",
      "tags": []
     },
     "output_type": "display_data"
    }
   ],
   "source": [
    "\n",
    "all_words_adj.plot(30,cumulative = False)\n",
    "plt.show()"
   ]
  },
  {
   "cell_type": "code",
   "execution_count": 236,
   "metadata": {
    "colab": {
     "base_uri": "https://localhost:8080/",
     "height": 1000
    },
    "colab_type": "code",
    "id": "6I0Mds9h1SNs",
    "outputId": "c6be8410-ad77-470b-a18a-08d3e1f21cb0"
   },
   "outputs": [
    {
     "data": {
      "text/plain": [
       "['global',\n",
       " 'first',\n",
       " 'helmet',\n",
       " 'hygiene',\n",
       " 'comfortable',\n",
       " 'great',\n",
       " 'sincere',\n",
       " 'checked',\n",
       " 'payroll',\n",
       " 'entire',\n",
       " 'bounceshare',\n",
       " 'nitingadkari',\n",
       " 'notice',\n",
       " 'snap',\n",
       " 'individual',\n",
       " 'earliest',\n",
       " 'much',\n",
       " 'contact',\n",
       " 'touch',\n",
       " 'big',\n",
       " 'respective',\n",
       " 'necessary',\n",
       " 'bike',\n",
       " 'concerned',\n",
       " 'upparpetetrfps',\n",
       " 'dangerous',\n",
       " 'main',\n",
       " 'k',\n",
       " 'daily',\n",
       " 'public',\n",
       " 'sure',\n",
       " 'strict',\n",
       " 'basic',\n",
       " 'call',\n",
       " 'many',\n",
       " 'possible',\n",
       " 'impressive',\n",
       " 'new',\n",
       " 'telephonic',\n",
       " 'thread',\n",
       " 'more',\n",
       " 'ride',\n",
       " 'reimagine',\n",
       " 'nice',\n",
       " 'app',\n",
       " 'user',\n",
       " 'critical',\n",
       " 'feedback',\n",
       " 'shaileshlakhani',\n",
       " 'entite',\n",
       " 'next',\n",
       " 'happy',\n",
       " 'willing',\n",
       " 'open',\n",
       " 'future',\n",
       " 'team',\n",
       " 'exact',\n",
       " 'helpful',\n",
       " 'picked',\n",
       " 'list',\n",
       " 'allignment',\n",
       " 'rear',\n",
       " 'common',\n",
       " 'sorry',\n",
       " 'ideas',\n",
       " 'unable',\n",
       " 'start',\n",
       " 'able',\n",
       " 'issue',\n",
       " 'original',\n",
       " 'cool',\n",
       " 'impactful',\n",
       " 'past',\n",
       " 'good',\n",
       " 'last',\n",
       " 'long',\n",
       " 'alternate',\n",
       " 'farekm',\n",
       " 'available',\n",
       " 'near',\n",
       " 'mandatory',\n",
       " 'best',\n",
       " 'free',\n",
       " 'website',\n",
       " 'grateful',\n",
       " 'top',\n",
       " 'wonderful',\n",
       " 'key',\n",
       " 'tarunsmehta',\n",
       " 'single',\n",
       " 'logic',\n",
       " 'right',\n",
       " 'multiple',\n",
       " 'bribes',\n",
       " 'rest',\n",
       " 'acceptable',\n",
       " 'flat',\n",
       " 'such',\n",
       " 'mainstream',\n",
       " 'least',\n",
       " 'thrown',\n",
       " 'accountable',\n",
       " 'bad',\n",
       " 'spell',\n",
       " 'signal',\n",
       " 'useful',\n",
       " 'intent',\n",
       " 'tougher',\n",
       " 'expect',\n",
       " 'didnt',\n",
       " 'inside',\n",
       " 'fine',\n",
       " 'refund',\n",
       " 'real',\n",
       " 'responsible',\n",
       " 'pathetic',\n",
       " 'selfie',\n",
       " 'upload',\n",
       " 'discovery',\n",
       " 'investigating',\n",
       " 'messagesi',\n",
       " 'companywhy',\n",
       " 'cant',\n",
       " 'dont',\n",
       " 'higher',\n",
       " 'steal',\n",
       " 'shame',\n",
       " 'sad',\n",
       " 'purple',\n",
       " 'inform',\n",
       " 'request',\n",
       " 'mobile',\n",
       " 'smile',\n",
       " 'meteoric',\n",
       " 'palpable',\n",
       " 'express',\n",
       " 'v',\n",
       " 'stil',\n",
       " 'frm',\n",
       " 'n',\n",
       " 'uninstalled',\n",
       " 'ur',\n",
       " 'personal',\n",
       " 'inspite',\n",
       " 'impeccable',\n",
       " 'easy',\n",
       " 'hard',\n",
       " 'extra',\n",
       " 'wrong',\n",
       " 'false',\n",
       " 'th',\n",
       " 'please',\n",
       " 'true',\n",
       " 'most',\n",
       " 'lot',\n",
       " 'interesting',\n",
       " 'solve',\n",
       " 'valid',\n",
       " 'fathom',\n",
       " 'behavior',\n",
       " 'previous',\n",
       " 'left',\n",
       " 'unacceptable',\n",
       " 'finish',\n",
       " 'find',\n",
       " 'tried',\n",
       " 'permanent',\n",
       " 'afraid',\n",
       " 'unusable',\n",
       " 'safe',\n",
       " 'tech',\n",
       " 'minor',\n",
       " 'final',\n",
       " 'know',\n",
       " 'matter',\n",
       " 'scooty',\n",
       " 'atrocious',\n",
       " 'ton',\n",
       " 'par',\n",
       " 'sincerest',\n",
       " 'understand',\n",
       " 'hefty',\n",
       " 'poor',\n",
       " 'assist',\n",
       " 'valuable',\n",
       " 'doesnt',\n",
       " 'regular',\n",
       " 'useri',\n",
       " 'irritated',\n",
       " 'itelectronic',\n",
       " 'connected',\n",
       " 'nae',\n",
       " 'usaka',\n",
       " 'abused',\n",
       " 'less',\n",
       " 'alternative',\n",
       " 'suburban',\n",
       " 'used',\n",
       " 'sustainable',\n",
       " 'low',\n",
       " 'lower',\n",
       " 'otp',\n",
       " 'give',\n",
       " 'initiative',\n",
       " 'inhuman',\n",
       " 'cab',\n",
       " 'due',\n",
       " 'precautionary',\n",
       " 'full',\n",
       " 'largest',\n",
       " 'opposite',\n",
       " 'vivekanandahr',\n",
       " 'neardeath',\n",
       " 'nontech',\n",
       " 'logos',\n",
       " 'profitable',\n",
       " 'build',\n",
       " 'indian',\n",
       " 'polycentric',\n",
       " 'uptowndowntown',\n",
       " 'retrieved',\n",
       " 'rides',\n",
       " 'bigger',\n",
       " 'convenient',\n",
       " 'tops',\n",
       " 'crazy',\n",
       " 'dumb',\n",
       " 'ypur',\n",
       " 'apartment',\n",
       " 'larger',\n",
       " 'effortyou',\n",
       " 'proud',\n",
       " 'lastmile',\n",
       " 'wish',\n",
       " 'scale',\n",
       " 'amazing',\n",
       " 'moral',\n",
       " 'lawful',\n",
       " 'middle',\n",
       " 'analyseblacklist',\n",
       " 'behaviour',\n",
       " 'yellow',\n",
       " 'question',\n",
       " 'remote',\n",
       " 'proficient',\n",
       " 'digital',\n",
       " 'reject',\n",
       " 'agree',\n",
       " 'fastest',\n",
       " 'trajectory',\n",
       " 'update',\n",
       " 'travelsnear',\n",
       " 'mile',\n",
       " 'slove',\n",
       " 'kr',\n",
       " 'sort',\n",
       " 'needful',\n",
       " 'nearby',\n",
       " 'scooter',\n",
       " 'busy',\n",
       " 'avoid',\n",
       " 'atekadt',\n",
       " 'u',\n",
       " 'path',\n",
       " 'positive',\n",
       " 'confident',\n",
       " 'popularby',\n",
       " 'anybike',\n",
       " 'electronic',\n",
       " 'park',\n",
       " 'legal',\n",
       " 'techpark',\n",
       " 'method',\n",
       " 'earlier',\n",
       " 'ganeshk',\n",
       " 'negative',\n",
       " 'urban',\n",
       " 'commute',\n",
       " 'revert',\n",
       " 'bounce',\n",
       " 'which',\n",
       " 'plan',\n",
       " 'clear',\n",
       " 'mtr',\n",
       " 'penalize',\n",
       " 'busiest',\n",
       " 'serious',\n",
       " 'jakkur',\n",
       " 'rickshaws',\n",
       " 'difficult',\n",
       " 'cabs',\n",
       " 'major',\n",
       " 'reliable',\n",
       " 'live',\n",
       " 'usual',\n",
       " 'outside',\n",
       " 'nearest',\n",
       " 'outstanding',\n",
       " 'better',\n",
       " 'rialways',\n",
       " 'provide',\n",
       " 'search',\n",
       " 'fellow',\n",
       " 'affordable',\n",
       " 'unscientific',\n",
       " 'unplanned',\n",
       " 'distant',\n",
       " 'rental',\n",
       " 'short',\n",
       " 'economical',\n",
       " 'fare',\n",
       " 'similar',\n",
       " 'hailacab',\n",
       " 'safest',\n",
       " 'commercial',\n",
       " 'private',\n",
       " 'practical',\n",
       " 'different',\n",
       " 'fix',\n",
       " 'cabbier',\n",
       " 'mr',\n",
       " 'die',\n",
       " 'slow',\n",
       " 'old',\n",
       " 'empty',\n",
       " 'operative',\n",
       " 'frustrating',\n",
       " 'everytime',\n",
       " 'purpose',\n",
       " 'close',\n",
       " 'teamwe',\n",
       " 'triple',\n",
       " 'parking',\n",
       " 'terrible',\n",
       " 'appreciate',\n",
       " 'citizen',\n",
       " 'non',\n",
       " 'simple',\n",
       " 'bangaloretraffic',\n",
       " 'train',\n",
       " 'rapidobikeapp',\n",
       " 'defame',\n",
       " 'irresponsible',\n",
       " 'blame',\n",
       " 'become',\n",
       " 'nuisance',\n",
       " 'large',\n",
       " 'rectified',\n",
       " 'immediate',\n",
       " 'quick',\n",
       " 'interested',\n",
       " 'ibala',\n",
       " 'third',\n",
       " 'license',\n",
       " 'theft',\n",
       " 'fourth',\n",
       " 'receipt',\n",
       " 'want',\n",
       " 'come',\n",
       " 'cut',\n",
       " 'ready',\n",
       " 'illegal',\n",
       " 'overall',\n",
       " 'rs',\n",
       " 'total',\n",
       " 'everyday',\n",
       " 'enough',\n",
       " 'electric',\n",
       " 'forward',\n",
       " 'type',\n",
       " 'errant',\n",
       " 'govt',\n",
       " 'draconian',\n",
       " 'stringent',\n",
       " 'innovative',\n",
       " 'wont',\n",
       " 'visible',\n",
       " 'female',\n",
       " 'got',\n",
       " 'ban',\n",
       " 'blrcitytraffic',\n",
       " 'significant',\n",
       " 'forth',\n",
       " 'proper',\n",
       " 'highest',\n",
       " 'painful',\n",
       " 'spoilt',\n",
       " 'beautiful',\n",
       " 'companys',\n",
       " 'commutable',\n",
       " 'occupied',\n",
       " 'r',\n",
       " 'elaborate',\n",
       " 'address',\n",
       " 'process',\n",
       " 'description',\n",
       " 'end',\n",
       " 'stop',\n",
       " 'promote',\n",
       " 'httpappit',\n",
       " 'priority',\n",
       " 'risky',\n",
       " 'horrible',\n",
       " 'motivate',\n",
       " 'unfortunate',\n",
       " 'todayi',\n",
       " 'riden',\n",
       " 'kept',\n",
       " 'investigated',\n",
       " 'happen',\n",
       " 'attached',\n",
       " 'chikkabanvara',\n",
       " 'sai',\n",
       " 'baba',\n",
       " 'purse',\n",
       " 'vogo',\n",
       " 'pls',\n",
       " 'photos',\n",
       " 'unlock',\n",
       " 'select',\n",
       " 'discount',\n",
       " 'referral',\n",
       " 'karma',\n",
       " 'animesh',\n",
       " 'precious',\n",
       " 'responsibil',\n",
       " 'unused',\n",
       " 'whole',\n",
       " 'ragavendra',\n",
       " 'swamy',\n",
       " 'hourly',\n",
       " 'white',\n",
       " 'hasslefree',\n",
       " 'watchdog',\n",
       " 'prevent',\n",
       " 'imo',\n",
       " 'vs',\n",
       " 'various',\n",
       " 'handle',\n",
       " 'drmsbc',\n",
       " 'irrespective',\n",
       " 'relative',\n",
       " 'smart',\n",
       " 'connect',\n",
       " 'advantedgevc',\n",
       " 'pricng',\n",
       " 'dynamic',\n",
       " 'realised',\n",
       " 'nasty',\n",
       " 'selfish',\n",
       " 'trunk',\n",
       " 'unjust',\n",
       " 'unusual',\n",
       " 'updated',\n",
       " 'automate',\n",
       " 'massive',\n",
       " 'cover',\n",
       " 'anandc',\n",
       " 'few',\n",
       " 'myntra',\n",
       " 'nonsense',\n",
       " 'tactical',\n",
       " 'latter',\n",
       " 'applicable',\n",
       " 'email',\n",
       " 'other',\n",
       " 'colour',\n",
       " 'is',\n",
       " 'perfect',\n",
       " 'ok',\n",
       " 'monthly',\n",
       " 'graphite',\n",
       " 'laned',\n",
       " 'front',\n",
       " 'mechanical',\n",
       " 'electrical',\n",
       " 'trustworthy',\n",
       " 'vehichle',\n",
       " 'inner',\n",
       " 'return',\n",
       " 'almst',\n",
       " 'signalyesterday',\n",
       " 'fuel',\n",
       " 'little',\n",
       " 'hal',\n",
       " 'beside',\n",
       " 'blessedkamal',\n",
       " 'sheetal',\n",
       " 'selfieholic',\n",
       " 'sanghvinikita',\n",
       " 'nahi',\n",
       " 'parked',\n",
       " 'pedestrian',\n",
       " 'whys',\n",
       " 'track',\n",
       " 'netive',\n",
       " 'invited',\n",
       " 'contest',\n",
       " 'welcome',\n",
       " 'da',\n",
       " 'wealthy',\n",
       " 'upbringing',\n",
       " 'uneducated',\n",
       " 'satish',\n",
       " 'make',\n",
       " 'indu',\n",
       " 'wittyvishal',\n",
       " 'sanchitabhartiy',\n",
       " 'penalized',\n",
       " 'defence',\n",
       " 'aadersh',\n",
       " 'rakhi',\n",
       " 'canteen',\n",
       " 'sia',\n",
       " 'nsverma',\n",
       " 'sequoia',\n",
       " 'sufficient',\n",
       " 'pop',\n",
       " 'sandeep',\n",
       " 'sandgopal',\n",
       " 'pictwittercomwnhegmft',\n",
       " 'mysterymaish',\n",
       " 'imqamarunnisa',\n",
       " 'ranchikuldeep',\n",
       " 'shivanikjain',\n",
       " 'dipakjad',\n",
       " 'favourite',\n",
       " 'favorite',\n",
       " 'american',\n",
       " 'getgeekandglam',\n",
       " 'easier',\n",
       " 'suriyaisthebest',\n",
       " 'baigan',\n",
       " 'itsmerooh',\n",
       " 'sengodan',\n",
       " 'ta',\n",
       " 'misssmita',\n",
       " 'tarunkrekha',\n",
       " 'pallavinukala',\n",
       " 'madhu',\n",
       " 'super',\n",
       " 'shubhammaral',\n",
       " 'jaree',\n",
       " 'famous',\n",
       " 'exciting',\n",
       " 'worth',\n",
       " 'particular',\n",
       " 'aggressive',\n",
       " 'wat',\n",
       " 'joke',\n",
       " 'tow',\n",
       " 'celebrate',\n",
       " 'evil',\n",
       " 'basement',\n",
       " 'worst',\n",
       " 'kuch',\n",
       " 'meant',\n",
       " 'footpath',\n",
       " 'civic',\n",
       " 'execs',\n",
       " 'accept',\n",
       " 'emotional',\n",
       " 'youll',\n",
       " 'identify',\n",
       " 'secular',\n",
       " 'dropped',\n",
       " 'second',\n",
       " 'pick',\n",
       " 'delightful',\n",
       " 'std',\n",
       " 'specific',\n",
       " 'culpable',\n",
       " 'pull',\n",
       " 'bring',\n",
       " 'spite',\n",
       " 'thief',\n",
       " 'st',\n",
       " 'pickup',\n",
       " 'smarter',\n",
       " 'inspired',\n",
       " 'deep',\n",
       " 'stole',\n",
       " 'ths',\n",
       " 'rash',\n",
       " 'alng',\n",
       " 'international',\n",
       " 'vehiclei',\n",
       " 'attractive',\n",
       " 'cautious',\n",
       " 'huge',\n",
       " 'odd',\n",
       " 'baat',\n",
       " 'impressed',\n",
       " 'saves',\n",
       " 'late',\n",
       " 'strive',\n",
       " 'sound',\n",
       " 'glad',\n",
       " 'receive',\n",
       " 'prompt',\n",
       " 'escalate',\n",
       " 'fareit',\n",
       " 'mental',\n",
       " 'nd',\n",
       " 'tired',\n",
       " 'screenshot',\n",
       " 'invalid',\n",
       " 'approximate',\n",
       " 'cal',\n",
       " 'ayudhapooja',\n",
       " 'drastic',\n",
       " 'tremendous',\n",
       " 'eligible',\n",
       " 'bouncehelmet',\n",
       " 'extend',\n",
       " 'thrice',\n",
       " 'stupid',\n",
       " 'criminal',\n",
       " 'info',\n",
       " 'timing',\n",
       " 'message',\n",
       " 'festival',\n",
       " 'several',\n",
       " 'tonight',\n",
       " 'safeish',\n",
       " 'overnight',\n",
       " 'file',\n",
       " 'compliant',\n",
       " 'unbearable',\n",
       " 'see',\n",
       " 'appropriate',\n",
       " 'ola',\n",
       " 'nominal',\n",
       " 'recommend',\n",
       " 'shot',\n",
       " 'est',\n",
       " 'wickedride',\n",
       " 'holistic',\n",
       " 'commitment',\n",
       " 'screen',\n",
       " 'luckygal',\n",
       " 'unmatchable',\n",
       " 'satisfied',\n",
       " 'availability',\n",
       " 'hate',\n",
       " 'timesofindia',\n",
       " 'ppl',\n",
       " 'popular',\n",
       " 'fortify',\n",
       " 'contrary',\n",
       " 'manish',\n",
       " 'unethical',\n",
       " 'jigini',\n",
       " 'sddec',\n",
       " 'appreciable',\n",
       " 'pretty',\n",
       " 'preetimohanjha',\n",
       " 'coming',\n",
       " 'technical',\n",
       " 'anuj',\n",
       " 'technicalmiss',\n",
       " 'umesh',\n",
       " 'sainaresh',\n",
       " 'saurabhjaiswar',\n",
       " 'okey',\n",
       " 'bachne',\n",
       " 'hi',\n",
       " 'karne',\n",
       " 'chori',\n",
       " 'ghum',\n",
       " 'bohot',\n",
       " 'lga',\n",
       " 'win',\n",
       " 'wear',\n",
       " 'guys',\n",
       " 'worn',\n",
       " 'systematic',\n",
       " 'dear',\n",
       " 'priya',\n",
       " 'vandanasehgal',\n",
       " 'iamsanjaymaru',\n",
       " 'bengaluru',\n",
       " 'sachincontest',\n",
       " 'kjkavish',\n",
       " 'healthy',\n",
       " 'aakashbeast',\n",
       " 'nikp',\n",
       " 'accident',\n",
       " 'gift',\n",
       " 'birthday',\n",
       " 'anniversary',\n",
       " 'unnecessary',\n",
       " 'driven',\n",
       " 'todays',\n",
       " 'refuel',\n",
       " 'gimic',\n",
       " 'minimal',\n",
       " 'feature',\n",
       " 'correct',\n",
       " 'scope',\n",
       " 'metro',\n",
       " 'corporate',\n",
       " 'friend',\n",
       " 'dicky',\n",
       " 'awesome',\n",
       " 'utilize',\n",
       " 'agilla',\n",
       " 'locate',\n",
       " 'subbiya',\n",
       " 'sry',\n",
       " 'scared',\n",
       " 'hassle',\n",
       " 'complaint',\n",
       " 'empathy',\n",
       " 'important',\n",
       " 'pictwittercomzkeymusy',\n",
       " 'rainy',\n",
       " 'desh',\n",
       " 'pillion',\n",
       " 'was',\n",
       " 'sick',\n",
       " 'madbeda',\n",
       " 'couldnt',\n",
       " 'current',\n",
       " 'social',\n",
       " 'norming',\n",
       " 'corrupt',\n",
       " 'suv',\n",
       " 'guess',\n",
       " 'unpleasant',\n",
       " 'unhappy',\n",
       " 'blocked',\n",
       " 'separate',\n",
       " 'solid',\n",
       " 'take',\n",
       " 'rubbersimilar',\n",
       " 'shameful',\n",
       " 'commentsblrcitytraffic',\n",
       " 'launch',\n",
       " 'human',\n",
       " 'frequent',\n",
       " 'follow',\n",
       " 'immature',\n",
       " 'leveraging',\n",
       " 'jayanth',\n",
       " 'bellandur',\n",
       " 'video',\n",
       " 'miss',\n",
       " 'disappointed',\n",
       " 'economic',\n",
       " 'etnowlive',\n",
       " 'missing',\n",
       " 'small',\n",
       " 'lockunlock',\n",
       " 'suggest',\n",
       " 'kithaganur',\n",
       " 'unqiue',\n",
       " 'guy',\n",
       " 'stolen',\n",
       " 'saturday',\n",
       " 'bookingid',\n",
       " 'excellent',\n",
       " 'uber',\n",
       " 'looted',\n",
       " 'guindy',\n",
       " 'httpswwwquoracomwhycantastartuplikebounceruninindiaanswerabishekmuthian',\n",
       " 'lethal',\n",
       " 'refundable',\n",
       " 'reinforcement',\n",
       " 'helmets',\n",
       " 'deutschetelekom',\n",
       " 'renewable',\n",
       " 'projected',\n",
       " 'ambitious',\n",
       " 'royalputtu',\n",
       " 'preferential',\n",
       " 'awareness',\n",
       " 'deepolice',\n",
       " 'polite',\n",
       " 'uncivilized',\n",
       " 'indisciplined',\n",
       " 'respect',\n",
       " 'get',\n",
       " 'nammabengaluru',\n",
       " 'compartment',\n",
       " 'blatant',\n",
       " 'ethical',\n",
       " 'disable',\n",
       " 'think',\n",
       " 'isolated',\n",
       " 'ignored',\n",
       " 'aware',\n",
       " 'equal',\n",
       " 'palya',\n",
       " 'present',\n",
       " 'confidential',\n",
       " 'high',\n",
       " 'latest',\n",
       " 'smartest',\n",
       " 'native',\n",
       " 'selfdrivescooterrental',\n",
       " 'recent',\n",
       " 'unfair',\n",
       " 'incident',\n",
       " 'sister',\n",
       " 'loved',\n",
       " 'obvious',\n",
       " 'special',\n",
       " 'whitefieldtrfps',\n",
       " 'stuck',\n",
       " 'walked',\n",
       " 'complete',\n",
       " 'weird',\n",
       " 'decent',\n",
       " 'potential',\n",
       " 'red',\n",
       " 'mafia',\n",
       " 'harsh',\n",
       " 'utilising',\n",
       " 'haywire',\n",
       " 'httpstwittercombkasavanahallistatuss',\n",
       " 'robs',\n",
       " 'unhelpful',\n",
       " 'location',\n",
       " 'geddanahalli',\n",
       " 'crane',\n",
       " 'relevant',\n",
       " 'use',\n",
       " 'portal',\n",
       " 'narendramodi',\n",
       " 'subject',\n",
       " 'severe',\n",
       " 'upstndng',\n",
       " 'sensesocial',\n",
       " 'arrogancecallous',\n",
       " 'innumerable',\n",
       " 'babybathtub',\n",
       " 'mischief',\n",
       " 'bothered',\n",
       " 'mre',\n",
       " 'wid',\n",
       " 'prime',\n",
       " 'asap',\n",
       " 'mean',\n",
       " 'professional',\n",
       " 'grave',\n",
       " 'wanted',\n",
       " 'sophisticated',\n",
       " 'pm',\n",
       " 'hebbal',\n",
       " 'black',\n",
       " 'forgotten',\n",
       " 'nodi',\n",
       " 'adashte',\n",
       " 'retrieve',\n",
       " 'revelatory',\n",
       " 'zag',\n",
       " 'everywhereblrcitytraffic',\n",
       " 'strong',\n",
       " 'kudos',\n",
       " 'incredible',\n",
       " 'advertise',\n",
       " 'let',\n",
       " 'industrial',\n",
       " 'powerful',\n",
       " 'focus',\n",
       " 'biggest',\n",
       " 'impossible',\n",
       " 'meanwhile',\n",
       " 'mugs',\n",
       " 'spare',\n",
       " 'randomly',\n",
       " 'cold',\n",
       " 'yulu',\n",
       " 'unforeseen',\n",
       " 'idiotic',\n",
       " 'alive',\n",
       " 'uppl',\n",
       " 'shashibk',\n",
       " 'heavy',\n",
       " 'scootys',\n",
       " 'krpuram',\n",
       " 'tackle',\n",
       " 'diffrent',\n",
       " 'applicationyou',\n",
       " 'loose',\n",
       " 'commendable',\n",
       " 'acpsouthtrf',\n",
       " 'create',\n",
       " 'fossil',\n",
       " 'newest',\n",
       " 'ev',\n",
       " 'genentech',\n",
       " 'novonordisk',\n",
       " 'bouncesharerajesh',\n",
       " 'mirror',\n",
       " 'fundamental',\n",
       " 'resolve',\n",
       " 'generic',\n",
       " 'narrow',\n",
       " 'unsafe',\n",
       " 'broken',\n",
       " 'went',\n",
       " 'mobbed',\n",
       " 'youve',\n",
       " 'stand',\n",
       " 'throw',\n",
       " 'hear',\n",
       " 'vibe',\n",
       " 'tysm',\n",
       " 'grt',\n",
       " 'elastic',\n",
       " 'unbelievable',\n",
       " 'learnt',\n",
       " 'excess',\n",
       " 'gaargeous',\n",
       " 'athra',\n",
       " 'lame',\n",
       " 'lodge',\n",
       " 'grand',\n",
       " 'nagenahalli',\n",
       " 'random',\n",
       " 'rented',\n",
       " 'rampant',\n",
       " 'entice',\n",
       " 'illtreat',\n",
       " 'feel',\n",
       " 'unknown',\n",
       " 'break',\n",
       " 'inaccessible',\n",
       " 'green',\n",
       " 'internal',\n",
       " 'genuine',\n",
       " 'dry',\n",
       " 'sir',\n",
       " 'footpaths',\n",
       " 'etc',\n",
       " 'certain',\n",
       " 'irritation',\n",
       " 'autorickshaws',\n",
       " 'ample',\n",
       " 'fr',\n",
       " 'uneven',\n",
       " 'collect',\n",
       " 'users',\n",
       " 'fault',\n",
       " 'fair',\n",
       " 'noticewe',\n",
       " 'rent',\n",
       " 'median',\n",
       " 'half',\n",
       " 'nearer',\n",
       " 'loyal',\n",
       " 'salute',\n",
       " 'dad',\n",
       " 'ease',\n",
       " 'luncheonwithpooja',\n",
       " 'hardware',\n",
       " 'evrytme',\n",
       " 'couple',\n",
       " 'active',\n",
       " 'constant',\n",
       " 'hrs',\n",
       " 'ticket',\n",
       " 'whats',\n",
       " 'wrost',\n",
       " 'workshop',\n",
       " 'durable',\n",
       " 'passionate',\n",
       " 'devfest',\n",
       " 'mad',\n",
       " 'cheap',\n",
       " 'underpassbusy',\n",
       " 'ridesday',\n",
       " 'acq',\n",
       " 'robbery',\n",
       " 'gut',\n",
       " 'general',\n",
       " 'screw',\n",
       " 'gang',\n",
       " 'unsatisfied',\n",
       " 'effected',\n",
       " 'netkallapa',\n",
       " 'whopping',\n",
       " 'approx',\n",
       " 'swift',\n",
       " 'insure',\n",
       " 'ridiculous',\n",
       " 'sudden',\n",
       " 'stopped',\n",
       " 'caused',\n",
       " 'superb',\n",
       " 'help',\n",
       " 'hello',\n",
       " 'double',\n",
       " 'apologize',\n",
       " 'rd',\n",
       " 'tyre',\n",
       " 'repair',\n",
       " 'injured',\n",
       " ...]"
      ]
     },
     "execution_count": 236,
     "metadata": {
      "tags": []
     },
     "output_type": "execute_result"
    }
   ],
   "source": [
    "word_features = list(all_words_adj.keys())[:8000]\n",
    "word_features"
   ]
  },
  {
   "cell_type": "markdown",
   "metadata": {
    "colab_type": "text",
    "id": "AY34u-ml1SNu"
   },
   "source": [
    "#### Which hashtags are used mostly quarterly?"
   ]
  },
  {
   "cell_type": "code",
   "execution_count": 237,
   "metadata": {
    "colab": {
     "base_uri": "https://localhost:8080/",
     "height": 217
    },
    "colab_type": "code",
    "id": "UZ1MsADt1SNu",
    "outputId": "e36b2248-2854-4987-a012-aa94d554f6e5"
   },
   "outputs": [
    {
     "data": {
      "text/plain": [
       "[]                                                                              9776\n",
       "['#luruhopping', '#bounceshare']                                                 290\n",
       "['#bounce']                                                                      230\n",
       "['#letsbounce', '#bounceshare', '#bouncecontest']                                106\n",
       "['#passsafetyon']                                                                 83\n",
       "                                                                                ... \n",
       "['#broken', '#bike', '#accidents']                                                 1\n",
       "['#exclusive', '#scooter']                                                         1\n",
       "['#bounce', '#vogo']                                                               1\n",
       "['#shamebounce']                                                                   1\n",
       "['#stamp2019', '#mumbai', '#lastmile', '#stamp2017', '#bengaluru', '#cifos']       1\n",
       "Name: hashtags, Length: 732, dtype: int64"
      ]
     },
     "execution_count": 237,
     "metadata": {
      "tags": []
     },
     "output_type": "execute_result"
    }
   ],
   "source": [
    "data[\"hashtags\"].value_counts()"
   ]
  },
  {
   "cell_type": "code",
   "execution_count": 238,
   "metadata": {
    "colab": {
     "base_uri": "https://localhost:8080/",
     "height": 593
    },
    "colab_type": "code",
    "id": "czbF1r_A1SNx",
    "outputId": "71e0a879-ee0d-4514-8eb9-4f94af8f8d92"
   },
   "outputs": [
    {
     "data": {
      "image/png": "[encoded data removed]",
      "text/plain": [
       "<Figure size 1152x1152 with 1 Axes>"
      ]
     },
     "metadata": {
      "needs_background": "light",
      "tags": []
     },
     "output_type": "display_data"
    }
   ],
   "source": [
    "\n",
    "a = nltk.FreqDist(data[\"hashtags\"])\n",
    "b = pd.DataFrame({'Hashtag': list(a.keys()),\n",
    "                  'Count': list(a.values())})\n",
    "\n",
    "#Select frequent hashtags\n",
    "#Here we use 20 hashtags i.e. n=20\n",
    "\n",
    "b = b.nlargest(columns=\"Count\", n=20)\n",
    "plt.figure(figsize=(16, 16))\n",
    "ax = sns.barplot(data=b, x=\"Hashtag\", y=\"Count\")\n",
    "ax.set(ylabel='Count')\n",
    "plt.show()"
   ]
  },
  {
   "cell_type": "code",
   "execution_count": 239,
   "metadata": {
    "colab": {
     "base_uri": "https://localhost:8080/",
     "height": 254
    },
    "colab_type": "code",
    "id": "Pl-1LM_E8JG_",
    "outputId": "c616f148-3f81-44a7-89ff-e23d2bdea3d3"
   },
   "outputs": [
    {
     "data": {
      "text/plain": [
       "date        hashtags                                                                                        \n",
       "2019-01-01  []                                                                                                  10\n",
       "2019-01-02  ['#bounce', '#bouncebymetrobikes', '#wickedride']                                                    1\n",
       "            ['#bouncinginto2019', '#letsbounce', '#moretimeformyself']                                           1\n",
       "            ['#happybouncing']                                                                                   3\n",
       "            []                                                                                                  12\n",
       "                                                                                                                ..\n",
       "2019-10-20  ['#bouncemaadi']                                                                                     1\n",
       "            ['#jockermovie']                                                                                     1\n",
       "            ['#public', '#transporters', '#bounceshare', '#trafficrules', '#boinceapp', '#app', '#appnings']     1\n",
       "            []                                                                                                  78\n",
       "2019-10-21  []                                                                                                   4\n",
       "Name: date, Length: 1290, dtype: int64"
      ]
     },
     "execution_count": 239,
     "metadata": {
      "tags": []
     },
     "output_type": "execute_result"
    }
   ],
   "source": [
    "d = data.groupby([\"date\", \"hashtags\"])[\"date\"].count()\n",
    "d"
   ]
  },
  {
   "cell_type": "markdown",
   "metadata": {
    "colab_type": "text",
    "id": "3q0ijTQh8iQk"
   },
   "source": [
    "- We can observe that #bounce, #bouncebymetrobikes and #wickedride were mostly used in the second month"
   ]
  },
  {
   "cell_type": "markdown",
   "metadata": {
    "colab_type": "text",
    "id": "tblCl4ce1SN0"
   },
   "source": [
    "#### Find Tweets (if any) which share personal information like (email id, mobile number)?"
   ]
  },
  {
   "cell_type": "code",
   "execution_count": 240,
   "metadata": {
    "colab": {
     "base_uri": "https://localhost:8080/",
     "height": 217
    },
    "colab_type": "code",
    "id": "rCxtnHYH1SN0",
    "outputId": "8974272c-1c32-4f2a-c0d8-054fc49bfb01"
   },
   "outputs": [
    {
     "name": "stdout",
     "output_type": "stream",
     "text": [
      "8866253314\n",
      "7259816072\n",
      "9739634917\n",
      "9546680797\n",
      "9900591001\n",
      "8660148012\n",
      "9620000010\n",
      "9567592942\n",
      "9791523695\n",
      "6360845049\n",
      "8099648446\n",
      "8876209266\n"
     ]
    }
   ],
   "source": [
    "for text in data[\"tweet\"]:\n",
    "    if re.findall(r\"^(\\d{10}$)\",text):\n",
    "        print(text)"
   ]
  },
  {
   "cell_type": "code",
   "execution_count": 241,
   "metadata": {
    "colab": {
     "base_uri": "https://localhost:8080/",
     "height": 321
    },
    "colab_type": "code",
    "id": "UAluTyJ11SN4",
    "outputId": "2c02cba9-c3dc-4e99-fa1f-420ed96dc6d6"
   },
   "outputs": [
    {
     "name": "stdout",
     "output_type": "stream",
     "text": [
      "Send me a note at vivek@bounceshare.com\n",
      "Yes please mail me at Vivek@bounceshare.com\n",
      "Hey @bounceshare I have issues with refuel in 4 trip 😒 I have waiting for 20 days haven't got done yet please reply with responsibil reply each and every time ⌚ they are 🤚 telling to wait for 24hr My mai ID omrajguuru@gmail.com  pic.twitter.com/uDkd6LCdvw\n",
      "Folks, @bounceshare team will be in Delhi and NCR this 12th and 13th Sept to hire some rockstar engineers. If you are an engineer and interested in working on solving some of the toughest problems, connect to kanwar@bounceshare.com\n",
      "Folks, @bounceshare team will be in Delhi and NCR this 12th and 13th Sept to hire some rockstar engineers. If you are an engineer and interested in working on solving some of the toughest problems, connect to kanwar@bounceshare.com\n",
      "(1 of 2)Hi @bounceshare team, I have been charged a penalty for parking violation for no reason whatsoever. I  contacted the customer care and they said I have been charged for my ride on Aug 10 (id-14584468) and they asked me to mail \"customer-support@bounceshare.com\" . I took a\n",
      "I already send you to email using this email: mauryapradeep96@gmail.com , if you want to do something then 1st take action regarding my email.\n",
      "Sure, it's an interesting journey !. May we request you to send your details to careers@bounceshare.com Thanks\n",
      "For all folks on my timeline in the aviation space who knows someone in @jetairways... please write to us at careers@bounceshare.com or ping us here to be a part of a start up which is growing at extreme speed @bounceshare  https://twitter.com/vivekanandahr/status/1119313284396568576 …\n",
      "Can you please check with my email address phailao@yahoo.com or mobile number?\n",
      "Hi Pankaj, that’s great. Do send us your CV at careers@bounceshare.com, and our team will get back to you to take it forward :)\n",
      "Looking for awesome engineers who love challenges to join @bounceshare we are a dockless scooter sharing company having done over 1.5 mil rides in Bangalore in last 6 months. Write to me vivek@bounceshare.com @Sequoia_India @Accel_India @ChirataeVC @OmidyarNetwork\n",
      "@bounceshare Each time when I upload my DL for registration, it gets rejected with the reason \"Invalid document\". I wrote to customer-support@bounceshare.com and no proper resolution given. Can you help me with that. Let me know if you need more details.\n",
      "Alok, We apologize for the confusion caused. The correct and valid ID is customer-support@bounceshare.com. We will do a deep dive to get this checked. We will also have one of our leaders call and help you with your refund. Thanks a lot for your support. We will stand by you.\n",
      "@bounceshare Why my emails to customer-support@bounceshare.com to claim petrol fee keep getting bounced? You guys are making sure that customers do not refill their rides ever.\n",
      "Girinath, The correct ID is customer-support@bounceshare.com. We will call and take personal ownership to get this done for you. Thanks\n",
      "@bounceshare filled petrol for ₹100 , Booking Id: 1382269, sent mail to support@bounceshare.com for refund , but mail was not delivering to this ID. Please help.\n"
     ]
    }
   ],
   "source": [
    "for text in data[\"tweet\"]:\n",
    "    if re.findall(r'[0-9a-zA-Z.]+@[a-zA-Z]+\\.(com|in|co$)',text):\n",
    "        print(text)"
   ]
  },
  {
   "cell_type": "markdown",
   "metadata": {
    "colab_type": "text",
    "id": "vIzpxlFY1SN5"
   },
   "source": [
    "#### Plot a time-series of number of tweets monthly"
   ]
  },
  {
   "cell_type": "code",
   "execution_count": 242,
   "metadata": {
    "colab": {
     "base_uri": "https://localhost:8080/",
     "height": 217
    },
    "colab_type": "code",
    "id": "e6X9es0y1SN5",
    "outputId": "14f9771b-cca6-4223-b719-553728ab757d"
   },
   "outputs": [
    {
     "data": {
      "text/plain": [
       "month\n",
       "1      420\n",
       "2      267\n",
       "3      409\n",
       "4      758\n",
       "5     1609\n",
       "6     1577\n",
       "7     1598\n",
       "8     1905\n",
       "9     1812\n",
       "10    1665\n",
       "Name: clean_tweet, dtype: int64"
      ]
     },
     "execution_count": 242,
     "metadata": {
      "tags": []
     },
     "output_type": "execute_result"
    }
   ],
   "source": [
    "df.groupby(['month'])['clean_tweet'].count()"
   ]
  },
  {
   "cell_type": "code",
   "execution_count": 243,
   "metadata": {
    "colab": {
     "base_uri": "https://localhost:8080/",
     "height": 532
    },
    "colab_type": "code",
    "id": "FoHsm6Lo1SN7",
    "outputId": "99618b6a-f6e6-4ff4-df19-fd1ed678f653"
   },
   "outputs": [
    {
     "data": {
      "text/plain": [
       "<matplotlib.axes._subplots.AxesSubplot at 0x7fc7f443ee80>"
      ]
     },
     "execution_count": 243,
     "metadata": {
      "tags": []
     },
     "output_type": "execute_result"
    },
    {
     "data": {
      "image/png": "[encoded data removed]",
      "text/plain": [
       "<Figure size 1008x576 with 1 Axes>"
      ]
     },
     "metadata": {
      "needs_background": "light",
      "tags": []
     },
     "output_type": "display_data"
    }
   ],
   "source": [
    "df.groupby(['month'])['clean_tweet'].count().plot(kind='bar',\n",
    "                                    figsize=(14,8),\n",
    "                                    title=\"Count of tweets monthly\")"
   ]
  },
  {
   "cell_type": "code",
   "execution_count": 244,
   "metadata": {
    "colab": {
     "base_uri": "https://localhost:8080/",
     "height": 117
    },
    "colab_type": "code",
    "id": "BepoMqjk1SN9",
    "outputId": "8ea04d81-a8e7-4434-bf72-770e3a99627c"
   },
   "outputs": [
    {
     "data": {
      "text/plain": [
       "0    2019\n",
       "1    2019\n",
       "2    2019\n",
       "3    2019\n",
       "4    2019\n",
       "Name: date, dtype: int64"
      ]
     },
     "execution_count": 244,
     "metadata": {
      "tags": []
     },
     "output_type": "execute_result"
    }
   ],
   "source": [
    "df[\"date\"].dt.year.head()"
   ]
  },
  {
   "cell_type": "code",
   "execution_count": 245,
   "metadata": {
    "colab": {
     "base_uri": "https://localhost:8080/",
     "height": 404
    },
    "colab_type": "code",
    "id": "JtcdjuH51SN_",
    "outputId": "9adcfdf2-dd57-4001-9eca-1d9dec39bb67"
   },
   "outputs": [
    {
     "data": {
      "text/html": [
       "<div>\n",
       "<style scoped>\n",
       "    .dataframe tbody tr th:only-of-type {\n",
       "        vertical-align: middle;\n",
       "    }\n",
       "\n",
       "    .dataframe tbody tr th {\n",
       "        vertical-align: top;\n",
       "    }\n",
       "\n",
       "    .dataframe thead th {\n",
       "        text-align: right;\n",
       "    }\n",
       "</style>\n",
       "<table border=\"1\" class=\"dataframe\">\n",
       "  <thead>\n",
       "    <tr style=\"text-align: right;\">\n",
       "      <th></th>\n",
       "      <th>date</th>\n",
       "      <th>clean_tweet</th>\n",
       "      <th>month</th>\n",
       "    </tr>\n",
       "  </thead>\n",
       "  <tbody>\n",
       "    <tr>\n",
       "      <th>0</th>\n",
       "      <td>2019-10-21</td>\n",
       "      <td>shared micromobility global phenomenon congrats</td>\n",
       "      <td>10</td>\n",
       "    </tr>\n",
       "    <tr>\n",
       "      <th>1</th>\n",
       "      <td>2019-10-21</td>\n",
       "      <td>like standing joke</td>\n",
       "      <td>10</td>\n",
       "    </tr>\n",
       "    <tr>\n",
       "      <th>2</th>\n",
       "      <td>2019-10-21</td>\n",
       "      <td>first time bangalore alip drive really enjoyin...</td>\n",
       "      <td>10</td>\n",
       "    </tr>\n",
       "    <tr>\n",
       "      <th>3</th>\n",
       "      <td>2019-10-21</td>\n",
       "      <td>helmet also consider put tissue paper wipes he...</td>\n",
       "      <td>10</td>\n",
       "    </tr>\n",
       "    <tr>\n",
       "      <th>4</th>\n",
       "      <td>2019-10-20</td>\n",
       "      <td>wow great job</td>\n",
       "      <td>10</td>\n",
       "    </tr>\n",
       "    <tr>\n",
       "      <th>...</th>\n",
       "      <td>...</td>\n",
       "      <td>...</td>\n",
       "      <td>...</td>\n",
       "    </tr>\n",
       "    <tr>\n",
       "      <th>12015</th>\n",
       "      <td>2019-01-01</td>\n",
       "      <td>already done</td>\n",
       "      <td>1</td>\n",
       "    </tr>\n",
       "    <tr>\n",
       "      <th>12016</th>\n",
       "      <td>2019-01-01</td>\n",
       "      <td>harish thank contacting please contact number ...</td>\n",
       "      <td>1</td>\n",
       "    </tr>\n",
       "    <tr>\n",
       "      <th>12017</th>\n",
       "      <td>2019-01-01</td>\n",
       "      <td>call please issues kyc person spoke said would...</td>\n",
       "      <td>1</td>\n",
       "    </tr>\n",
       "    <tr>\n",
       "      <th>12018</th>\n",
       "      <td>2019-01-01</td>\n",
       "      <td>dear harish apologies delay actually refund co...</td>\n",
       "      <td>1</td>\n",
       "    </tr>\n",
       "    <tr>\n",
       "      <th>12019</th>\n",
       "      <td>2019-01-01</td>\n",
       "      <td>yet receive refund</td>\n",
       "      <td>1</td>\n",
       "    </tr>\n",
       "  </tbody>\n",
       "</table>\n",
       "<p>12020 rows × 3 columns</p>\n",
       "</div>"
      ],
      "text/plain": [
       "            date                                        clean_tweet  month\n",
       "0     2019-10-21    shared micromobility global phenomenon congrats     10\n",
       "1     2019-10-21                                 like standing joke     10\n",
       "2     2019-10-21  first time bangalore alip drive really enjoyin...     10\n",
       "3     2019-10-21  helmet also consider put tissue paper wipes he...     10\n",
       "4     2019-10-20                                      wow great job     10\n",
       "...          ...                                                ...    ...\n",
       "12015 2019-01-01                                       already done      1\n",
       "12016 2019-01-01  harish thank contacting please contact number ...      1\n",
       "12017 2019-01-01  call please issues kyc person spoke said would...      1\n",
       "12018 2019-01-01  dear harish apologies delay actually refund co...      1\n",
       "12019 2019-01-01                                 yet receive refund      1\n",
       "\n",
       "[12020 rows x 3 columns]"
      ]
     },
     "execution_count": 245,
     "metadata": {
      "tags": []
     },
     "output_type": "execute_result"
    }
   ],
   "source": [
    "df"
   ]
  },
  {
   "cell_type": "code",
   "execution_count": 246,
   "metadata": {
    "colab": {
     "base_uri": "https://localhost:8080/",
     "height": 294
    },
    "colab_type": "code",
    "id": "pespmDQI1SOA",
    "outputId": "f87ad422-4346-49ea-c288-4d0c5d125dbd"
   },
   "outputs": [
    {
     "data": {
      "text/plain": [
       "<matplotlib.axes._subplots.AxesSubplot at 0x7fc7f4459ef0>"
      ]
     },
     "execution_count": 246,
     "metadata": {
      "tags": []
     },
     "output_type": "execute_result"
    },
    {
     "data": {
      "image/png": "[encoded data removed]",
      "text/plain": [
       "<Figure size 432x288 with 1 Axes>"
      ]
     },
     "metadata": {
      "needs_background": "light",
      "tags": []
     },
     "output_type": "display_data"
    }
   ],
   "source": [
    "%matplotlib inline\n",
    "df.groupby(['date'])['clean_tweet'].count().plot(grid = \"on\")"
   ]
  },
  {
   "cell_type": "markdown",
   "metadata": {
    "colab_type": "text",
    "id": "hDo9jTxW1SOC"
   },
   "source": [
    "#### Which period shows the highest growth in tweets."
   ]
  },
  {
   "cell_type": "code",
   "execution_count": 247,
   "metadata": {
    "colab": {
     "base_uri": "https://localhost:8080/",
     "height": 294
    },
    "colab_type": "code",
    "id": "HaecUVkr1SOC",
    "outputId": "f30465f2-4692-4d85-8f0c-d3b8d20bb5ee"
   },
   "outputs": [
    {
     "data": {
      "text/plain": [
       "<matplotlib.axes._subplots.AxesSubplot at 0x7fc7f4438e80>"
      ]
     },
     "execution_count": 247,
     "metadata": {
      "tags": []
     },
     "output_type": "execute_result"
    },
    {
     "data": {
      "image/png": "[encoded data removed]",
      "text/plain": [
       "<Figure size 432x288 with 1 Axes>"
      ]
     },
     "metadata": {
      "needs_background": "light",
      "tags": []
     },
     "output_type": "display_data"
    }
   ],
   "source": [
    "df.groupby(['date'])['clean_tweet'].count().plot(grid = \"on\")"
   ]
  },
  {
   "cell_type": "markdown",
   "metadata": {
    "colab_type": "text",
    "id": "TY6DHEdS-WEV"
   },
   "source": [
    "We can observe that highest growth is between 05-2019 to 06-2019"
   ]
  },
  {
   "cell_type": "code",
   "execution_count": 315,
   "metadata": {
    "colab": {
     "base_uri": "https://localhost:8080/",
     "height": 300
    },
    "colab_type": "code",
    "id": "s-OMMJsyxlbt",
    "outputId": "08b36963-049a-43d4-af18-ce5fce9eb495"
   },
   "outputs": [
    {
     "data": {
      "text/plain": [
       "[]"
      ]
     },
     "execution_count": 315,
     "metadata": {
      "tags": []
     },
     "output_type": "execute_result"
    },
    {
     "data": {
      "image/png": "[encoded data removed]",
      "text/plain": [
       "<Figure size 432x288 with 1 Axes>"
      ]
     },
     "metadata": {
      "needs_background": "light",
      "tags": []
     },
     "output_type": "display_data"
    }
   ],
   "source": [
    "from pandas.plotting import autocorrelation_plot\n",
    "\n",
    "autocorrelation_plot(df.groupby(['month'])['clean_tweet'].count()).plot()\n"
   ]
  },
  {
   "cell_type": "code",
   "execution_count": 321,
   "metadata": {
    "colab": {
     "base_uri": "https://localhost:8080/",
     "height": 294
    },
    "colab_type": "code",
    "id": "Y1IvgPkQzmmk",
    "outputId": "9abd18d7-da72-4f8f-a324-053dce26a503"
   },
   "outputs": [
    {
     "data": {
      "text/plain": [
       "<matplotlib.axes._subplots.AxesSubplot at 0x7fc7f3bb20f0>"
      ]
     },
     "execution_count": 321,
     "metadata": {
      "tags": []
     },
     "output_type": "execute_result"
    },
    {
     "data": {
      "image/png": "[encoded data removed]",
      "text/plain": [
       "<Figure size 432x288 with 1 Axes>"
      ]
     },
     "metadata": {
      "needs_background": "light",
      "tags": []
     },
     "output_type": "display_data"
    }
   ],
   "source": [
    "df.groupby(['date'])['clean_tweet'].count().plot(style=\"k.\")\n"
   ]
  },
  {
   "cell_type": "markdown",
   "metadata": {
    "colab_type": "text",
    "id": "KKLessmKy3q0"
   },
   "source": [
    "#### Density plot\n",
    "- It gives clear summary of distribution of tweets with months"
   ]
  },
  {
   "cell_type": "code",
   "execution_count": 317,
   "metadata": {
    "colab": {
     "base_uri": "https://localhost:8080/",
     "height": 281
    },
    "colab_type": "code",
    "id": "Owsnw0v3ypYL",
    "outputId": "14b7e039-884e-4e5a-e344-13427cdcb2e8"
   },
   "outputs": [
    {
     "data": {
      "text/plain": [
       "<matplotlib.axes._subplots.AxesSubplot at 0x7fc7f3bcd588>"
      ]
     },
     "execution_count": 317,
     "metadata": {
      "tags": []
     },
     "output_type": "execute_result"
    },
    {
     "data": {
      "image/png": "[encoded data removed]",
      "text/plain": [
       "<Figure size 432x288 with 1 Axes>"
      ]
     },
     "metadata": {
      "needs_background": "light",
      "tags": []
     },
     "output_type": "display_data"
    }
   ],
   "source": [
    "df.groupby(['month'])['clean_tweet'].count().plot(kind='kde')\n"
   ]
  },
  {
   "cell_type": "markdown",
   "metadata": {
    "colab_type": "text",
    "id": "_igHXy0_-iV0"
   },
   "source": [
    "- Lets check individual counts of tweets in specific months"
   ]
  },
  {
   "cell_type": "code",
   "execution_count": 248,
   "metadata": {
    "colab": {
     "base_uri": "https://localhost:8080/",
     "height": 33
    },
    "colab_type": "code",
    "id": "bafincWY1SOF",
    "outputId": "b2907dee-4fbd-4d6a-8788-967dfe276033"
   },
   "outputs": [
    {
     "name": "stdout",
     "output_type": "stream",
     "text": [
      "16\n"
     ]
    }
   ],
   "source": [
    "text = [text for text in data['tweets'][data['date'] == \"2019-01-21\"]]\n",
    "text\n",
    "count = 0\n",
    "for i in text:\n",
    "    count = count + 1\n",
    "print(count)\n",
    "    "
   ]
  },
  {
   "cell_type": "code",
   "execution_count": 249,
   "metadata": {
    "colab": {
     "base_uri": "https://localhost:8080/",
     "height": 33
    },
    "colab_type": "code",
    "id": "4gOBh9B41SOG",
    "outputId": "3f4dd722-f0d3-45f2-d4da-75272d5ec2f9"
   },
   "outputs": [
    {
     "name": "stdout",
     "output_type": "stream",
     "text": [
      "12\n"
     ]
    }
   ],
   "source": [
    "text = [text for text in data['tweets'][data['date'] == \"2019-05-01\"]]\n",
    "text\n",
    "count = 0\n",
    "for i in text:\n",
    "    count = count + 1\n",
    "print(count)\n",
    "    "
   ]
  },
  {
   "cell_type": "markdown",
   "metadata": {
    "colab_type": "text",
    "id": "PihFRWnk1SOL"
   },
   "source": [
    "#### Find the most popular bi-grams or tri-grams used in the tweets? "
   ]
  },
  {
   "cell_type": "code",
   "execution_count": 250,
   "metadata": {
    "colab": {},
    "colab_type": "code",
    "id": "KJUBV2qP1SOL"
   },
   "outputs": [],
   "source": [
    "from nltk import ngrams\n",
    "def documentNgrams(documents, size):\n",
    "    ngrams_all = []\n",
    "    for document in documents:\n",
    "        tokens = document.split()\n",
    "        if len(tokens) <= size:\n",
    "            continue\n",
    "        else:\n",
    "            output = list(ngrams(tokens, size))\n",
    "        for ngram in output:\n",
    "            ngrams_all.append(\" \".join(ngram))\n",
    "    cnt_ngram = Counter()\n",
    "    for word in ngrams_all:\n",
    "        cnt_ngram[word] += 1\n",
    "    df = pd.DataFrame.from_dict(cnt_ngram, orient='index').reset_index()\n",
    "    df = df.rename(columns={'index':'words', 0:'count'})\n",
    "    df = df.sort_values(by='count', ascending=False)\n",
    "    df = df.head(15)\n",
    "    df = df.sort_values(by='count')\n",
    "    return(df)"
   ]
  },
  {
   "cell_type": "code",
   "execution_count": 251,
   "metadata": {
    "colab": {},
    "colab_type": "code",
    "id": "TO7mRJ2D1SON"
   },
   "outputs": [],
   "source": [
    "def plotNgrams(documents):\n",
    "    unigrams = documentNgrams(documents, 1)\n",
    "    bigrams = documentNgrams(documents, 2)\n",
    "    trigrams = documentNgrams(documents, 3)\n",
    "    \n",
    "    # Set plot figure size\n",
    "    fig = plt.figure(figsize = (20, 7))\n",
    "    plt.subplots_adjust(wspace=.5)\n",
    "\n",
    "    ax = fig.add_subplot(131)\n",
    "    ax.barh(np.arange(len(unigrams['words'])), unigrams['count'], align='center', alpha=.5)\n",
    "    ax.set_title('Unigrams')\n",
    "    plt.yticks(np.arange(len(unigrams['words'])), unigrams['words'])\n",
    "    plt.xlabel('Count')\n",
    "\n",
    "    ax2 = fig.add_subplot(132)\n",
    "    ax2.barh(np.arange(len(bigrams['words'])), bigrams['count'], align='center', alpha=.5)\n",
    "    ax2.set_title('Bigrams')\n",
    "    plt.yticks(np.arange(len(bigrams['words'])), bigrams['words'])\n",
    "    ax2 = fig.add_subplot(132)\n",
    "    ax2.barh(np.arange(len(bigrams['words'])), bigrams['count'], align='center', alpha=.5)\n",
    "    ax2.set_title('Bigrams')\n",
    "    plt.yticks(np.arange(len(bigrams['words'])), bigrams['words'])\n",
    "    plt.xlabel('Count')\n",
    "\n",
    "    ax3 = fig.add_subplot(133)\n",
    "    ax3.barh(np.arange(len(trigrams['words'])), trigrams['count'], align='center', alpha=.5)\n",
    "    ax3.set_title('Trigrams')\n",
    "    plt.yticks(np.arange(len(trigrams['words'])), trigrams['words'])\n",
    "    plt.xlabel('Count')\n",
    "\n",
    "    plt.show()"
   ]
  },
  {
   "cell_type": "code",
   "execution_count": 252,
   "metadata": {
    "colab": {
     "base_uri": "https://localhost:8080/",
     "height": 284
    },
    "colab_type": "code",
    "id": "eM-SEbek1SOO",
    "outputId": "7ac643ca-ecf3-475a-f494-4614319b85cd"
   },
   "outputs": [
    {
     "name": "stdout",
     "output_type": "stream",
     "text": [
      "            words  count\n",
      "119            of   2978\n",
      "42           will   3003\n",
      "22             we   3069\n",
      "16             in   3307\n",
      "77           your   3325\n",
      "70            our   3358\n",
      "83           this   3648\n",
      "3               a   3927\n",
      "20   @bounceshare   4066\n",
      "31            you   4456\n",
      "73             We   4559\n",
      "91            for   4804\n",
      "21            and   5461\n",
      "33             to   8761\n",
      "89            the   9408\n"
     ]
    }
   ],
   "source": [
    "print(documentNgrams(data.tweet,1))"
   ]
  },
  {
   "cell_type": "code",
   "execution_count": 253,
   "metadata": {
    "colab": {
     "base_uri": "https://localhost:8080/",
     "height": 284
    },
    "colab_type": "code",
    "id": "c6Yvrgxv1SOQ",
    "outputId": "d9aa69f2-a6e7-466b-dca2-85353fc210fd"
   },
   "outputs": [
    {
     "name": "stdout",
     "output_type": "stream",
     "text": [
      "             words  count\n",
      "85      share your    583\n",
      "94        get this    649\n",
      "261     notice. We    667\n",
      "183    our notice.    774\n",
      "405         in the    781\n",
      "178     thanks for    811\n",
      "179   for bringing    836\n",
      "180  bringing this    858\n",
      "816         we are    859\n",
      "43        will get    931\n",
      "828         We are    946\n",
      "282        for the   1017\n",
      "181        this to   1066\n",
      "182         to our   1178\n",
      "222        We will   1538\n"
     ]
    }
   ],
   "source": [
    "print(documentNgrams(data.tweet,2))"
   ]
  },
  {
   "cell_type": "code",
   "execution_count": 254,
   "metadata": {
    "colab": {
     "base_uri": "https://localhost:8080/",
     "height": 284
    },
    "colab_type": "code",
    "id": "bnXZlra21SOS",
    "outputId": "f6b18133-7731-4822-a51d-04e3ebd13643"
   },
   "outputs": [
    {
     "name": "stdout",
     "output_type": "stream",
     "text": [
      "                      words  count\n",
      "977     are extremely sorry    392\n",
      "2723       your concern and    400\n",
      "980   for the inconvenience    403\n",
      "662               on a call    416\n",
      "661                get on a    416\n",
      "245         notice. We will    470\n",
      "882           will get this    478\n",
      "979           sorry for the    545\n",
      "244          our notice. We    660\n",
      "164     thanks for bringing    660\n",
      "208             We will get    750\n",
      "168          to our notice.    770\n",
      "165       for bringing this    830\n",
      "166        bringing this to    840\n",
      "167             this to our    957\n"
     ]
    }
   ],
   "source": [
    "print(documentNgrams(data.tweet,3))"
   ]
  },
  {
   "cell_type": "code",
   "execution_count": 255,
   "metadata": {
    "colab": {
     "base_uri": "https://localhost:8080/",
     "height": 281
    },
    "colab_type": "code",
    "collapsed": true,
    "id": "HtxPOpTJ1SOT",
    "outputId": "ee1aded4-06f9-46c7-a8e3-836f53ddd090"
   },
   "outputs": [
    {
     "name": "stderr",
     "output_type": "stream",
     "text": [
      "/usr/local/lib/python3.6/dist-packages/ipykernel_launcher.py:20: MatplotlibDeprecationWarning: Adding an axes using the same arguments as a previous axes currently reuses the earlier instance.  In a future version, a new instance will always be created and returned.  Meanwhile, this warning can be suppressed, and the future behavior ensured, by passing a unique label to each axes instance.\n"
     ]
    },
    {
     "data": {
      "image/png": "[encoded data removed]",
      "text/plain": [
       "<Figure size 1440x504 with 3 Axes>"
      ]
     },
     "metadata": {
      "needs_background": "light",
      "tags": []
     },
     "output_type": "display_data"
    }
   ],
   "source": [
    "plotNgrams(data.tweet)"
   ]
  },
  {
   "cell_type": "markdown",
   "metadata": {
    "colab_type": "text",
    "id": "_zALx7pg_Caj"
   },
   "source": [
    "###Other Insights from the dataset"
   ]
  },
  {
   "cell_type": "markdown",
   "metadata": {
    "colab_type": "text",
    "id": "4p3_DyJd1SOV"
   },
   "source": [
    "#### Count of tweets in a day"
   ]
  },
  {
   "cell_type": "code",
   "execution_count": 256,
   "metadata": {
    "colab": {
     "base_uri": "https://localhost:8080/",
     "height": 789
    },
    "colab_type": "code",
    "id": "WeSHY4Fc1SOV",
    "outputId": "312c9625-fc18-4444-eecb-8002bd3bee3a"
   },
   "outputs": [
    {
     "name": "stdout",
     "output_type": "stream",
     "text": [
      "                                            clean_tweet days\n",
      "days                                                        \n",
      "01    alternatively please put board stickers known ...   01\n",
      "02    people country minimal etiquette traffic rules...   02\n",
      "03    screen shot team join pic twitter com hejwpeof...   03\n",
      "04    part tweet bounce team file compliant police w...   04\n",
      "05    dumped near nice industries main road st cross...   05\n",
      "06    vehicle lies many days think battery detecting...   06\n",
      "07    hey vinay thanks sharing image made day kind l...   07\n",
      "08    ans hyderabad join guyshyderabad joinhyderabad...   08\n",
      "09    though love stolen bounce kms hrs charged rs v...   09\n",
      "10    hyderabad damn know missed deadlinecommunicati...   10\n",
      "11    companies like need remember karma endanimesh ...   11\n",
      "12    looking missing bounce sorry people crazy loca...   12\n",
      "13    exactly makes dream companyhyderabadknow prope...   13\n",
      "14    hey sandip thanks ton bringing notice forwarde...   14\n",
      "15    ohh seen triple riding helmets bounce scooters...   15\n",
      "16    appreciate response took snap yesterdayget sto...   16\n",
      "17    use one today bluetooth interface breeze commu...   17\n",
      "18    bike referring previous conversation please re...   18\n",
      "19    free chahiye teko sabwtf pic twitter com lmzsh...   19\n",
      "20    wow great jobpmcongrats vivek teamhey yateesh ...   20\n",
      "21    shared micromobility global phenomenon congrat...   21\n",
      "22    must applied bmtc busses made entice city road...   22\n",
      "23    bachi bachistop acting smart dangerous busines...   23\n",
      "24    spotted today evening around kahd pic twitter ...   24\n",
      "25    final comment take away industry leadership el...   25\n",
      "26    min could charge extra basis charging differen...   26\n",
      "27    pic twitter com lpeijukvnew travel chargers ch...   27\n",
      "28    payments app services bike renting app like et...   28\n",
      "29    exlent bounceambitious new business commitment...   29\n",
      "30    bounce pledges join ev initiative viawould lik...   30\n",
      "31    malleswaramdriving around bangalore many place...   31\n"
     ]
    },
    {
     "name": "stderr",
     "output_type": "stream",
     "text": [
      "/usr/local/lib/python3.6/dist-packages/ipykernel_launcher.py:1: SettingWithCopyWarning: \n",
      "A value is trying to be set on a copy of a slice from a DataFrame.\n",
      "Try using .loc[row_indexer,col_indexer] = value instead\n",
      "\n",
      "See the caveats in the documentation: https://pandas.pydata.org/pandas-docs/stable/user_guide/indexing.html#returning-a-view-versus-a-copy\n",
      "  \"\"\"Entry point for launching an IPython kernel.\n",
      "/usr/local/lib/python3.6/dist-packages/ipykernel_launcher.py:4: SettingWithCopyWarning: \n",
      "A value is trying to be set on a copy of a slice from a DataFrame.\n",
      "Try using .loc[row_indexer,col_indexer] = value instead\n",
      "\n",
      "See the caveats in the documentation: https://pandas.pydata.org/pandas-docs/stable/user_guide/indexing.html#returning-a-view-versus-a-copy\n",
      "  after removing the cwd from sys.path.\n"
     ]
    }
   ],
   "source": [
    "df[\"time\"] = [str(item).split(\"T\")[0] for item in df['date'].values]\n",
    "\n",
    "\n",
    "df[\"days\"] = [str(item).split(\"-\")[2] for item in df['time'].values]\n",
    "df.days\n",
    "grouped_tweets = df[['days', 'clean_tweet']].groupby('days')\n",
    "tweet_growth_days = grouped_tweets.sum()\n",
    "tweet_growth_days['days']= tweet_growth_days.index\n",
    "print (tweet_growth_days)\n"
   ]
  },
  {
   "cell_type": "code",
   "execution_count": 257,
   "metadata": {
    "colab": {
     "base_uri": "https://localhost:8080/",
     "height": 417
    },
    "colab_type": "code",
    "id": "u0mZWVgy1SOX",
    "outputId": "ee635e8a-c811-43a4-bd29-d06bde4867a2"
   },
   "outputs": [
    {
     "data": {
      "text/plain": [
       "<matplotlib.axes._subplots.AxesSubplot at 0x7fc7f43a9da0>"
      ]
     },
     "execution_count": 257,
     "metadata": {
      "tags": []
     },
     "output_type": "execute_result"
    },
    {
     "data": {
      "image/png": "[encoded data removed]",
      "text/plain": [
       "<Figure size 1008x576 with 1 Axes>"
      ]
     },
     "metadata": {
      "needs_background": "light",
      "tags": []
     },
     "output_type": "display_data"
    }
   ],
   "source": [
    "df.groupby(['days'])['clean_tweet'].count().plot(kind='bar',\n",
    "                                    figsize=(14,8),\n",
    "                                    title=\"Count of tweets in a day\")"
   ]
  },
  {
   "cell_type": "code",
   "execution_count": 258,
   "metadata": {
    "colab": {
     "base_uri": "https://localhost:8080/",
     "height": 134
    },
    "colab_type": "code",
    "id": "JcSJzy6F-4eX",
    "outputId": "239ab2d1-36de-4414-f949-5e61384b9628"
   },
   "outputs": [
    {
     "data": {
      "text/plain": [
       "Index(['id', 'conversation_id', 'created_at', 'date', 'time', 'timezone',\n",
       "       'user_id', 'username', 'name', 'place', 'tweet', 'mentions', 'urls',\n",
       "       'photos', 'replies_count', 'retweets_count', 'likes_count', 'hashtags',\n",
       "       'cashtags', 'link', 'retweet', 'quote_url', 'video', 'near', 'geo',\n",
       "       'source', 'user_rt_id', 'user_rt', 'retweet_id', 'reply_to',\n",
       "       'retweet_date', 'tweets', 'clean', 'clean_tweet'],\n",
       "      dtype='object')"
      ]
     },
     "execution_count": 258,
     "metadata": {
      "tags": []
     },
     "output_type": "execute_result"
    }
   ],
   "source": [
    "data.columns"
   ]
  },
  {
   "cell_type": "markdown",
   "metadata": {
    "colab_type": "text",
    "id": "ZIy0z-ob_HRK"
   },
   "source": [
    "### Top 20 Retweets and Top 20 Retweeted"
   ]
  },
  {
   "cell_type": "code",
   "execution_count": 259,
   "metadata": {
    "colab": {
     "base_uri": "https://localhost:8080/",
     "height": 404
    },
    "colab_type": "code",
    "id": "WHk679Ml-1iq",
    "outputId": "ba9b3477-eef1-4848-d785-7afc22e978fb"
   },
   "outputs": [
    {
     "data": {
      "text/html": [
       "<div>\n",
       "<style scoped>\n",
       "    .dataframe tbody tr th:only-of-type {\n",
       "        vertical-align: middle;\n",
       "    }\n",
       "\n",
       "    .dataframe tbody tr th {\n",
       "        vertical-align: top;\n",
       "    }\n",
       "\n",
       "    .dataframe thead th {\n",
       "        text-align: right;\n",
       "    }\n",
       "</style>\n",
       "<table border=\"1\" class=\"dataframe\">\n",
       "  <thead>\n",
       "    <tr style=\"text-align: right;\">\n",
       "      <th></th>\n",
       "      <th>id</th>\n",
       "      <th>0</th>\n",
       "    </tr>\n",
       "  </thead>\n",
       "  <tbody>\n",
       "    <tr>\n",
       "      <th>0</th>\n",
       "      <td>1186038116517212160</td>\n",
       "      <td>1</td>\n",
       "    </tr>\n",
       "    <tr>\n",
       "      <th>1</th>\n",
       "      <td>1137730095135596544</td>\n",
       "      <td>1</td>\n",
       "    </tr>\n",
       "    <tr>\n",
       "      <th>2</th>\n",
       "      <td>1137797832444825600</td>\n",
       "      <td>1</td>\n",
       "    </tr>\n",
       "    <tr>\n",
       "      <th>3</th>\n",
       "      <td>1137797348355010561</td>\n",
       "      <td>1</td>\n",
       "    </tr>\n",
       "    <tr>\n",
       "      <th>4</th>\n",
       "      <td>1137777337032830976</td>\n",
       "      <td>1</td>\n",
       "    </tr>\n",
       "    <tr>\n",
       "      <th>...</th>\n",
       "      <td>...</td>\n",
       "      <td>...</td>\n",
       "    </tr>\n",
       "    <tr>\n",
       "      <th>12015</th>\n",
       "      <td>1164082289187229696</td>\n",
       "      <td>1</td>\n",
       "    </tr>\n",
       "    <tr>\n",
       "      <th>12016</th>\n",
       "      <td>1164077358044856320</td>\n",
       "      <td>1</td>\n",
       "    </tr>\n",
       "    <tr>\n",
       "      <th>12017</th>\n",
       "      <td>1164075969922994177</td>\n",
       "      <td>1</td>\n",
       "    </tr>\n",
       "    <tr>\n",
       "      <th>12018</th>\n",
       "      <td>1164074153013592064</td>\n",
       "      <td>1</td>\n",
       "    </tr>\n",
       "    <tr>\n",
       "      <th>12019</th>\n",
       "      <td>1080040371541831680</td>\n",
       "      <td>1</td>\n",
       "    </tr>\n",
       "  </tbody>\n",
       "</table>\n",
       "<p>12020 rows × 2 columns</p>\n",
       "</div>"
      ],
      "text/plain": [
       "                        id  0\n",
       "0      1186038116517212160  1\n",
       "1      1137730095135596544  1\n",
       "2      1137797832444825600  1\n",
       "3      1137797348355010561  1\n",
       "4      1137777337032830976  1\n",
       "...                    ... ..\n",
       "12015  1164082289187229696  1\n",
       "12016  1164077358044856320  1\n",
       "12017  1164075969922994177  1\n",
       "12018  1164074153013592064  1\n",
       "12019  1080040371541831680  1\n",
       "\n",
       "[12020 rows x 2 columns]"
      ]
     },
     "execution_count": 259,
     "metadata": {
      "tags": []
     },
     "output_type": "execute_result"
    }
   ],
   "source": [
    "topretweets = data.groupby('id').size().sort_values(ascending=False).reset_index()\n",
    "topretweets"
   ]
  },
  {
   "cell_type": "code",
   "execution_count": 260,
   "metadata": {
    "colab": {
     "base_uri": "https://localhost:8080/",
     "height": 286
    },
    "colab_type": "code",
    "id": "93PPkbw7_3b0",
    "outputId": "5caae298-5de6-4432-8a1e-ca5b3f5154d6"
   },
   "outputs": [
    {
     "data": {
      "text/plain": [
       "<matplotlib.axes._subplots.AxesSubplot at 0x7fc7f4392668>"
      ]
     },
     "execution_count": 260,
     "metadata": {
      "tags": []
     },
     "output_type": "execute_result"
    },
    {
     "data": {
      "image/png": "[encoded data removed]",
      "text/plain": [
       "<Figure size 432x288 with 1 Axes>"
      ]
     },
     "metadata": {
      "needs_background": "light",
      "tags": []
     },
     "output_type": "display_data"
    }
   ],
   "source": [
    "topretweeted = data.groupby('username').size().sort_values(ascending=False).reset_index()\n",
    "topretweeted[:20].plot(kind = 'bar')"
   ]
  },
  {
   "cell_type": "markdown",
   "metadata": {
    "colab_type": "text",
    "id": "Irvok7u8BitK"
   },
   "source": [
    "## Optional"
   ]
  },
  {
   "cell_type": "markdown",
   "metadata": {
    "colab_type": "text",
    "id": "mOpIpDlU1SOZ"
   },
   "source": [
    "### Clustering the tweets based on similar topics"
   ]
  },
  {
   "cell_type": "code",
   "execution_count": 261,
   "metadata": {
    "colab": {
     "base_uri": "https://localhost:8080/",
     "height": 134
    },
    "colab_type": "code",
    "id": "dGLssHxL1SOZ",
    "outputId": "a5a6e06f-2b2d-4e9e-9689-6f3ac56182ea"
   },
   "outputs": [
    {
     "data": {
      "text/plain": [
       "Index(['id', 'conversation_id', 'created_at', 'date', 'time', 'timezone',\n",
       "       'user_id', 'username', 'name', 'place', 'tweet', 'mentions', 'urls',\n",
       "       'photos', 'replies_count', 'retweets_count', 'likes_count', 'hashtags',\n",
       "       'cashtags', 'link', 'retweet', 'quote_url', 'video', 'near', 'geo',\n",
       "       'source', 'user_rt_id', 'user_rt', 'retweet_id', 'reply_to',\n",
       "       'retweet_date', 'tweets', 'clean', 'clean_tweet'],\n",
       "      dtype='object')"
      ]
     },
     "execution_count": 261,
     "metadata": {
      "tags": []
     },
     "output_type": "execute_result"
    }
   ],
   "source": [
    "data.columns"
   ]
  },
  {
   "cell_type": "code",
   "execution_count": 262,
   "metadata": {
    "colab": {
     "base_uri": "https://localhost:8080/",
     "height": 196
    },
    "colab_type": "code",
    "id": "1YrYPxr-1SOc",
    "outputId": "606be775-6c20-4d5a-8241-a2755901d20f"
   },
   "outputs": [
    {
     "data": {
      "text/html": [
       "<div>\n",
       "<style scoped>\n",
       "    .dataframe tbody tr th:only-of-type {\n",
       "        vertical-align: middle;\n",
       "    }\n",
       "\n",
       "    .dataframe tbody tr th {\n",
       "        vertical-align: top;\n",
       "    }\n",
       "\n",
       "    .dataframe thead th {\n",
       "        text-align: right;\n",
       "    }\n",
       "</style>\n",
       "<table border=\"1\" class=\"dataframe\">\n",
       "  <thead>\n",
       "    <tr style=\"text-align: right;\">\n",
       "      <th></th>\n",
       "      <th>id</th>\n",
       "      <th>clean_tweet</th>\n",
       "    </tr>\n",
       "  </thead>\n",
       "  <tbody>\n",
       "    <tr>\n",
       "      <th>0</th>\n",
       "      <td>1186038116517212160</td>\n",
       "      <td>shared micromobility global phenomenon congrats</td>\n",
       "    </tr>\n",
       "    <tr>\n",
       "      <th>1</th>\n",
       "      <td>1186002436344823809</td>\n",
       "      <td>like standing joke</td>\n",
       "    </tr>\n",
       "    <tr>\n",
       "      <th>2</th>\n",
       "      <td>1185995725932384256</td>\n",
       "      <td>first time bangalore alip drive really enjoyin...</td>\n",
       "    </tr>\n",
       "    <tr>\n",
       "      <th>3</th>\n",
       "      <td>1185987970655899648</td>\n",
       "      <td>helmet also consider put tissue paper wipes he...</td>\n",
       "    </tr>\n",
       "    <tr>\n",
       "      <th>4</th>\n",
       "      <td>1185965893819367424</td>\n",
       "      <td>wow great job</td>\n",
       "    </tr>\n",
       "  </tbody>\n",
       "</table>\n",
       "</div>"
      ],
      "text/plain": [
       "                    id                                        clean_tweet\n",
       "0  1186038116517212160    shared micromobility global phenomenon congrats\n",
       "1  1186002436344823809                                 like standing joke\n",
       "2  1185995725932384256  first time bangalore alip drive really enjoyin...\n",
       "3  1185987970655899648  helmet also consider put tissue paper wipes he...\n",
       "4  1185965893819367424                                      wow great job"
      ]
     },
     "execution_count": 262,
     "metadata": {
      "tags": []
     },
     "output_type": "execute_result"
    }
   ],
   "source": [
    "new = data[[\"id\",\"clean_tweet\"]]\n",
    "new.head()"
   ]
  },
  {
   "cell_type": "markdown",
   "metadata": {
    "colab_type": "text",
    "id": "QY3WjE5ECESW"
   },
   "source": [
    "- Since our tweets are cleaned so we can directly fit the model"
   ]
  },
  {
   "cell_type": "code",
   "execution_count": 263,
   "metadata": {
    "colab": {},
    "colab_type": "code",
    "id": "sjBLhJ611SOe"
   },
   "outputs": [],
   "source": [
    "## Using Kmeans\n",
    "\n",
    "from sklearn.feature_extraction.text import TfidfVectorizer, CountVectorizer\n",
    "# Considering 3 grams and mimnimum frq as 0\n",
    "tf_idf_vect = CountVectorizer(analyzer='word',ngram_range=(1,1),stop_words='english', min_df = 0.0001)\n",
    "tf_idf_vect.fit(new['clean_tweet'])\n",
    "desc_matrix = tf_idf_vect.transform(new[\"clean_tweet\"])"
   ]
  },
  {
   "cell_type": "markdown",
   "metadata": {
    "colab_type": "text",
    "id": "vPAXmUCQCTwO"
   },
   "source": [
    "### Implementing K- means"
   ]
  },
  {
   "cell_type": "code",
   "execution_count": 264,
   "metadata": {
    "colab": {},
    "colab_type": "code",
    "id": "oanu_hJL1SOf"
   },
   "outputs": [],
   "source": [
    "\n",
    "from sklearn.cluster import KMeans\n",
    "num_clusters = 3\n",
    "km = KMeans(n_clusters=num_clusters)\n",
    "km.fit(desc_matrix)\n",
    "clusters = km.labels_.tolist()"
   ]
  },
  {
   "cell_type": "markdown",
   "metadata": {
    "colab_type": "text",
    "id": "jmVMHR6NDAbd"
   },
   "source": [
    "- Using PCA to reduce the dimensionality"
   ]
  },
  {
   "cell_type": "code",
   "execution_count": 265,
   "metadata": {
    "colab": {
     "base_uri": "https://localhost:8080/",
     "height": 332
    },
    "colab_type": "code",
    "id": "uu4UUqDp1SOi",
    "outputId": "7afb3be3-6f75-4d1c-f9da-e447116110f4"
   },
   "outputs": [
    {
     "data": {
      "image/png": "[encoded data removed]",
      "text/plain": [
       "<Figure size 1440x720 with 1 Axes>"
      ]
     },
     "metadata": {
      "needs_background": "light",
      "tags": []
     },
     "output_type": "display_data"
    }
   ],
   "source": [
    "from sklearn.decomposition import PCA\n",
    "from sklearn.feature_extraction.text import CountVectorizer\n",
    "from sklearn.cluster import KMeans\n",
    "pca = PCA(n_components=2)\n",
    "scatter_plot_points = pca.fit_transform(desc_matrix.toarray())\n",
    "\n",
    "colors = [\"r\", \"b\", \"c\", \"y\", \"m\" ]\n",
    "\n",
    "x_axis = [o[0] for o in scatter_plot_points]\n",
    "y_axis = [o[1] for o in scatter_plot_points]\n",
    "fig, ax = plt.subplots(figsize=(20,10))\n",
    "\n",
    "ax.scatter(x_axis, y_axis, c=[colors[d] for d in clusters])\n",
    "\n",
    "for i, txt in enumerate(x):\n",
    "    ax.annotate(txt, (x_axis[i], y_axis[i]))"
   ]
  },
  {
   "cell_type": "code",
   "execution_count": 266,
   "metadata": {
    "colab": {
     "base_uri": "https://localhost:8080/",
     "height": 137
    },
    "colab_type": "code",
    "id": "kZQE3KDP1SOl",
    "outputId": "30f075dd-710a-4590-bd5a-5f81f5229808"
   },
   "outputs": [
    {
     "name": "stderr",
     "output_type": "stream",
     "text": [
      "/usr/local/lib/python3.6/dist-packages/ipykernel_launcher.py:1: SettingWithCopyWarning: \n",
      "A value is trying to be set on a copy of a slice from a DataFrame.\n",
      "Try using .loc[row_indexer,col_indexer] = value instead\n",
      "\n",
      "See the caveats in the documentation: https://pandas.pydata.org/pandas-docs/stable/user_guide/indexing.html#returning-a-view-versus-a-copy\n",
      "  \"\"\"Entry point for launching an IPython kernel.\n"
     ]
    }
   ],
   "source": [
    "new[\"clusters\"] = clusters"
   ]
  },
  {
   "cell_type": "code",
   "execution_count": 269,
   "metadata": {
    "colab": {
     "base_uri": "https://localhost:8080/",
     "height": 793
    },
    "colab_type": "code",
    "id": "O3ivQoiM1SOn",
    "outputId": "07dadae8-bad0-4fcf-f841-efb5afa7c306"
   },
   "outputs": [
    {
     "data": {
      "text/html": [
       "<div>\n",
       "<style scoped>\n",
       "    .dataframe tbody tr th:only-of-type {\n",
       "        vertical-align: middle;\n",
       "    }\n",
       "\n",
       "    .dataframe tbody tr th {\n",
       "        vertical-align: top;\n",
       "    }\n",
       "\n",
       "    .dataframe thead th {\n",
       "        text-align: right;\n",
       "    }\n",
       "</style>\n",
       "<table border=\"1\" class=\"dataframe\">\n",
       "  <thead>\n",
       "    <tr style=\"text-align: right;\">\n",
       "      <th></th>\n",
       "      <th>id</th>\n",
       "      <th>clean_tweet</th>\n",
       "      <th>clusters</th>\n",
       "    </tr>\n",
       "  </thead>\n",
       "  <tbody>\n",
       "    <tr>\n",
       "      <th>0</th>\n",
       "      <td>1186038116517212160</td>\n",
       "      <td>shared micromobility global phenomenon congrats</td>\n",
       "      <td>2</td>\n",
       "    </tr>\n",
       "    <tr>\n",
       "      <th>1</th>\n",
       "      <td>1186002436344823809</td>\n",
       "      <td>like standing joke</td>\n",
       "      <td>2</td>\n",
       "    </tr>\n",
       "    <tr>\n",
       "      <th>2</th>\n",
       "      <td>1185995725932384256</td>\n",
       "      <td>first time bangalore alip drive really enjoyin...</td>\n",
       "      <td>2</td>\n",
       "    </tr>\n",
       "    <tr>\n",
       "      <th>3</th>\n",
       "      <td>1185987970655899648</td>\n",
       "      <td>helmet also consider put tissue paper wipes he...</td>\n",
       "      <td>2</td>\n",
       "    </tr>\n",
       "    <tr>\n",
       "      <th>4</th>\n",
       "      <td>1185965893819367424</td>\n",
       "      <td>wow great job</td>\n",
       "      <td>2</td>\n",
       "    </tr>\n",
       "    <tr>\n",
       "      <th>5</th>\n",
       "      <td>1185962985795121152</td>\n",
       "      <td>pm</td>\n",
       "      <td>2</td>\n",
       "    </tr>\n",
       "    <tr>\n",
       "      <th>6</th>\n",
       "      <td>1185954651713216512</td>\n",
       "      <td>congrats vivek team</td>\n",
       "      <td>2</td>\n",
       "    </tr>\n",
       "    <tr>\n",
       "      <th>7</th>\n",
       "      <td>1185930478265753601</td>\n",
       "      <td>hey yateesh please accept sincere apologies wo...</td>\n",
       "      <td>2</td>\n",
       "    </tr>\n",
       "    <tr>\n",
       "      <th>8</th>\n",
       "      <td>1185928132374626304</td>\n",
       "      <td>hey fueling vehicle still recieved cashback</td>\n",
       "      <td>2</td>\n",
       "    </tr>\n",
       "    <tr>\n",
       "      <th>9</th>\n",
       "      <td>1185920793785458688</td>\n",
       "      <td>thumbs pic twitter com sqjkm</td>\n",
       "      <td>0</td>\n",
       "    </tr>\n",
       "    <tr>\n",
       "      <th>10</th>\n",
       "      <td>1185919464258228230</td>\n",
       "      <td>radio silence guys really payroll bounce</td>\n",
       "      <td>2</td>\n",
       "    </tr>\n",
       "    <tr>\n",
       "      <th>11</th>\n",
       "      <td>1185913457847046144</td>\n",
       "      <td>congratulations entire teamof wishing</td>\n",
       "      <td>2</td>\n",
       "    </tr>\n",
       "    <tr>\n",
       "      <th>12</th>\n",
       "      <td>1185908839184420870</td>\n",
       "      <td>vehicles towed</td>\n",
       "      <td>2</td>\n",
       "    </tr>\n",
       "    <tr>\n",
       "      <th>13</th>\n",
       "      <td>1185906402427932673</td>\n",
       "      <td></td>\n",
       "      <td>2</td>\n",
       "    </tr>\n",
       "    <tr>\n",
       "      <th>14</th>\n",
       "      <td>1185902080369799168</td>\n",
       "      <td>hey arun thanks bringing notice please share t...</td>\n",
       "      <td>1</td>\n",
       "    </tr>\n",
       "    <tr>\n",
       "      <th>15</th>\n",
       "      <td>1185901577988694016</td>\n",
       "      <td>hussain thank much sharing contact number get ...</td>\n",
       "      <td>2</td>\n",
       "    </tr>\n",
       "    <tr>\n",
       "      <th>16</th>\n",
       "      <td>1185899041822887936</td>\n",
       "      <td>chalo finally k rides big achievement</td>\n",
       "      <td>2</td>\n",
       "    </tr>\n",
       "    <tr>\n",
       "      <th>17</th>\n",
       "      <td>1185898802990858241</td>\n",
       "      <td>sarcastic intention buy helmet bike number</td>\n",
       "      <td>2</td>\n",
       "    </tr>\n",
       "    <tr>\n",
       "      <th>18</th>\n",
       "      <td>1185898675454627841</td>\n",
       "      <td>shared contact details via happy help</td>\n",
       "      <td>2</td>\n",
       "    </tr>\n",
       "    <tr>\n",
       "      <th>19</th>\n",
       "      <td>1185883841426350080</td>\n",
       "      <td>hey hitesh thanks bringing notice forwarded re...</td>\n",
       "      <td>1</td>\n",
       "    </tr>\n",
       "    <tr>\n",
       "      <th>20</th>\n",
       "      <td>1185881945412165635</td>\n",
       "      <td>hey nikita thanks bringing notice would reques...</td>\n",
       "      <td>1</td>\n",
       "    </tr>\n",
       "    <tr>\n",
       "      <th>21</th>\n",
       "      <td>1185881126268592131</td>\n",
       "      <td>case wondering helmets keep disappearing plate...</td>\n",
       "      <td>0</td>\n",
       "    </tr>\n",
       "    <tr>\n",
       "      <th>22</th>\n",
       "      <td>1185871492136857602</td>\n",
       "      <td>informed concerned traffic officer take necess...</td>\n",
       "      <td>2</td>\n",
       "    </tr>\n",
       "    <tr>\n",
       "      <th>23</th>\n",
       "      <td>1185871247164375040</td>\n",
       "      <td>kids riding bounce vehicle dangerous near akki...</td>\n",
       "      <td>0</td>\n",
       "    </tr>\n",
       "    <tr>\n",
       "      <th>24</th>\n",
       "      <td>1185868493519867905</td>\n",
       "      <td>k daily rides bangalore using</td>\n",
       "      <td>2</td>\n",
       "    </tr>\n",
       "  </tbody>\n",
       "</table>\n",
       "</div>"
      ],
      "text/plain": [
       "                     id  ... clusters\n",
       "0   1186038116517212160  ...        2\n",
       "1   1186002436344823809  ...        2\n",
       "2   1185995725932384256  ...        2\n",
       "3   1185987970655899648  ...        2\n",
       "4   1185965893819367424  ...        2\n",
       "5   1185962985795121152  ...        2\n",
       "6   1185954651713216512  ...        2\n",
       "7   1185930478265753601  ...        2\n",
       "8   1185928132374626304  ...        2\n",
       "9   1185920793785458688  ...        0\n",
       "10  1185919464258228230  ...        2\n",
       "11  1185913457847046144  ...        2\n",
       "12  1185908839184420870  ...        2\n",
       "13  1185906402427932673  ...        2\n",
       "14  1185902080369799168  ...        1\n",
       "15  1185901577988694016  ...        2\n",
       "16  1185899041822887936  ...        2\n",
       "17  1185898802990858241  ...        2\n",
       "18  1185898675454627841  ...        2\n",
       "19  1185883841426350080  ...        1\n",
       "20  1185881945412165635  ...        1\n",
       "21  1185881126268592131  ...        0\n",
       "22  1185871492136857602  ...        2\n",
       "23  1185871247164375040  ...        0\n",
       "24  1185868493519867905  ...        2\n",
       "\n",
       "[25 rows x 3 columns]"
      ]
     },
     "execution_count": 269,
     "metadata": {
      "tags": []
     },
     "output_type": "execute_result"
    }
   ],
   "source": [
    "new.head(25)"
   ]
  },
  {
   "cell_type": "code",
   "execution_count": 270,
   "metadata": {
    "colab": {
     "base_uri": "https://localhost:8080/",
     "height": 137
    },
    "colab_type": "code",
    "id": "YaSo_PkJtd4q",
    "outputId": "1a749691-5d43-45c1-af7a-4c63dd30f629"
   },
   "outputs": [
    {
     "name": "stderr",
     "output_type": "stream",
     "text": [
      "/usr/local/lib/python3.6/dist-packages/ipykernel_launcher.py:3: SettingWithCopyWarning: \n",
      "A value is trying to be set on a copy of a slice from a DataFrame.\n",
      "Try using .loc[row_indexer,col_indexer] = value instead\n",
      "\n",
      "See the caveats in the documentation: https://pandas.pydata.org/pandas-docs/stable/user_guide/indexing.html#returning-a-view-versus-a-copy\n",
      "  This is separate from the ipykernel package so we can avoid doing imports until\n"
     ]
    }
   ],
   "source": [
    "mappings= {2:\"Neutral\",0:\"Negative\",1: \"Positive\"}\n",
    "\n",
    "new['clusters'] = new['clusters'].map(mappings)"
   ]
  },
  {
   "cell_type": "markdown",
   "metadata": {
    "colab_type": "text",
    "id": "pQnATuOW1SOp"
   },
   "source": [
    "### Transfer Learning\n",
    "- We will use FastAI library that is focused on using pre-trained Language Models  and then tune them."
   ]
  },
  {
   "cell_type": "code",
   "execution_count": 271,
   "metadata": {
    "colab": {
     "base_uri": "https://localhost:8080/",
     "height": 739
    },
    "colab_type": "code",
    "id": "FQnJv1XG1SOp",
    "outputId": "48cd827c-40fa-43a7-e911-ee94bfdc55ad"
   },
   "outputs": [
    {
     "name": "stdout",
     "output_type": "stream",
     "text": [
      "Requirement already satisfied: fastai in /usr/local/lib/python3.6/dist-packages (1.0.61)\n",
      "Requirement already satisfied: numpy>=1.15 in /usr/local/lib/python3.6/dist-packages (from fastai) (1.18.5)\n",
      "Requirement already satisfied: requests in /usr/local/lib/python3.6/dist-packages (from fastai) (2.23.0)\n",
      "Requirement already satisfied: numexpr in /usr/local/lib/python3.6/dist-packages (from fastai) (2.7.1)\n",
      "Requirement already satisfied: fastprogress>=0.2.1 in /usr/local/lib/python3.6/dist-packages (from fastai) (0.2.3)\n",
      "Requirement already satisfied: nvidia-ml-py3 in /usr/local/lib/python3.6/dist-packages (from fastai) (7.352.0)\n",
      "Requirement already satisfied: scipy in /usr/local/lib/python3.6/dist-packages (from fastai) (1.4.1)\n",
      "Requirement already satisfied: matplotlib in /usr/local/lib/python3.6/dist-packages (from fastai) (3.2.2)\n",
      "Requirement already satisfied: packaging in /usr/local/lib/python3.6/dist-packages (from fastai) (20.4)\n",
      "Requirement already satisfied: spacy>=2.0.18; python_version < \"3.8\" in /usr/local/lib/python3.6/dist-packages (from fastai) (2.2.4)\n",
      "Requirement already satisfied: torchvision in /usr/local/lib/python3.6/dist-packages (from fastai) (0.6.1+cu101)\n",
      "Requirement already satisfied: pandas in /usr/local/lib/python3.6/dist-packages (from fastai) (1.0.5)\n",
      "Requirement already satisfied: beautifulsoup4 in /usr/local/lib/python3.6/dist-packages (from fastai) (4.6.3)\n",
      "Requirement already satisfied: Pillow in /usr/local/lib/python3.6/dist-packages (from fastai) (7.0.0)\n",
      "Requirement already satisfied: torch>=1.0.0 in /usr/local/lib/python3.6/dist-packages (from fastai) (1.5.1+cu101)\n",
      "Requirement already satisfied: dataclasses; python_version < \"3.7\" in /usr/local/lib/python3.6/dist-packages (from fastai) (0.7)\n",
      "Requirement already satisfied: pyyaml in /usr/local/lib/python3.6/dist-packages (from fastai) (3.13)\n",
      "Requirement already satisfied: bottleneck in /usr/local/lib/python3.6/dist-packages (from fastai) (1.3.2)\n",
      "Requirement already satisfied: chardet<4,>=3.0.2 in /usr/local/lib/python3.6/dist-packages (from requests->fastai) (3.0.4)\n",
      "Requirement already satisfied: idna<3,>=2.5 in /usr/local/lib/python3.6/dist-packages (from requests->fastai) (2.10)\n",
      "Requirement already satisfied: urllib3!=1.25.0,!=1.25.1,<1.26,>=1.21.1 in /usr/local/lib/python3.6/dist-packages (from requests->fastai) (1.24.3)\n",
      "Requirement already satisfied: certifi>=2017.4.17 in /usr/local/lib/python3.6/dist-packages (from requests->fastai) (2020.6.20)\n",
      "Requirement already satisfied: pyparsing!=2.0.4,!=2.1.2,!=2.1.6,>=2.0.1 in /usr/local/lib/python3.6/dist-packages (from matplotlib->fastai) (2.4.7)\n",
      "Requirement already satisfied: cycler>=0.10 in /usr/local/lib/python3.6/dist-packages (from matplotlib->fastai) (0.10.0)\n",
      "Requirement already satisfied: kiwisolver>=1.0.1 in /usr/local/lib/python3.6/dist-packages (from matplotlib->fastai) (1.2.0)\n",
      "Requirement already satisfied: python-dateutil>=2.1 in /usr/local/lib/python3.6/dist-packages (from matplotlib->fastai) (2.8.1)\n",
      "Requirement already satisfied: six in /usr/local/lib/python3.6/dist-packages (from packaging->fastai) (1.15.0)\n",
      "Requirement already satisfied: plac<1.2.0,>=0.9.6 in /usr/local/lib/python3.6/dist-packages (from spacy>=2.0.18; python_version < \"3.8\"->fastai) (1.1.3)\n",
      "Requirement already satisfied: tqdm<5.0.0,>=4.38.0 in /usr/local/lib/python3.6/dist-packages (from spacy>=2.0.18; python_version < \"3.8\"->fastai) (4.41.1)\n",
      "Requirement already satisfied: murmurhash<1.1.0,>=0.28.0 in /usr/local/lib/python3.6/dist-packages (from spacy>=2.0.18; python_version < \"3.8\"->fastai) (1.0.2)\n",
      "Requirement already satisfied: cymem<2.1.0,>=2.0.2 in /usr/local/lib/python3.6/dist-packages (from spacy>=2.0.18; python_version < \"3.8\"->fastai) (2.0.3)\n",
      "Requirement already satisfied: catalogue<1.1.0,>=0.0.7 in /usr/local/lib/python3.6/dist-packages (from spacy>=2.0.18; python_version < \"3.8\"->fastai) (1.0.0)\n",
      "Requirement already satisfied: wasabi<1.1.0,>=0.4.0 in /usr/local/lib/python3.6/dist-packages (from spacy>=2.0.18; python_version < \"3.8\"->fastai) (0.7.1)\n",
      "Requirement already satisfied: preshed<3.1.0,>=3.0.2 in /usr/local/lib/python3.6/dist-packages (from spacy>=2.0.18; python_version < \"3.8\"->fastai) (3.0.2)\n",
      "Requirement already satisfied: blis<0.5.0,>=0.4.0 in /usr/local/lib/python3.6/dist-packages (from spacy>=2.0.18; python_version < \"3.8\"->fastai) (0.4.1)\n",
      "Requirement already satisfied: thinc==7.4.0 in /usr/local/lib/python3.6/dist-packages (from spacy>=2.0.18; python_version < \"3.8\"->fastai) (7.4.0)\n",
      "Requirement already satisfied: srsly<1.1.0,>=1.0.2 in /usr/local/lib/python3.6/dist-packages (from spacy>=2.0.18; python_version < \"3.8\"->fastai) (1.0.2)\n",
      "Requirement already satisfied: setuptools in /usr/local/lib/python3.6/dist-packages (from spacy>=2.0.18; python_version < \"3.8\"->fastai) (49.1.0)\n",
      "Requirement already satisfied: pytz>=2017.2 in /usr/local/lib/python3.6/dist-packages (from pandas->fastai) (2018.9)\n",
      "Requirement already satisfied: future in /usr/local/lib/python3.6/dist-packages (from torch>=1.0.0->fastai) (0.16.0)\n",
      "Requirement already satisfied: importlib-metadata>=0.20; python_version < \"3.8\" in /usr/local/lib/python3.6/dist-packages (from catalogue<1.1.0,>=0.0.7->spacy>=2.0.18; python_version < \"3.8\"->fastai) (1.7.0)\n",
      "Requirement already satisfied: zipp>=0.5 in /usr/local/lib/python3.6/dist-packages (from importlib-metadata>=0.20; python_version < \"3.8\"->catalogue<1.1.0,>=0.0.7->spacy>=2.0.18; python_version < \"3.8\"->fastai) (3.1.0)\n"
     ]
    }
   ],
   "source": [
    "!pip install fastai"
   ]
  },
  {
   "cell_type": "code",
   "execution_count": 272,
   "metadata": {
    "colab": {},
    "colab_type": "code",
    "id": "fQJmLJmX1SOq"
   },
   "outputs": [],
   "source": [
    "from fastai.text import *"
   ]
  },
  {
   "cell_type": "markdown",
   "metadata": {
    "colab_type": "text",
    "id": "EUVKkjmjIXWE"
   },
   "source": [
    "We’ll create two models.\n",
    "-  A language model and a text   classification model, therefore we’ll create two different data bunches using the TextLMDataBunch and TextClasDataBunch classes:"
   ]
  },
  {
   "cell_type": "code",
   "execution_count": 273,
   "metadata": {
    "colab": {
     "base_uri": "https://localhost:8080/",
     "height": 17
    },
    "colab_type": "code",
    "id": "MFYuRiZd23Bq",
    "outputId": "cbf2b699-8416-41e7-a4a1-b0d804b78198"
   },
   "outputs": [
    {
     "data": {
      "text/html": [],
      "text/plain": [
       "<IPython.core.display.HTML object>"
      ]
     },
     "metadata": {
      "tags": []
     },
     "output_type": "display_data"
    },
    {
     "data": {
      "text/html": [],
      "text/plain": [
       "<IPython.core.display.HTML object>"
      ]
     },
     "metadata": {
      "tags": []
     },
     "output_type": "display_data"
    },
    {
     "data": {
      "text/html": [],
      "text/plain": [
       "<IPython.core.display.HTML object>"
      ]
     },
     "metadata": {
      "tags": []
     },
     "output_type": "display_data"
    },
    {
     "data": {
      "text/html": [],
      "text/plain": [
       "<IPython.core.display.HTML object>"
      ]
     },
     "metadata": {
      "tags": []
     },
     "output_type": "display_data"
    }
   ],
   "source": [
    "# Language model data\n",
    "train_df, valid_df = new.loc[:6000,:], new.loc[6000:,:]\n",
    "data_lm = TextLMDataBunch.from_df(path, train_df, valid_df, text_cols=1, bs=32)\n",
    "data_clas = TextClasDataBunch.from_df(path, train_df, valid_df, text_cols=1, label_cols=2, bs=32)"
   ]
  },
  {
   "cell_type": "code",
   "execution_count": 274,
   "metadata": {
    "colab": {
     "base_uri": "https://localhost:8080/",
     "height": 581
    },
    "colab_type": "code",
    "id": "ge_IK2X83AXu",
    "outputId": "413916f8-6dcf-45c6-be53-f6b322f040a4"
   },
   "outputs": [
    {
     "data": {
      "text/html": [
       "<table border=\"1\" class=\"dataframe\">\n",
       "  <thead>\n",
       "    <tr style=\"text-align: right;\">\n",
       "      <th>idx</th>\n",
       "      <th>text</th>\n",
       "    </tr>\n",
       "  </thead>\n",
       "  <tbody>\n",
       "    <tr>\n",
       "      <td>0</td>\n",
       "      <td>checked assist xxbos hey xxunk vehicle still xxunk cashback xxbos xxunk pic twitter com xxunk xxbos xxunk xxunk guys really payroll bounce xxbos congratulations entire xxunk wishing xxbos vehicles towed xxbos xxbos hey arun thanks bringing notice please share time took snap forward concerned team retrieve helmet individual earliest xxbos hussain thank much sharing contact number get touch monday xxbos xxunk finally k rides big achievement xxbos xxunk xxunk buy</td>\n",
       "    </tr>\n",
       "    <tr>\n",
       "      <td>1</td>\n",
       "      <td>near house helmet kept inside trunk previous customer xxunk rain helmet xxunk helmet prone theft bringing notice already shared details xxbos check xxbos guys xxunk fare let say drive takes minutes much paying scenario minutes much paying xxbos would also request please share feedback first ride wish safe rides welcome family happy bouncing xxbos xxbos using one tomorrow first time let see goes xxbos happy hear however get issue checked</td>\n",
       "    </tr>\n",
       "    <tr>\n",
       "      <td>2</td>\n",
       "      <td>xxunk switched roads new ones xxbos start xxunk show continues xxbos luck xxunk xxunk xxunk wind xxunk road today one hand initiatives like operate negative xxunk solve urban commute tax xxunk money gets xxunk pathetic infra roads cave like pic twitter com xxunk xxbos refuel scooter allowed upload recipt recipt uploaded kindly revert paytm xxunk cash back bounce wallet thanks pic twitter com xxunk xxbos appreciate response took snap yesterday</td>\n",
       "    </tr>\n",
       "    <tr>\n",
       "      <td>3</td>\n",
       "      <td>yesterday infront xxunk railway station road yesterday xxbos absolutely right bang despite xxunk road tax paying state country painful see pathetic infrastructure lack basic civic facilities open spaces city corruption xxunk state completely spoilt beautiful city xxbos hey sachin per telephonic conversation issue resolved great day ahead xxbos hey abdul tried reaching unfortunately unable connect call please help convenient time alternate number reach xxbos hey xxunk appreciate concern support towards</td>\n",
       "    </tr>\n",
       "    <tr>\n",
       "      <td>4</td>\n",
       "      <td>bouncing xxbos question getting charged km friend getting pic twitter com xxunk xxbos real happiness find helmet passing next rider thanks pic twitter com xxunk xxbos xxunk hyderabad xxunk xxbos xxbos place st main road koramangala st block date th oct time around pm pic twitter com xxunk xxbos bikes given time bangalore metro stations also xxunk ppl park bounce vehicles inside home end ride caused roam around kilometres xxbos</td>\n",
       "    </tr>\n",
       "  </tbody>\n",
       "</table>"
      ],
      "text/plain": [
       "<IPython.core.display.HTML object>"
      ]
     },
     "metadata": {
      "tags": []
     },
     "output_type": "display_data"
    }
   ],
   "source": [
    "data_lm.show_batch()"
   ]
  },
  {
   "cell_type": "code",
   "execution_count": 275,
   "metadata": {
    "colab": {
     "base_uri": "https://localhost:8080/",
     "height": 380
    },
    "colab_type": "code",
    "id": "HZgAUR7248YE",
    "outputId": "3d197c77-8860-4259-dda8-310531766e18"
   },
   "outputs": [
    {
     "data": {
      "text/html": [
       "<table border=\"1\" class=\"dataframe\">\n",
       "  <thead>\n",
       "    <tr style=\"text-align: right;\">\n",
       "      <th>text</th>\n",
       "      <th>target</th>\n",
       "    </tr>\n",
       "  </thead>\n",
       "  <tbody>\n",
       "    <tr>\n",
       "      <td>xxbos bike sharing started goa traditional business system rider approached bike owner register rental service involved paper work pass bengaluru first app based rental service far know bounce becomes world fastest growing bike sharing start html twitter impression true</td>\n",
       "      <td>Neutral</td>\n",
       "    </tr>\n",
       "    <tr>\n",
       "      <td>xxbos story saved tonight riding back home ran fuel midway parked bike safe ish place wanna leave overnight bounce available minute away booked got fuel came back thank guys pic twitter com xxunk</td>\n",
       "      <td>Negative</td>\n",
       "    </tr>\n",
       "    <tr>\n",
       "      <td>xxbos worst customer service ever raised issue wrongly imposed parking violation fees july finally several mails got location july surprise private parking location calls direct proper info till end pic twitter com xxunk</td>\n",
       "      <td>Negative</td>\n",
       "    </tr>\n",
       "    <tr>\n",
       "      <td>xxbos good one best still long way daily try take bounce end days empty fuel tank non working scooter non availability scooter family society please xxunk bounce zone ecity town ecity phase</td>\n",
       "      <td>Neutral</td>\n",
       "    </tr>\n",
       "    <tr>\n",
       "      <td>xxbos excellent sure xxunk recently met person bounce saying ppl replacing parts vehicles major issue parking wherever want another thing high xxunk due high wear xxunk due rough xxunk users xxunk issue</td>\n",
       "      <td>Neutral</td>\n",
       "    </tr>\n",
       "  </tbody>\n",
       "</table>"
      ],
      "text/plain": [
       "<IPython.core.display.HTML object>"
      ]
     },
     "metadata": {
      "tags": []
     },
     "output_type": "display_data"
    }
   ],
   "source": [
    "data_clas.show_batch()\n"
   ]
  },
  {
   "cell_type": "markdown",
   "metadata": {
    "colab_type": "text",
    "id": "k2sPOhlaMZoO"
   },
   "source": [
    "- In FastAI, a language model can be created using the language_model_learner method"
   ]
  },
  {
   "cell_type": "code",
   "execution_count": 281,
   "metadata": {
    "colab": {
     "base_uri": "https://localhost:8080/",
     "height": 432
    },
    "colab_type": "code",
    "id": "E8Im2o5s5BtN",
    "outputId": "d68aef46-54f2-49d6-f9b8-5fb1e178a954"
   },
   "outputs": [
    {
     "data": {
      "text/html": [
       "\n",
       "    <div>\n",
       "        <style>\n",
       "            /* Turns off some styling */\n",
       "            progress {\n",
       "                /* gets rid of default border in Firefox and Opera. */\n",
       "                border: none;\n",
       "                /* Needs to be in here for Safari polyfill so background images work as expected. */\n",
       "                background-size: auto;\n",
       "            }\n",
       "            .progress-bar-interrupted, .progress-bar-interrupted::-webkit-progress-bar {\n",
       "                background: #F44336;\n",
       "            }\n",
       "        </style>\n",
       "      <progress value='2' class='' max='3' style='width:300px; height:20px; vertical-align: middle;'></progress>\n",
       "      66.67% [2/3 05:48<02:54]\n",
       "    </div>\n",
       "    \n",
       "<table border=\"1\" class=\"dataframe\">\n",
       "  <thead>\n",
       "    <tr style=\"text-align: left;\">\n",
       "      <th>epoch</th>\n",
       "      <th>train_loss</th>\n",
       "      <th>valid_loss</th>\n",
       "      <th>accuracy</th>\n",
       "      <th>time</th>\n",
       "    </tr>\n",
       "  </thead>\n",
       "  <tbody>\n",
       "    <tr>\n",
       "      <td>0</td>\n",
       "      <td>8.607991</td>\n",
       "      <td>#na#</td>\n",
       "      <td>02:53</td>\n",
       "    </tr>\n",
       "    <tr>\n",
       "      <td>1</td>\n",
       "      <td>7.732082</td>\n",
       "      <td>#na#</td>\n",
       "      <td>02:55</td>\n",
       "    </tr>\n",
       "  </tbody>\n",
       "</table><p>\n",
       "\n",
       "    <div>\n",
       "        <style>\n",
       "            /* Turns off some styling */\n",
       "            progress {\n",
       "                /* gets rid of default border in Firefox and Opera. */\n",
       "                border: none;\n",
       "                /* Needs to be in here for Safari polyfill so background images work as expected. */\n",
       "                background-size: auto;\n",
       "            }\n",
       "            .progress-bar-interrupted, .progress-bar-interrupted::-webkit-progress-bar {\n",
       "                background: #F44336;\n",
       "            }\n",
       "        </style>\n",
       "      <progress value='25' class='' max='37' style='width:300px; height:20px; vertical-align: middle;'></progress>\n",
       "      67.57% [25/37 02:24<01:09 10.3499]\n",
       "    </div>\n",
       "    "
      ],
      "text/plain": [
       "<IPython.core.display.HTML object>"
      ]
     },
     "metadata": {
      "tags": []
     },
     "output_type": "display_data"
    },
    {
     "name": "stdout",
     "output_type": "stream",
     "text": [
      "LR Finder is complete, type {learner_name}.recorder.plot() to see the graph.\n"
     ]
    },
    {
     "data": {
      "image/png": "[encoded data removed]",
      "text/plain": [
       "<Figure size 432x288 with 1 Axes>"
      ]
     },
     "metadata": {
      "needs_background": "light",
      "tags": []
     },
     "output_type": "display_data"
    }
   ],
   "source": [
    "learn = language_model_learner(data_lm,AWD_LSTM, drop_mult=0.5)\n",
    "\n",
    "learn.lr_find() \n",
    "learn.recorder.plot()"
   ]
  },
  {
   "cell_type": "code",
   "execution_count": 282,
   "metadata": {
    "colab": {
     "base_uri": "https://localhost:8080/",
     "height": 77
    },
    "colab_type": "code",
    "id": "m20OKWTYZlY9",
    "outputId": "b95ea30c-9708-4804-d658-4541fa2246fe"
   },
   "outputs": [
    {
     "data": {
      "text/html": [
       "<table border=\"1\" class=\"dataframe\">\n",
       "  <thead>\n",
       "    <tr style=\"text-align: left;\">\n",
       "      <th>epoch</th>\n",
       "      <th>train_loss</th>\n",
       "      <th>valid_loss</th>\n",
       "      <th>accuracy</th>\n",
       "      <th>time</th>\n",
       "    </tr>\n",
       "  </thead>\n",
       "  <tbody>\n",
       "    <tr>\n",
       "      <td>0</td>\n",
       "      <td>6.313567</td>\n",
       "      <td>5.432672</td>\n",
       "      <td>0.187608</td>\n",
       "      <td>04:09</td>\n",
       "    </tr>\n",
       "  </tbody>\n",
       "</table>"
      ],
      "text/plain": [
       "<IPython.core.display.HTML object>"
      ]
     },
     "metadata": {
      "tags": []
     },
     "output_type": "display_data"
    }
   ],
   "source": [
    "\n",
    "learn.fit_one_cycle(1, 1e-2)                  \n"
   ]
  },
  {
   "cell_type": "code",
   "execution_count": 283,
   "metadata": {
    "colab": {
     "base_uri": "https://localhost:8080/",
     "height": 432
    },
    "colab_type": "code",
    "id": "-8TAlBgpQ0s7",
    "outputId": "f392976b-3ea1-4ca0-83a1-03ab8c453d73"
   },
   "outputs": [
    {
     "data": {
      "text/html": [
       "\n",
       "    <div>\n",
       "        <style>\n",
       "            /* Turns off some styling */\n",
       "            progress {\n",
       "                /* gets rid of default border in Firefox and Opera. */\n",
       "                border: none;\n",
       "                /* Needs to be in here for Safari polyfill so background images work as expected. */\n",
       "                background-size: auto;\n",
       "            }\n",
       "            .progress-bar-interrupted, .progress-bar-interrupted::-webkit-progress-bar {\n",
       "                background: #F44336;\n",
       "            }\n",
       "        </style>\n",
       "      <progress value='2' class='' max='3' style='width:300px; height:20px; vertical-align: middle;'></progress>\n",
       "      66.67% [2/3 09:51<04:55]\n",
       "    </div>\n",
       "    \n",
       "<table border=\"1\" class=\"dataframe\">\n",
       "  <thead>\n",
       "    <tr style=\"text-align: left;\">\n",
       "      <th>epoch</th>\n",
       "      <th>train_loss</th>\n",
       "      <th>valid_loss</th>\n",
       "      <th>accuracy</th>\n",
       "      <th>time</th>\n",
       "    </tr>\n",
       "  </thead>\n",
       "  <tbody>\n",
       "    <tr>\n",
       "      <td>0</td>\n",
       "      <td>5.269446</td>\n",
       "      <td>#na#</td>\n",
       "      <td>04:53</td>\n",
       "    </tr>\n",
       "    <tr>\n",
       "      <td>1</td>\n",
       "      <td>4.894941</td>\n",
       "      <td>#na#</td>\n",
       "      <td>04:58</td>\n",
       "    </tr>\n",
       "  </tbody>\n",
       "</table><p>\n",
       "\n",
       "    <div>\n",
       "        <style>\n",
       "            /* Turns off some styling */\n",
       "            progress {\n",
       "                /* gets rid of default border in Firefox and Opera. */\n",
       "                border: none;\n",
       "                /* Needs to be in here for Safari polyfill so background images work as expected. */\n",
       "                background-size: auto;\n",
       "            }\n",
       "            .progress-bar-interrupted, .progress-bar-interrupted::-webkit-progress-bar {\n",
       "                background: #F44336;\n",
       "            }\n",
       "        </style>\n",
       "      <progress value='20' class='' max='37' style='width:300px; height:20px; vertical-align: middle;'></progress>\n",
       "      54.05% [20/37 21:44<18:28 16.8983]\n",
       "    </div>\n",
       "    "
      ],
      "text/plain": [
       "<IPython.core.display.HTML object>"
      ]
     },
     "metadata": {
      "tags": []
     },
     "output_type": "display_data"
    },
    {
     "name": "stdout",
     "output_type": "stream",
     "text": [
      "LR Finder is complete, type {learner_name}.recorder.plot() to see the graph.\n"
     ]
    },
    {
     "data": {
      "image/png": "[encoded data removed]",
      "text/plain": [
       "<Figure size 432x288 with 1 Axes>"
      ]
     },
     "metadata": {
      "needs_background": "light",
      "tags": []
     },
     "output_type": "display_data"
    }
   ],
   "source": [
    "learn.unfreeze() \n",
    "learn.lr_find()\n",
    "learn.recorder.plot()"
   ]
  },
  {
   "cell_type": "code",
   "execution_count": 284,
   "metadata": {
    "colab": {
     "base_uri": "https://localhost:8080/",
     "height": 345
    },
    "colab_type": "code",
    "id": "zlKrnzpY-4EG",
    "outputId": "df2a9847-5c7c-4851-ddb3-0aa647b2b587"
   },
   "outputs": [
    {
     "data": {
      "text/html": [
       "<table border=\"1\" class=\"dataframe\">\n",
       "  <thead>\n",
       "    <tr style=\"text-align: left;\">\n",
       "      <th>epoch</th>\n",
       "      <th>train_loss</th>\n",
       "      <th>valid_loss</th>\n",
       "      <th>accuracy</th>\n",
       "      <th>time</th>\n",
       "    </tr>\n",
       "  </thead>\n",
       "  <tbody>\n",
       "    <tr>\n",
       "      <td>0</td>\n",
       "      <td>5.033100</td>\n",
       "      <td>5.176671</td>\n",
       "      <td>0.228166</td>\n",
       "      <td>06:17</td>\n",
       "    </tr>\n",
       "    <tr>\n",
       "      <td>1</td>\n",
       "      <td>4.657924</td>\n",
       "      <td>4.904141</td>\n",
       "      <td>0.252665</td>\n",
       "      <td>06:18</td>\n",
       "    </tr>\n",
       "    <tr>\n",
       "      <td>2</td>\n",
       "      <td>4.305214</td>\n",
       "      <td>4.718988</td>\n",
       "      <td>0.271970</td>\n",
       "      <td>06:18</td>\n",
       "    </tr>\n",
       "    <tr>\n",
       "      <td>3</td>\n",
       "      <td>3.986087</td>\n",
       "      <td>4.666814</td>\n",
       "      <td>0.283212</td>\n",
       "      <td>06:15</td>\n",
       "    </tr>\n",
       "    <tr>\n",
       "      <td>4</td>\n",
       "      <td>3.712178</td>\n",
       "      <td>4.655494</td>\n",
       "      <td>0.281778</td>\n",
       "      <td>06:14</td>\n",
       "    </tr>\n",
       "    <tr>\n",
       "      <td>5</td>\n",
       "      <td>3.415176</td>\n",
       "      <td>4.689903</td>\n",
       "      <td>0.280235</td>\n",
       "      <td>06:15</td>\n",
       "    </tr>\n",
       "    <tr>\n",
       "      <td>6</td>\n",
       "      <td>3.147822</td>\n",
       "      <td>4.759867</td>\n",
       "      <td>0.277557</td>\n",
       "      <td>06:08</td>\n",
       "    </tr>\n",
       "    <tr>\n",
       "      <td>7</td>\n",
       "      <td>2.925910</td>\n",
       "      <td>4.816377</td>\n",
       "      <td>0.275095</td>\n",
       "      <td>05:50</td>\n",
       "    </tr>\n",
       "    <tr>\n",
       "      <td>8</td>\n",
       "      <td>2.758734</td>\n",
       "      <td>4.847036</td>\n",
       "      <td>0.272524</td>\n",
       "      <td>05:57</td>\n",
       "    </tr>\n",
       "    <tr>\n",
       "      <td>9</td>\n",
       "      <td>2.665433</td>\n",
       "      <td>4.854985</td>\n",
       "      <td>0.271239</td>\n",
       "      <td>05:52</td>\n",
       "    </tr>\n",
       "  </tbody>\n",
       "</table>"
      ],
      "text/plain": [
       "<IPython.core.display.HTML object>"
      ]
     },
     "metadata": {
      "tags": []
     },
     "output_type": "display_data"
    }
   ],
   "source": [
    "\n",
    "learn.fit_one_cycle(10, 1e-3)"
   ]
  },
  {
   "cell_type": "code",
   "execution_count": 285,
   "metadata": {
    "colab": {
     "base_uri": "https://localhost:8080/",
     "height": 279
    },
    "colab_type": "code",
    "id": "oM72--Xhav4c",
    "outputId": "7aca478b-0ca4-4b66-aed6-4d5208bff775"
   },
   "outputs": [
    {
     "data": {
      "image/png": "[encoded data removed]",
      "text/plain": [
       "<Figure size 432x288 with 1 Axes>"
      ]
     },
     "metadata": {
      "needs_background": "light",
      "tags": []
     },
     "output_type": "display_data"
    }
   ],
   "source": [
    "learn.recorder.plot()"
   ]
  },
  {
   "cell_type": "markdown",
   "metadata": {
    "colab_type": "text",
    "id": "-0OeeS45kv5i"
   },
   "source": [
    " Lets save the encoder to use for our classification model:"
   ]
  },
  {
   "cell_type": "code",
   "execution_count": 287,
   "metadata": {
    "colab": {},
    "colab_type": "code",
    "id": "t0tSuOYGZt9C"
   },
   "outputs": [],
   "source": [
    "learn.save_encoder('ft_enc')"
   ]
  },
  {
   "cell_type": "markdown",
   "metadata": {
    "colab_type": "text",
    "id": "EtO8mM8mk8Cg"
   },
   "source": [
    "### Classification model"
   ]
  },
  {
   "cell_type": "code",
   "execution_count": 288,
   "metadata": {
    "colab": {
     "base_uri": "https://localhost:8080/",
     "height": 1000
    },
    "colab_type": "code",
    "id": "OQ_gfy-HK6i2",
    "outputId": "757dab12-3fb2-4722-cd63-688bbd56bd03"
   },
   "outputs": [
    {
     "data": {
      "text/plain": [
       "RNNLearner(data=TextClasDataBunch;\n",
       "\n",
       "Train: LabelList (6001 items)\n",
       "x: TextList\n",
       "xxbos shared micromobility global xxunk congrats,xxbos like standing joke,xxbos first time bangalore xxunk drive really enjoying xxunk banglore igshid xxunk,xxbos helmet also consider put xxunk paper xxunk helmet hygiene get maintained xxunk xxunk xxunk ride every one wearing feel comfortable xxunk xxunk xxunk xxunk,xxbos wow great job\n",
       "y: CategoryList\n",
       "Neutral,Neutral,Neutral,Neutral,Neutral\n",
       "Path: /content/drive/My Drive/Dataset;\n",
       "\n",
       "Valid: LabelList (6020 items)\n",
       "x: TextList\n",
       "xxbos talking abt third image wherein vehicles aligned footpath painted wherein xxunk vehicles parked seems drainage cover however shud careful well customers startups making life easy,xxbos akash xxunk xxunk proof provided unless do nt want call footpath footpath xxunk pic twitter com xxunk,xxbos today company folks brought truck vehicles parking pavement near sap office basis special privilege even tow vehicles,xxbos doubtful parked vehicle footpath still make sure parking vehicle right place good job,xxbos people xxunk using stealing helmets personal use ride shares pic twitter com xxunk\n",
       "y: CategoryList\n",
       "Neutral,Negative,Neutral,Neutral,Negative\n",
       "Path: /content/drive/My Drive/Dataset;\n",
       "\n",
       "Test: None, model=SequentialRNN(\n",
       "  (0): MultiBatchEncoder(\n",
       "    (module): AWD_LSTM(\n",
       "      (encoder): Embedding(3608, 400, padding_idx=1)\n",
       "      (encoder_dp): EmbeddingDropout(\n",
       "        (emb): Embedding(3608, 400, padding_idx=1)\n",
       "      )\n",
       "      (rnns): ModuleList(\n",
       "        (0): WeightDropout(\n",
       "          (module): LSTM(400, 1152, batch_first=True)\n",
       "        )\n",
       "        (1): WeightDropout(\n",
       "          (module): LSTM(1152, 1152, batch_first=True)\n",
       "        )\n",
       "        (2): WeightDropout(\n",
       "          (module): LSTM(1152, 400, batch_first=True)\n",
       "        )\n",
       "      )\n",
       "      (input_dp): RNNDropout()\n",
       "      (hidden_dps): ModuleList(\n",
       "        (0): RNNDropout()\n",
       "        (1): RNNDropout()\n",
       "        (2): RNNDropout()\n",
       "      )\n",
       "    )\n",
       "  )\n",
       "  (1): PoolingLinearClassifier(\n",
       "    (layers): Sequential(\n",
       "      (0): BatchNorm1d(1200, eps=1e-05, momentum=0.1, affine=True, track_running_stats=True)\n",
       "      (1): Dropout(p=0.2, inplace=False)\n",
       "      (2): Linear(in_features=1200, out_features=50, bias=True)\n",
       "      (3): ReLU(inplace=True)\n",
       "      (4): BatchNorm1d(50, eps=1e-05, momentum=0.1, affine=True, track_running_stats=True)\n",
       "      (5): Dropout(p=0.1, inplace=False)\n",
       "      (6): Linear(in_features=50, out_features=3, bias=True)\n",
       "    )\n",
       "  )\n",
       "), opt_func=functools.partial(<class 'torch.optim.adam.Adam'>, betas=(0.9, 0.99)), loss_func=FlattenedLoss of CrossEntropyLoss(), metrics=[<function accuracy at 0x7fc7ed8c49d8>], true_wd=True, bn_wd=True, wd=0.01, train_bn=True, path=PosixPath('/content/drive/My Drive/Dataset'), model_dir='models', callback_fns=[functools.partial(<class 'fastai.basic_train.Recorder'>, add_time=True, silent=False)], callbacks=[RNNTrainer\n",
       "learn: RNNLearner(data=TextClasDataBunch;\n",
       "\n",
       "Train: LabelList (6001 items)\n",
       "x: TextList\n",
       "xxbos shared micromobility global xxunk congrats,xxbos like standing joke,xxbos first time bangalore xxunk drive really enjoying xxunk banglore igshid xxunk,xxbos helmet also consider put xxunk paper xxunk helmet hygiene get maintained xxunk xxunk xxunk ride every one wearing feel comfortable xxunk xxunk xxunk xxunk,xxbos wow great job\n",
       "y: CategoryList\n",
       "Neutral,Neutral,Neutral,Neutral,Neutral\n",
       "Path: /content/drive/My Drive/Dataset;\n",
       "\n",
       "Valid: LabelList (6020 items)\n",
       "x: TextList\n",
       "xxbos talking abt third image wherein vehicles aligned footpath painted wherein xxunk vehicles parked seems drainage cover however shud careful well customers startups making life easy,xxbos akash xxunk xxunk proof provided unless do nt want call footpath footpath xxunk pic twitter com xxunk,xxbos today company folks brought truck vehicles parking pavement near sap office basis special privilege even tow vehicles,xxbos doubtful parked vehicle footpath still make sure parking vehicle right place good job,xxbos people xxunk using stealing helmets personal use ride shares pic twitter com xxunk\n",
       "y: CategoryList\n",
       "Neutral,Negative,Neutral,Neutral,Negative\n",
       "Path: /content/drive/My Drive/Dataset;\n",
       "\n",
       "Test: None, model=SequentialRNN(\n",
       "  (0): MultiBatchEncoder(\n",
       "    (module): AWD_LSTM(\n",
       "      (encoder): Embedding(3608, 400, padding_idx=1)\n",
       "      (encoder_dp): EmbeddingDropout(\n",
       "        (emb): Embedding(3608, 400, padding_idx=1)\n",
       "      )\n",
       "      (rnns): ModuleList(\n",
       "        (0): WeightDropout(\n",
       "          (module): LSTM(400, 1152, batch_first=True)\n",
       "        )\n",
       "        (1): WeightDropout(\n",
       "          (module): LSTM(1152, 1152, batch_first=True)\n",
       "        )\n",
       "        (2): WeightDropout(\n",
       "          (module): LSTM(1152, 400, batch_first=True)\n",
       "        )\n",
       "      )\n",
       "      (input_dp): RNNDropout()\n",
       "      (hidden_dps): ModuleList(\n",
       "        (0): RNNDropout()\n",
       "        (1): RNNDropout()\n",
       "        (2): RNNDropout()\n",
       "      )\n",
       "    )\n",
       "  )\n",
       "  (1): PoolingLinearClassifier(\n",
       "    (layers): Sequential(\n",
       "      (0): BatchNorm1d(1200, eps=1e-05, momentum=0.1, affine=True, track_running_stats=True)\n",
       "      (1): Dropout(p=0.2, inplace=False)\n",
       "      (2): Linear(in_features=1200, out_features=50, bias=True)\n",
       "      (3): ReLU(inplace=True)\n",
       "      (4): BatchNorm1d(50, eps=1e-05, momentum=0.1, affine=True, track_running_stats=True)\n",
       "      (5): Dropout(p=0.1, inplace=False)\n",
       "      (6): Linear(in_features=50, out_features=3, bias=True)\n",
       "    )\n",
       "  )\n",
       "), opt_func=functools.partial(<class 'torch.optim.adam.Adam'>, betas=(0.9, 0.99)), loss_func=FlattenedLoss of CrossEntropyLoss(), metrics=[<function accuracy at 0x7fc7ed8c49d8>], true_wd=True, bn_wd=True, wd=0.01, train_bn=True, path=PosixPath('/content/drive/My Drive/Dataset'), model_dir='models', callback_fns=[functools.partial(<class 'fastai.basic_train.Recorder'>, add_time=True, silent=False)], callbacks=[...], layer_groups=[Sequential(\n",
       "  (0): Embedding(3608, 400, padding_idx=1)\n",
       "  (1): EmbeddingDropout(\n",
       "    (emb): Embedding(3608, 400, padding_idx=1)\n",
       "  )\n",
       "), Sequential(\n",
       "  (0): WeightDropout(\n",
       "    (module): LSTM(400, 1152, batch_first=True)\n",
       "  )\n",
       "  (1): RNNDropout()\n",
       "), Sequential(\n",
       "  (0): WeightDropout(\n",
       "    (module): LSTM(1152, 1152, batch_first=True)\n",
       "  )\n",
       "  (1): RNNDropout()\n",
       "), Sequential(\n",
       "  (0): WeightDropout(\n",
       "    (module): LSTM(1152, 400, batch_first=True)\n",
       "  )\n",
       "  (1): RNNDropout()\n",
       "), Sequential(\n",
       "  (0): PoolingLinearClassifier(\n",
       "    (layers): Sequential(\n",
       "      (0): BatchNorm1d(1200, eps=1e-05, momentum=0.1, affine=True, track_running_stats=True)\n",
       "      (1): Dropout(p=0.2, inplace=False)\n",
       "      (2): Linear(in_features=1200, out_features=50, bias=True)\n",
       "      (3): ReLU(inplace=True)\n",
       "      (4): BatchNorm1d(50, eps=1e-05, momentum=0.1, affine=True, track_running_stats=True)\n",
       "      (5): Dropout(p=0.1, inplace=False)\n",
       "      (6): Linear(in_features=50, out_features=3, bias=True)\n",
       "    )\n",
       "  )\n",
       ")], add_time=True, silent=False)\n",
       "alpha: 2.0\n",
       "beta: 1.0], layer_groups=[Sequential(\n",
       "  (0): Embedding(3608, 400, padding_idx=1)\n",
       "  (1): EmbeddingDropout(\n",
       "    (emb): Embedding(3608, 400, padding_idx=1)\n",
       "  )\n",
       "), Sequential(\n",
       "  (0): WeightDropout(\n",
       "    (module): LSTM(400, 1152, batch_first=True)\n",
       "  )\n",
       "  (1): RNNDropout()\n",
       "), Sequential(\n",
       "  (0): WeightDropout(\n",
       "    (module): LSTM(1152, 1152, batch_first=True)\n",
       "  )\n",
       "  (1): RNNDropout()\n",
       "), Sequential(\n",
       "  (0): WeightDropout(\n",
       "    (module): LSTM(1152, 400, batch_first=True)\n",
       "  )\n",
       "  (1): RNNDropout()\n",
       "), Sequential(\n",
       "  (0): PoolingLinearClassifier(\n",
       "    (layers): Sequential(\n",
       "      (0): BatchNorm1d(1200, eps=1e-05, momentum=0.1, affine=True, track_running_stats=True)\n",
       "      (1): Dropout(p=0.2, inplace=False)\n",
       "      (2): Linear(in_features=1200, out_features=50, bias=True)\n",
       "      (3): ReLU(inplace=True)\n",
       "      (4): BatchNorm1d(50, eps=1e-05, momentum=0.1, affine=True, track_running_stats=True)\n",
       "      (5): Dropout(p=0.1, inplace=False)\n",
       "      (6): Linear(in_features=50, out_features=3, bias=True)\n",
       "    )\n",
       "  )\n",
       ")], add_time=True, silent=False)"
      ]
     },
     "execution_count": 288,
     "metadata": {
      "tags": []
     },
     "output_type": "execute_result"
    }
   ],
   "source": [
    "# after the LM is fine-tuned on the target task, we run the text_classifier_learner to start training the classifier\n",
    "# on the target task (classification of tweets)\n",
    "learn = text_classifier_learner(data_clas, AWD_LSTM, drop_mult=0.5)\n",
    "learn.load_encoder('ft_enc')\n"
   ]
  },
  {
   "cell_type": "code",
   "execution_count": 289,
   "metadata": {
    "colab": {
     "base_uri": "https://localhost:8080/",
     "height": 372
    },
    "colab_type": "code",
    "id": "a67KgDVqZ4Vj",
    "outputId": "bc51d593-7b0d-4f6c-8bb3-b4d22cdb381c"
   },
   "outputs": [
    {
     "data": {
      "text/html": [
       "\n",
       "    <div>\n",
       "        <style>\n",
       "            /* Turns off some styling */\n",
       "            progress {\n",
       "                /* gets rid of default border in Firefox and Opera. */\n",
       "                border: none;\n",
       "                /* Needs to be in here for Safari polyfill so background images work as expected. */\n",
       "                background-size: auto;\n",
       "            }\n",
       "            .progress-bar-interrupted, .progress-bar-interrupted::-webkit-progress-bar {\n",
       "                background: #F44336;\n",
       "            }\n",
       "        </style>\n",
       "      <progress value='0' class='' max='1' style='width:300px; height:20px; vertical-align: middle;'></progress>\n",
       "      0.00% [0/1 00:00<00:00]\n",
       "    </div>\n",
       "    \n",
       "<table border=\"1\" class=\"dataframe\">\n",
       "  <thead>\n",
       "    <tr style=\"text-align: left;\">\n",
       "      <th>epoch</th>\n",
       "      <th>train_loss</th>\n",
       "      <th>valid_loss</th>\n",
       "      <th>accuracy</th>\n",
       "      <th>time</th>\n",
       "    </tr>\n",
       "  </thead>\n",
       "  <tbody>\n",
       "  </tbody>\n",
       "</table><p>\n",
       "\n",
       "    <div>\n",
       "        <style>\n",
       "            /* Turns off some styling */\n",
       "            progress {\n",
       "                /* gets rid of default border in Firefox and Opera. */\n",
       "                border: none;\n",
       "                /* Needs to be in here for Safari polyfill so background images work as expected. */\n",
       "                background-size: auto;\n",
       "            }\n",
       "            .progress-bar-interrupted, .progress-bar-interrupted::-webkit-progress-bar {\n",
       "                background: #F44336;\n",
       "            }\n",
       "        </style>\n",
       "      <progress value='96' class='' max='187' style='width:300px; height:20px; vertical-align: middle;'></progress>\n",
       "      51.34% [96/187 00:51<00:49 1.8991]\n",
       "    </div>\n",
       "    "
      ],
      "text/plain": [
       "<IPython.core.display.HTML object>"
      ]
     },
     "metadata": {
      "tags": []
     },
     "output_type": "display_data"
    },
    {
     "name": "stdout",
     "output_type": "stream",
     "text": [
      "LR Finder is complete, type {learner_name}.recorder.plot() to see the graph.\n"
     ]
    },
    {
     "data": {
      "image/png": "[encoded data removed]",
      "text/plain": [
       "<Figure size 432x288 with 1 Axes>"
      ]
     },
     "metadata": {
      "needs_background": "light",
      "tags": []
     },
     "output_type": "display_data"
    }
   ],
   "source": [
    "learn.lr_find()\n",
    "learn.recorder.plot()"
   ]
  },
  {
   "cell_type": "markdown",
   "metadata": {
    "colab_type": "text",
    "id": "hKS4bgwiqUhd"
   },
   "source": [
    "For training the model, \n",
    "- we’ll first train the  decoder.\n",
    "- Then we’ll unfreeze one layer after another—this approach was found to give better results for text classification models"
   ]
  },
  {
   "cell_type": "code",
   "execution_count": 290,
   "metadata": {
    "colab": {
     "base_uri": "https://localhost:8080/",
     "height": 258
    },
    "colab_type": "code",
    "id": "iaFQgw7fbKv2",
    "outputId": "483f56ea-40be-4527-f7a5-db341b856dea"
   },
   "outputs": [
    {
     "data": {
      "text/html": [
       "<table border=\"1\" class=\"dataframe\">\n",
       "  <thead>\n",
       "    <tr style=\"text-align: left;\">\n",
       "      <th>epoch</th>\n",
       "      <th>train_loss</th>\n",
       "      <th>valid_loss</th>\n",
       "      <th>accuracy</th>\n",
       "      <th>time</th>\n",
       "    </tr>\n",
       "  </thead>\n",
       "  <tbody>\n",
       "    <tr>\n",
       "      <td>0</td>\n",
       "      <td>0.201211</td>\n",
       "      <td>0.298630</td>\n",
       "      <td>0.871595</td>\n",
       "      <td>02:58</td>\n",
       "    </tr>\n",
       "  </tbody>\n",
       "</table>"
      ],
      "text/plain": [
       "<IPython.core.display.HTML object>"
      ]
     },
     "metadata": {
      "tags": []
     },
     "output_type": "display_data"
    },
    {
     "data": {
      "text/html": [
       "<table border=\"1\" class=\"dataframe\">\n",
       "  <thead>\n",
       "    <tr style=\"text-align: left;\">\n",
       "      <th>epoch</th>\n",
       "      <th>train_loss</th>\n",
       "      <th>valid_loss</th>\n",
       "      <th>accuracy</th>\n",
       "      <th>time</th>\n",
       "    </tr>\n",
       "  </thead>\n",
       "  <tbody>\n",
       "    <tr>\n",
       "      <td>0</td>\n",
       "      <td>0.066477</td>\n",
       "      <td>0.025256</td>\n",
       "      <td>0.992525</td>\n",
       "      <td>03:23</td>\n",
       "    </tr>\n",
       "  </tbody>\n",
       "</table>"
      ],
      "text/plain": [
       "<IPython.core.display.HTML object>"
      ]
     },
     "metadata": {
      "tags": []
     },
     "output_type": "display_data"
    },
    {
     "data": {
      "text/html": [
       "<table border=\"1\" class=\"dataframe\">\n",
       "  <thead>\n",
       "    <tr style=\"text-align: left;\">\n",
       "      <th>epoch</th>\n",
       "      <th>train_loss</th>\n",
       "      <th>valid_loss</th>\n",
       "      <th>accuracy</th>\n",
       "      <th>time</th>\n",
       "    </tr>\n",
       "  </thead>\n",
       "  <tbody>\n",
       "    <tr>\n",
       "      <td>0</td>\n",
       "      <td>0.070366</td>\n",
       "      <td>0.018730</td>\n",
       "      <td>0.993189</td>\n",
       "      <td>05:33</td>\n",
       "    </tr>\n",
       "  </tbody>\n",
       "</table>"
      ],
      "text/plain": [
       "<IPython.core.display.HTML object>"
      ]
     },
     "metadata": {
      "tags": []
     },
     "output_type": "display_data"
    },
    {
     "data": {
      "text/html": [
       "<table border=\"1\" class=\"dataframe\">\n",
       "  <thead>\n",
       "    <tr style=\"text-align: left;\">\n",
       "      <th>epoch</th>\n",
       "      <th>train_loss</th>\n",
       "      <th>valid_loss</th>\n",
       "      <th>accuracy</th>\n",
       "      <th>time</th>\n",
       "    </tr>\n",
       "  </thead>\n",
       "  <tbody>\n",
       "    <tr>\n",
       "      <td>0</td>\n",
       "      <td>0.052209</td>\n",
       "      <td>0.019984</td>\n",
       "      <td>0.992857</td>\n",
       "      <td>06:36</td>\n",
       "    </tr>\n",
       "  </tbody>\n",
       "</table>"
      ],
      "text/plain": [
       "<IPython.core.display.HTML object>"
      ]
     },
     "metadata": {
      "tags": []
     },
     "output_type": "display_data"
    }
   ],
   "source": [
    "learn.fit_one_cycle(1, 1e-2)\n",
    "\n",
    "# unfreeze one layer group and train another epoch\n",
    "learn.freeze_to(-2)\n",
    "learn.fit_one_cycle(1, slice(5e-3/2., 5e-3))\n",
    "\n",
    "learn.freeze_to(-3)\n",
    "learn.fit_one_cycle(1, slice(5e-3/2., 5e-3))\n",
    "\n",
    "learn.unfreeze()\n",
    "learn.fit_one_cycle(1, slice(2e-3/100, 2e-3))"
   ]
  },
  {
   "cell_type": "markdown",
   "metadata": {
    "colab_type": "text",
    "id": "Q155cTaFcdeW"
   },
   "source": [
    "With our model trained, we can now make predictions :"
   ]
  },
  {
   "cell_type": "code",
   "execution_count": 297,
   "metadata": {
    "colab": {
     "base_uri": "https://localhost:8080/",
     "height": 33
    },
    "colab_type": "code",
    "id": "pZbFTOI8Q6If",
    "outputId": "cbe0e4f5-5714-49aa-fc8e-5c39fce86ea7"
   },
   "outputs": [
    {
     "data": {
      "text/plain": [
       "(Category tensor(1), tensor(1), tensor([4.4446e-05, 9.9955e-01, 4.0940e-04]))"
      ]
     },
     "execution_count": 297,
     "metadata": {
      "tags": []
     },
     "output_type": "execute_result"
    }
   ],
   "source": [
    "learn.predict(\"I really loved the dress\")"
   ]
  },
  {
   "cell_type": "markdown",
   "metadata": {
    "colab_type": "text",
    "id": "4bn4XWPoagXb"
   },
   "source": [
    "This is predicted as ‘1’, positive review. "
   ]
  },
  {
   "cell_type": "code",
   "execution_count": 302,
   "metadata": {
    "colab": {
     "base_uri": "https://localhost:8080/",
     "height": 33
    },
    "colab_type": "code",
    "id": "rBmvqX4uajJ8",
    "outputId": "d313f9a1-77ef-480f-f19f-2819e3629108"
   },
   "outputs": [
    {
     "data": {
      "text/plain": [
       "(Category tensor(1), tensor(1), tensor([6.2516e-05, 9.9977e-01, 1.6370e-04]))"
      ]
     },
     "execution_count": 302,
     "metadata": {
      "tags": []
     },
     "output_type": "execute_result"
    }
   ],
   "source": [
    "learn.predict(\"thanks for the gift\")"
   ]
  }
 ],
 "metadata": {
  "colab": {
   "collapsed_sections": [],
   "name": "Challenge 2.ipynb",
   "provenance": []
  },
  "kernelspec": {
   "display_name": "Python 3",
   "language": "python",
   "name": "python3"
  },
  "language_info": {
   "codemirror_mode": {
    "name": "ipython",
    "version": 3
   },
   "file_extension": ".py",
   "mimetype": "text/x-python",
   "name": "python",
   "nbconvert_exporter": "python",
   "pygments_lexer": "ipython3",
   "version": "3.7.3"
  }
 },
 "nbformat": 4,
 "nbformat_minor": 1
}
